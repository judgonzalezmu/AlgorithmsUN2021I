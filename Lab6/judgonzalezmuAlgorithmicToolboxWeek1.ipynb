{
  "nbformat": 4,
  "nbformat_minor": 0,
  "metadata": {
    "colab": {
      "name": "judgonzalezmuAlgorithmicToolboxWeek1.ipynb",
      "provenance": [],
      "collapsed_sections": [
        "e7KhxHGNS3i0",
        "IeZ3kTjpYmR9",
        "XPVHkHxH6_7s",
        "PRX51wADNR8b",
        "683gc3roHqzb",
        "36Ugn1odIeJz",
        "bhqiKQG6fjKM"
      ]
    },
    "kernelspec": {
      "name": "python3",
      "display_name": "Python 3"
    },
    "language_info": {
      "name": "python"
    }
  },
  "cells": [
    {
      "cell_type": "markdown",
      "metadata": {
        "id": "N1ok_-56OjB1"
      },
      "source": [
        "# I Solving the Sum of Two Digits Programming Challenge"
      ]
    },
    {
      "cell_type": "markdown",
      "metadata": {
        "id": "MMY7kmDSO0KM"
      },
      "source": [
        "## C++"
      ]
    },
    {
      "cell_type": "code",
      "metadata": {
        "colab": {
          "base_uri": "https://localhost:8080/"
        },
        "id": "2pGGf9BkPNIk",
        "outputId": "d2003cbc-9382-430e-c39e-cc5cd25568cd"
      },
      "source": [
        "%%writefile APlusB.cpp\n",
        "#include <iostream>\n",
        "\n",
        "int sum_of_two_digits(int first_digit, int second_digit) {\n",
        "    return first_digit + second_digit;\n",
        "}\n",
        "\n",
        "int main() {\n",
        "    int a = 0;\n",
        "    int b = 0;\n",
        "    std::cin >> a;\n",
        "    std::cin >> b;\n",
        "    std::cout << sum_of_two_digits(a, b);\n",
        "    return 0;\n",
        "}"
      ],
      "execution_count": 1,
      "outputs": [
        {
          "output_type": "stream",
          "text": [
            "Writing APlusB.cpp\n"
          ],
          "name": "stdout"
        }
      ]
    },
    {
      "cell_type": "code",
      "metadata": {
        "colab": {
          "base_uri": "https://localhost:8080/"
        },
        "id": "0G3ZKOYAPXSU",
        "outputId": "468b63ee-8aa3-4926-8e34-67c5a5981018"
      },
      "source": [
        "!g++ APlusB.cpp -o APlusB\n",
        "!./APlusB"
      ],
      "execution_count": 2,
      "outputs": [
        {
          "output_type": "stream",
          "text": [
            "5 9\n",
            "14"
          ],
          "name": "stdout"
        }
      ]
    },
    {
      "cell_type": "markdown",
      "metadata": {
        "id": "iNkG2HqfTl9c"
      },
      "source": [
        "### Test input output files"
      ]
    },
    {
      "cell_type": "code",
      "metadata": {
        "colab": {
          "base_uri": "https://localhost:8080/"
        },
        "id": "aTzU2efzMxly",
        "outputId": "cee4bd76-d25e-43db-8a1d-0d4d162ab4c2"
      },
      "source": [
        "%%writefile input1.txt\n",
        "4 8"
      ],
      "execution_count": 3,
      "outputs": [
        {
          "output_type": "stream",
          "text": [
            "Writing input1.txt\n"
          ],
          "name": "stdout"
        }
      ]
    },
    {
      "cell_type": "markdown",
      "metadata": {
        "id": "pdkfsvs-T0Wr"
      },
      "source": [
        ""
      ]
    },
    {
      "cell_type": "code",
      "metadata": {
        "colab": {
          "base_uri": "https://localhost:8080/"
        },
        "id": "zBJ0Gc0NQRet",
        "outputId": "b4617f1f-5960-449a-80be-cba791a4dfdf"
      },
      "source": [
        "%%writefile output1.txt\n",
        "12"
      ],
      "execution_count": 4,
      "outputs": [
        {
          "output_type": "stream",
          "text": [
            "Writing output1.txt\n"
          ],
          "name": "stdout"
        }
      ]
    },
    {
      "cell_type": "code",
      "metadata": {
        "colab": {
          "base_uri": "https://localhost:8080/"
        },
        "id": "IjEcIx63PJAN",
        "outputId": "82160559-1919-4bb3-e745-89ded30695c8"
      },
      "source": [
        "%%writefile input2.txt\n",
        "-5 9"
      ],
      "execution_count": 5,
      "outputs": [
        {
          "output_type": "stream",
          "text": [
            "Writing input2.txt\n"
          ],
          "name": "stdout"
        }
      ]
    },
    {
      "cell_type": "code",
      "metadata": {
        "colab": {
          "base_uri": "https://localhost:8080/"
        },
        "id": "Up9gOrxURTmd",
        "outputId": "cebfe528-5cf6-43ae-b927-4e52c7cb4b15"
      },
      "source": [
        "%%writefile output2.txt\n",
        "4"
      ],
      "execution_count": 6,
      "outputs": [
        {
          "output_type": "stream",
          "text": [
            "Writing output2.txt\n"
          ],
          "name": "stdout"
        }
      ]
    },
    {
      "cell_type": "code",
      "metadata": {
        "colab": {
          "base_uri": "https://localhost:8080/"
        },
        "id": "PST6G-s-Pwgc",
        "outputId": "64e8f46e-7758-4146-9e42-729f04095f36"
      },
      "source": [
        "!./APlusB < input1.txt"
      ],
      "execution_count": 7,
      "outputs": [
        {
          "output_type": "stream",
          "text": [
            "12"
          ],
          "name": "stdout"
        }
      ]
    },
    {
      "cell_type": "code",
      "metadata": {
        "colab": {
          "base_uri": "https://localhost:8080/"
        },
        "id": "cKxZOjSlRfIN",
        "outputId": "361a7b6c-d18f-4845-e659-9f0ef0d7d5d1"
      },
      "source": [
        "!./APlusB < input2.txt"
      ],
      "execution_count": 8,
      "outputs": [
        {
          "output_type": "stream",
          "text": [
            "4"
          ],
          "name": "stdout"
        }
      ]
    },
    {
      "cell_type": "markdown",
      "metadata": {
        "id": "Qw2TQWCCUwqk"
      },
      "source": [
        "### Comparing files with grep\n",
        "\n",
        "https://askubuntu.com/questions/546796/comparing-two-text-files"
      ]
    },
    {
      "cell_type": "code",
      "metadata": {
        "id": "WVIaAmMKU4QM"
      },
      "source": [
        "!grep -xvFf output1.txt output1.txt "
      ],
      "execution_count": 9,
      "outputs": []
    },
    {
      "cell_type": "code",
      "metadata": {
        "colab": {
          "base_uri": "https://localhost:8080/"
        },
        "id": "MQU8gPPjQuYO",
        "outputId": "ccb43f38-dfd1-4093-e43a-c8c0f945279b"
      },
      "source": [
        "!grep -xvFf output1.txt output2.txt "
      ],
      "execution_count": 10,
      "outputs": [
        {
          "output_type": "stream",
          "text": [
            "4\n"
          ],
          "name": "stdout"
        }
      ]
    },
    {
      "cell_type": "code",
      "metadata": {
        "colab": {
          "base_uri": "https://localhost:8080/"
        },
        "id": "jYL9OuYBTD_l",
        "outputId": "683e75aa-9ffa-4758-b585-e9d8a4e019d0"
      },
      "source": [
        "!grep -xvFf output2.txt output1.txt "
      ],
      "execution_count": 11,
      "outputs": [
        {
          "output_type": "stream",
          "text": [
            "12\n"
          ],
          "name": "stdout"
        }
      ]
    },
    {
      "cell_type": "code",
      "metadata": {
        "id": "Jlja0Xm4TX9M"
      },
      "source": [
        "!./APlusB < input1.txt> ctest1.txt\n",
        "!grep -xvFf output1.txt ctest1.txt"
      ],
      "execution_count": 12,
      "outputs": []
    },
    {
      "cell_type": "code",
      "metadata": {
        "id": "g9OIUZA_QLCQ"
      },
      "source": [
        "!./APlusB < input2.txt > ctest2.txt\n",
        "!grep -xvFf output2.txt ctest2.txt"
      ],
      "execution_count": 13,
      "outputs": []
    },
    {
      "cell_type": "markdown",
      "metadata": {
        "id": "3BgOaDjUVJk6"
      },
      "source": [
        "## Python"
      ]
    },
    {
      "cell_type": "code",
      "metadata": {
        "colab": {
          "base_uri": "https://localhost:8080/"
        },
        "id": "DBvl-T0CTN_8",
        "outputId": "42cf0b78-0412-42c1-e1f7-3f6be21183de"
      },
      "source": [
        "%%writefile sum.py\n",
        "# python3\n",
        "\n",
        "def sum_of_two_digits(first_digit, second_digit):\n",
        "    return first_digit + second_digit\n",
        "\n",
        "if __name__ == '__main__':\n",
        "    a, b = map(int, input().split())\n",
        "    print(sum_of_two_digits(a, b))"
      ],
      "execution_count": 14,
      "outputs": [
        {
          "output_type": "stream",
          "text": [
            "Writing sum.py\n"
          ],
          "name": "stdout"
        }
      ]
    },
    {
      "cell_type": "code",
      "metadata": {
        "colab": {
          "base_uri": "https://localhost:8080/"
        },
        "id": "QKoKM11_WGyF",
        "outputId": "f24747a4-d5bf-4d53-ef23-cf3921e134a6"
      },
      "source": [
        "!python sum.py"
      ],
      "execution_count": 15,
      "outputs": [
        {
          "output_type": "stream",
          "text": [
            "5 9\n",
            "14\n"
          ],
          "name": "stdout"
        }
      ]
    },
    {
      "cell_type": "code",
      "metadata": {
        "id": "cocFbPRTWrqt"
      },
      "source": [
        "!python sum.py  < input1.txt> ptest1.txt\n",
        "!grep -xvFf output1.txt ptest1.txt"
      ],
      "execution_count": 16,
      "outputs": []
    },
    {
      "cell_type": "code",
      "metadata": {
        "id": "MorKTa-XXASN"
      },
      "source": [
        "!python sum.py  < input2.txt> ptest2.txt\n",
        "!grep -xvFf output2.txt ptest2.txt"
      ],
      "execution_count": 17,
      "outputs": []
    },
    {
      "cell_type": "markdown",
      "metadata": {
        "id": "uvP-mOubW_5F"
      },
      "source": [
        "# II Solving The Maximum Pairwise Product Programming Challenge in C++"
      ]
    },
    {
      "cell_type": "markdown",
      "metadata": {
        "id": "C12yoFR6Xonl"
      },
      "source": [
        "## C++"
      ]
    },
    {
      "cell_type": "code",
      "metadata": {
        "colab": {
          "base_uri": "https://localhost:8080/"
        },
        "id": "YL4qJX3tXxdd",
        "outputId": "0855f6ed-f817-401d-f3a7-67946b33a1a1"
      },
      "source": [
        "%%writefile max_pairwise_product.cpp\n",
        "#include <iostream>\n",
        "#include <vector>\n",
        "#include <algorithm>\n",
        "\n",
        "int MaxPairwiseProduct(const std::vector<int>& numbers) {\n",
        "    int max_product = 0;\n",
        "    int n = numbers.size();\n",
        "\n",
        "    for (int first = 0; first < n; ++first) {\n",
        "        for (int second = first + 1; second < n; ++second) {\n",
        "            max_product = std::max(max_product,\n",
        "                numbers[first] * numbers[second]);\n",
        "        }\n",
        "    }\n",
        "\n",
        "    return max_product;\n",
        "}\n",
        "\n",
        "int main() {\n",
        "    int n;\n",
        "    std::cin >> n;\n",
        "    std::vector<int> numbers(n);\n",
        "    for (int i = 0; i < n; ++i) {\n",
        "        std::cin >> numbers[i];\n",
        "    }\n",
        "\n",
        "    std::cout << MaxPairwiseProduct(numbers) << \"\\n\";\n",
        "    return 0;\n",
        "}\n"
      ],
      "execution_count": 18,
      "outputs": [
        {
          "output_type": "stream",
          "text": [
            "Writing max_pairwise_product.cpp\n"
          ],
          "name": "stdout"
        }
      ]
    },
    {
      "cell_type": "code",
      "metadata": {
        "colab": {
          "base_uri": "https://localhost:8080/"
        },
        "id": "KGxaEjvWX__O",
        "outputId": "daa9f7fd-99d6-47db-b52c-24f836c20ce2"
      },
      "source": [
        "!g++ max_pairwise_product.cpp -o max_pairwise_product\n",
        "!./max_pairwise_product"
      ],
      "execution_count": 19,
      "outputs": [
        {
          "output_type": "stream",
          "text": [
            "5\n",
            "1 9 4 8 7\n",
            "72\n"
          ],
          "name": "stdout"
        }
      ]
    },
    {
      "cell_type": "markdown",
      "metadata": {
        "id": "e7KhxHGNS3i0"
      },
      "source": [
        "### Test 1: Small numbers"
      ]
    },
    {
      "cell_type": "code",
      "metadata": {
        "colab": {
          "base_uri": "https://localhost:8080/"
        },
        "id": "e1mmTzBgShT-",
        "outputId": "05bc9fbd-f7b9-48c1-b01a-f5f6d762c134"
      },
      "source": [
        "%%writefile input1.txt\n",
        "10\n",
        "1 2 3 4 5 6 7 8 9 10"
      ],
      "execution_count": 20,
      "outputs": [
        {
          "output_type": "stream",
          "text": [
            "Overwriting input1.txt\n"
          ],
          "name": "stdout"
        }
      ]
    },
    {
      "cell_type": "code",
      "metadata": {
        "colab": {
          "base_uri": "https://localhost:8080/"
        },
        "id": "vy_uI0x7TCId",
        "outputId": "04fc7cbf-2a8b-4ebd-f0c0-c399a5609a16"
      },
      "source": [
        "!./max_pairwise_product < input1.txt"
      ],
      "execution_count": 21,
      "outputs": [
        {
          "output_type": "stream",
          "text": [
            "90\n"
          ],
          "name": "stdout"
        }
      ]
    },
    {
      "cell_type": "markdown",
      "metadata": {
        "id": "IeZ3kTjpYmR9"
      },
      "source": [
        "### Test 2: largest input numbers 200000 200000 in the input"
      ]
    },
    {
      "cell_type": "code",
      "metadata": {
        "colab": {
          "base_uri": "https://localhost:8080/"
        },
        "id": "LQNlZqaqYt7U",
        "outputId": "f8a13150-1621-454d-c1fd-cde81d68c283"
      },
      "source": [
        "%%writefile input2.txt\n",
        "6\n",
        "1 3 200000 9 200000 23"
      ],
      "execution_count": 22,
      "outputs": [
        {
          "output_type": "stream",
          "text": [
            "Overwriting input2.txt\n"
          ],
          "name": "stdout"
        }
      ]
    },
    {
      "cell_type": "code",
      "metadata": {
        "colab": {
          "base_uri": "https://localhost:8080/"
        },
        "id": "2Wad2VZUZDxR",
        "outputId": "c1997e73-5468-44bd-e1ff-cbeccd086cfd"
      },
      "source": [
        "!./max_pairwise_product < input2.txt"
      ],
      "execution_count": 23,
      "outputs": [
        {
          "output_type": "stream",
          "text": [
            "1345294336\n"
          ],
          "name": "stdout"
        }
      ]
    },
    {
      "cell_type": "markdown",
      "metadata": {
        "id": "H2SC0Qt5HCzz"
      },
      "source": [
        "Changing the variables to long long"
      ]
    },
    {
      "cell_type": "code",
      "metadata": {
        "colab": {
          "base_uri": "https://localhost:8080/"
        },
        "id": "MPcmsxiQZSfE",
        "outputId": "80608f91-86d5-412d-f657-7fcf5586c603"
      },
      "source": [
        "%%writefile max_pairwise_product_long.cpp\n",
        "#include <iostream>\n",
        "#include <vector>\n",
        "#include <algorithm>\n",
        "\n",
        "long long MaxPairwiseProduct(const std::vector<int>& numbers) {\n",
        "    long long max_product = 0LL;\n",
        "\t  long long aux_product = 0LL;\n",
        "    int n = numbers.size();\n",
        "\n",
        "    for (int first = 0; first < n; ++first) {\n",
        "        for (int second = first + 1; second < n; ++second) {\n",
        "\t\t\t       aux_product =  (long long) numbers[first] * numbers[second];\n",
        "            if ( max_product < aux_product)  {\n",
        "\t\t\t\t        max_product = aux_product;\n",
        "             }\n",
        "        }\n",
        "    }\n",
        "\n",
        "    return max_product;\n",
        "}\n",
        "\n",
        "int main() {\n",
        "    int n;\n",
        "    std::cin >> n;\n",
        "    std::vector<int> numbers(n);\n",
        "    for (int i = 0; i < n; ++i) {\n",
        "        std::cin >> numbers[i];\n",
        "    }\n",
        "\n",
        "    std::cout << MaxPairwiseProduct(numbers) << \"\\n\";\n",
        "    return 0;\n",
        "}\n"
      ],
      "execution_count": 24,
      "outputs": [
        {
          "output_type": "stream",
          "text": [
            "Writing max_pairwise_product_long.cpp\n"
          ],
          "name": "stdout"
        }
      ]
    },
    {
      "cell_type": "code",
      "metadata": {
        "colab": {
          "base_uri": "https://localhost:8080/"
        },
        "id": "I5pCeOG1Zm7s",
        "outputId": "d63b32d7-74bb-4892-85a1-07fdb803cd24"
      },
      "source": [
        "!g++ max_pairwise_product_long.cpp -o max_pairwise_product_long\n",
        "!./max_pairwise_product_long < input1.txt\n",
        "!./max_pairwise_product_long < input2.txt"
      ],
      "execution_count": 25,
      "outputs": [
        {
          "output_type": "stream",
          "text": [
            "90\n",
            "40000000000\n"
          ],
          "name": "stdout"
        }
      ]
    },
    {
      "cell_type": "markdown",
      "metadata": {
        "id": "XPVHkHxH6_7s"
      },
      "source": [
        "### Test 3  stress tests 20  times  random n in [2, 20] "
      ]
    },
    {
      "cell_type": "code",
      "metadata": {
        "colab": {
          "base_uri": "https://localhost:8080/"
        },
        "id": "53aO-8r4abY2",
        "outputId": "4498255c-741c-4fe2-a156-1b625340b8b1"
      },
      "source": [
        "%%writefile max_pairwise_product_stress_test.cpp\n",
        "#include <cstdlib>\n",
        "#include <iostream>\n",
        "#include <vector>\n",
        "\n",
        "using std::vector;\n",
        "using std::cin;\n",
        "using std::cout;\n",
        "\n",
        "long long MaxPairwiseProduct(const std::vector<int>& numbers) {\n",
        "    long long max_product = 0LL;\n",
        "    long long aux_product = 0LL;\n",
        "    int n = numbers.size();\n",
        "\n",
        "    for (int first = 0; first < n; ++first)\n",
        "    {\n",
        "        for (int second = first + 1; second < n; ++second)\n",
        "        {\n",
        "            aux_product =  (long long) numbers[first] * numbers[second];\n",
        "\n",
        "            if ( max_product < aux_product)\n",
        "            {\n",
        "\t\t\t\t        max_product = aux_product;\n",
        "            }\n",
        "        }\n",
        "    }\n",
        "\n",
        "    return max_product;\n",
        "}\n",
        "\n",
        "long long MaxPairwiseProductRap(const vector<int> & numbers)\n",
        "{\n",
        "    int n=numbers.size();\n",
        "\n",
        "    int max_ind1=-1;\n",
        "    for(int i=0;i<n;i++)\n",
        "    {\n",
        "        if((max_ind1==-1) || (numbers[i]>numbers[max_ind1]))\n",
        "            max_ind1=i;\n",
        "    }\n",
        "\n",
        "    int max_ind2=-1;\n",
        "    for(int j=0;j<n;j++)\n",
        "    {\n",
        "        if((j!=max_ind1) && ((max_ind2==-1) || (numbers[j]>numbers[max_ind2])))\n",
        "            max_ind2=j;\n",
        "    }\n",
        "\n",
        "    return ((long long)(numbers[max_ind1]))*numbers[max_ind2];\n",
        "}\n",
        "\n",
        "int main()\n",
        "{\n",
        "    int cont=0;\n",
        "    while(cont!=20)\n",
        "    {\n",
        "        int n=2+rand()%(21-2);\n",
        "        cout<<n<<\"\\n\";\n",
        "        vector<int> a;\n",
        "        for(int i=0;i<n;i++)\n",
        "        {\n",
        "            a.push_back(rand() % 200001);\n",
        "        }\n",
        "        for(int i=0;i<n;i++)\n",
        "        {\n",
        "            cout<<a[i]<<' ';\n",
        "        }\n",
        "        cout<<\"\\n\";\n",
        "        long long res1=MaxPairwiseProduct(a);\n",
        "        long long res2=MaxPairwiseProductRap(a);\n",
        "        if(res1!=res2)\n",
        "        {\n",
        "            cout<<\"Incorrecto: \"<<res1<<' '<<res2<<\"\\n\";\n",
        "            cont++;\n",
        "        }\n",
        "        else\n",
        "        {\n",
        "            cout<<\"OK\\n\";\n",
        "            cont++;\n",
        "        }\n",
        "    }\n",
        "    return 0;\n",
        "}"
      ],
      "execution_count": 26,
      "outputs": [
        {
          "output_type": "stream",
          "text": [
            "Writing max_pairwise_product_stress_test.cpp\n"
          ],
          "name": "stdout"
        }
      ]
    },
    {
      "cell_type": "code",
      "metadata": {
        "colab": {
          "base_uri": "https://localhost:8080/"
        },
        "id": "mMOCsAPHdR_u",
        "outputId": "4a744b5d-e888-46b6-c238-85c7759f9de4"
      },
      "source": [
        "!g++ max_pairwise_product_stress_test.cpp -o max_pairwise_product_stress_test\n",
        "!./max_pairwise_product_stress_test"
      ],
      "execution_count": 27,
      "outputs": [
        {
          "output_type": "stream",
          "text": [
            "4\n",
            "126652 84369 28342 138005 \n",
            "OK\n",
            "10\n",
            "81787 152244 113667 35473 197237 83275 164774 114547 87539 104089 \n",
            "OK\n",
            "9\n",
            "175725 87652 49219 5036 192761 101094 147795 64100 17225 \n",
            "OK\n",
            "8\n",
            "63955 163342 100792 108422 170793 27444 119880 126224 \n",
            "OK\n",
            "7\n",
            "156094 8011 171871 69760 170574 169107 80124 \n",
            "OK\n",
            "3\n",
            "10742 94753 166526 \n",
            "OK\n",
            "11\n",
            "197567 54177 160766 2602 174028 61859 150398 38127 6173 198956 102082 \n",
            "OK\n",
            "18\n",
            "99747 10503 67397 127191 57473 120710 146818 13566 55810 118688 10416 153474 14883 90540 88820 25626 112382 182435 \n",
            "OK\n",
            "2\n",
            "109949 163702 \n",
            "OK\n",
            "15\n",
            "112551 137729 86885 190038 102945 93059 188993 5026 189663 88740 142619 184149 143020 91 31948 \n",
            "OK\n",
            "7\n",
            "140748 87758 135615 78253 41231 150499 95882 \n",
            "OK\n",
            "15\n",
            "103214 8264 166665 167475 118213 57455 192502 157853 122273 6475 147891 25217 26623 136883 157333 \n",
            "OK\n",
            "13\n",
            "152712 99952 127524 95732 27132 86561 112659 94969 101409 175363 173222 69729 52950 \n",
            "OK\n",
            "6\n",
            "53959 156164 4457 20624 50728 122670 \n",
            "OK\n",
            "17\n",
            "43229 7611 127442 49704 155502 152659 76328 19474 109992 146793 99275 137033 1405 122096 91254 87967 34754 \n",
            "OK\n",
            "19\n",
            "189376 137207 86534 59104 190157 155638 40153 146321 87184 60777 124138 136943 65945 167367 144555 120476 144160 100056 73135 \n",
            "OK\n",
            "11\n",
            "46619 110216 94369 145895 174338 95775 67990 65591 183742 29834 51814 \n",
            "OK\n",
            "3\n",
            "167041 65438 86399 \n",
            "OK\n",
            "10\n",
            "21075 126552 30606 108260 114418 154744 45202 107453 49199 116846 \n",
            "OK\n",
            "7\n",
            "193360 143992 28152 68025 190611 65457 162395 \n",
            "OK\n"
          ],
          "name": "stdout"
        }
      ]
    },
    {
      "cell_type": "markdown",
      "metadata": {
        "id": "9z9yr5QkeyJF"
      },
      "source": [
        "### Test 4  time test  measure the execution time running with the largest worst case file (200000 increasing numbers, 200000 and 200000 the end) "
      ]
    },
    {
      "cell_type": "code",
      "metadata": {
        "id": "oLiMjbAIfPlX",
        "colab": {
          "base_uri": "https://localhost:8080/"
        },
        "outputId": "54bfdf91-2eaf-4a25-f640-0df18acaa1f4"
      },
      "source": [
        "%%writefile Test2Write.cpp\n",
        "\n",
        "#include <iostream>\n",
        "#include <fstream>\n",
        "#include <cstdlib>\n",
        "\n",
        "using namespace std;\n",
        "\n",
        "int main() {\n",
        "  // Create and open a text file\n",
        "  ofstream MyFile(\"input3.txt\");\n",
        "\n",
        " MyFile << 200000 <<\"\\n\";  // n \n",
        " for (int i=1; i < 200001; i++){\n",
        "     MyFile << i <<\" \";\n",
        " }\n",
        "  \n",
        "  // Close the file\n",
        "  MyFile.close();\n",
        "}"
      ],
      "execution_count": 28,
      "outputs": [
        {
          "output_type": "stream",
          "text": [
            "Writing Test2Write.cpp\n"
          ],
          "name": "stdout"
        }
      ]
    },
    {
      "cell_type": "code",
      "metadata": {
        "id": "EH25TkOkZfD9"
      },
      "source": [
        "!g++ Test2Write.cpp -o Test2Write\n",
        "!./Test2Write"
      ],
      "execution_count": 29,
      "outputs": []
    },
    {
      "cell_type": "markdown",
      "metadata": {
        "id": "JB6f03qO-lj9"
      },
      "source": [
        "Measure time\n",
        "\n",
        "https://askubuntu.com/questions/53444/how-can-i-measure-the-execution-time-of-a-terminal-process"
      ]
    },
    {
      "cell_type": "code",
      "metadata": {
        "colab": {
          "base_uri": "https://localhost:8080/"
        },
        "id": "6p2QLEr576zk",
        "outputId": "72a4c8c9-bd7a-4c69-b67e-d7ed231949dd"
      },
      "source": [
        "!g++ max_pairwise_product_long.cpp -o max_pairwise_product_long\n",
        "!time ./max_pairwise_product_long < input3.txt"
      ],
      "execution_count": 30,
      "outputs": [
        {
          "output_type": "stream",
          "text": [
            "39999800000\n",
            "\n",
            "real\t2m7.643s\n",
            "user\t2m7.404s\n",
            "sys\t0m0.024s\n"
          ],
          "name": "stdout"
        }
      ]
    },
    {
      "cell_type": "markdown",
      "metadata": {
        "id": "AmZeB2wYjxy5"
      },
      "source": [
        "##### Calculate  the number of instructions executed by the algorithm as a function of n, add in each line a comment with the number of instructions that are executed in that line \n",
        "\n",
        "```cpp\n",
        " int main() {                         //N inst exec by line executed  \n",
        "   \n",
        "    int n;                            //1                      \n",
        "    std::cin >> n;                    //1\n",
        "                                              \n",
        "    std::vector<int> numbers(n);      //n    init vector\n",
        "    .\n",
        "    .\n",
        " }\n",
        "\n",
        "```"
      ]
    },
    {
      "cell_type": "code",
      "metadata": {
        "colab": {
          "base_uri": "https://localhost:8080/"
        },
        "id": "djGX3FL13g9b",
        "outputId": "712091cf-755d-4f19-ddad-beae705c8751"
      },
      "source": [
        "%%writefile test_init_vectors.cpp\n",
        "#include <iostream>\n",
        "#include <vector>\n",
        "#include <algorithm>\n",
        "int main() {                                                               \n",
        "    int n = 10;                                                                                                                            //1\n",
        "    std::vector<int> numbers(n);          //1\n",
        "    for (int i = 0; i < n; ++i) {                                           \n",
        "        std::cout << numbers[i];                                             \n",
        "    }\n",
        "\n",
        "    std::cout << \"\\n\";                       \n",
        "    return 0;                                                              \n",
        "}  "
      ],
      "execution_count": 31,
      "outputs": [
        {
          "output_type": "stream",
          "text": [
            "Writing test_init_vectors.cpp\n"
          ],
          "name": "stdout"
        }
      ]
    },
    {
      "cell_type": "code",
      "metadata": {
        "colab": {
          "base_uri": "https://localhost:8080/"
        },
        "id": "44gZcuE237-1",
        "outputId": "b295e920-7f0a-4b66-c181-80a3458e5163"
      },
      "source": [
        "!g++ test_init_vectors.cpp -o test_init_vectors\n",
        "!./test_init_vectors"
      ],
      "execution_count": 32,
      "outputs": [
        {
          "output_type": "stream",
          "text": [
            "0000000000\n"
          ],
          "name": "stdout"
        }
      ]
    },
    {
      "cell_type": "code",
      "metadata": {
        "colab": {
          "base_uri": "https://localhost:8080/"
        },
        "id": "uG6Mv-Pwlkii",
        "outputId": "72298d1a-ce6f-44ce-82c1-80b9cdebf391"
      },
      "source": [
        "%%writefile max_pairwise_product_long.cpp\n",
        "#include <iostream>\n",
        "#include <vector>\n",
        "#include <algorithm>\n",
        "\n",
        "long long MaxPairwiseProduct(const std::vector<int>& numbers) {              //N inst exec by line executed \n",
        "    long long max_product = 0LL;                                             //1                                          \n",
        "\t  long long aux_product = 0LL;                                             //1 \n",
        "    int n = numbers.size();                                                  //1 \n",
        "                                                                             \n",
        "    for (int first = 0; first < n; ++first) {                                //1+2n  \n",
        "        for (int second = first + 1; second < n; ++second) {                 //n + (n-1)n \n",
        "\t\t\t       aux_product =  (long long) numbers[first] * numbers[second];    //(n-1)n/2 \n",
        "            if (max_product < aux_product)  {                                //(n-1)n/2 \n",
        "\t\t\t\t        max_product = aux_product;                                   //[0, (n-1)n/2] \n",
        "             }\n",
        "        }\n",
        "    }\n",
        "                                                                             // -------------- \n",
        "    return max_product;                                                      // 4 + 3n + [2(n-1)n, 2.5 (n-1)n] \n",
        "}\n",
        "\n",
        "int main() {                                              //N inst exec by line executed \n",
        "    int n;                                                //1  \n",
        "    std::cin >> n;                                        //1\n",
        "    std::vector<int> numbers(n);                          //n\n",
        "    for (int i = 0; i < n; ++i) {                         //1 + 2n\n",
        "        std::cin >> numbers[i];                           //n\n",
        "    }\n",
        "\n",
        "    std::cout << MaxPairwiseProduct(numbers) << \"\\n\";     //1 + 1  + 4 + 3n + [2(n-1)n, 2.5 (n-1)n]\n",
        "    return 0;                                             // -------------- \n",
        "}                                                         // 9 + 7n + [2(n-1)n, 2.5 (n-1)n]\n"
      ],
      "execution_count": 33,
      "outputs": [
        {
          "output_type": "stream",
          "text": [
            "Overwriting max_pairwise_product_long.cpp\n"
          ],
          "name": "stdout"
        }
      ]
    },
    {
      "cell_type": "markdown",
      "metadata": {
        "id": "0vTsUg8OwcHs"
      },
      "source": [
        "Count executed intructions in code and verify with inputs 1, 2 and 3"
      ]
    },
    {
      "cell_type": "code",
      "metadata": {
        "colab": {
          "base_uri": "https://localhost:8080/"
        },
        "id": "CuRKkqQc137V",
        "outputId": "af917376-3028-426c-8440-f79bdf32c248"
      },
      "source": [
        "%%writefile max_pairwise_product_long_execints.cpp\n",
        "#include <iostream>\n",
        "#include <vector>\n",
        "#include <algorithm>\n",
        "\n",
        "long long MaxPairwiseProduct(const std::vector<int>& numbers, long long &execints) {              //N inst exec by line executed \n",
        "    \n",
        "    long long m = 0LL;                                                       //1\n",
        "    \n",
        "    long long max_product = 0LL;                                             //1\n",
        "    execints++;\n",
        "\n",
        "\t  long long aux_product = 0LL;                                             //1\n",
        "    execints++;\n",
        "\n",
        "    int n = numbers.size();                                                  //1 \n",
        "    execints++;\n",
        "\n",
        "    execints++;                                                                         \n",
        "    for (int first = 0; first < n; ++first) {                                //1+2n  \n",
        "        execints += 2;\n",
        "\n",
        "        long long m = 0LL;\n",
        "\n",
        "        execints++;                                    \n",
        "        for (int second = first + 1; second < n; ++second) {                 //n+ (n-1)n \n",
        "            execints += 2;                                                \n",
        "\n",
        "\t\t\t      aux_product =  (long long) numbers[first] * numbers[second];    //(n-1)n/2 \n",
        "            execints++; \n",
        "\n",
        "            execints++; \n",
        "            if ( max_product < aux_product)  {                               //(n-1)n/2 \n",
        "                       \n",
        "\t\t\t\t        max_product = aux_product;                                   //[0, (n-1)n/2] \n",
        "                execints++; \n",
        "                m++;\n",
        "             }\n",
        "        }\n",
        "        if ( (first <= 10) || (n- first <= 10)) std::cout << m << \"\\n\";\n",
        "    }\n",
        "                                                                            // -------------- \n",
        "    return max_product;                                                     // 4 + 3n + [2(n-1)n, 2.5 (n-1)n] \n",
        "}\n",
        "\n",
        "int main() {                                                 //N inst exec by line executed \n",
        "    long long execints =0LL;\n",
        "\n",
        "    int n;                                                   //1\n",
        "    execints++;                                                              \n",
        "    \n",
        "    std::cin >> n;                                           //1\n",
        "    execints++;\n",
        "\n",
        "    std::vector<int> numbers(n);                             //n\n",
        "    execints += n;\n",
        "    \n",
        "    execints++;\n",
        "    for (int i = 0; i < n; ++i) {                            //1 + 2n\n",
        "        execints += 2;\n",
        "\n",
        "        std::cin >> numbers[i];\n",
        "        execints++;                                          //n\n",
        "    }\n",
        "    \n",
        "    //std::cout << MaxPairwiseProduct(numbers) << \"\\n\";      //1 + 1  + 4 + 3n + [2(n-1)n, 2.5 (n-1)n]\n",
        "\n",
        "    execints++;\n",
        "    int M = MaxPairwiseProduct(numbers,execints);\n",
        "\n",
        "    execints++;\n",
        "    std::cout <<  execints << \"\\n\";                       \n",
        "    return 0;                                                // -------------- \n",
        "}                                                            // 9 + 7n + [2(n-1)n, 2.5 (n-1)n]"
      ],
      "execution_count": 34,
      "outputs": [
        {
          "output_type": "stream",
          "text": [
            "Writing max_pairwise_product_long_execints.cpp\n"
          ],
          "name": "stdout"
        }
      ]
    },
    {
      "cell_type": "code",
      "metadata": {
        "colab": {
          "base_uri": "https://localhost:8080/"
        },
        "id": "Kuvm1C05ly2a",
        "outputId": "6dacaa86-f931-45ba-831f-ca5f0b93f003"
      },
      "source": [
        "!g++ max_pairwise_product_long_execints.cpp -o max_pairwise_product_long_execints\n",
        "!./max_pairwise_product_long_execints < input1.txt\n",
        "!./max_pairwise_product_long_execints < input2.txt\n",
        "!./max_pairwise_product_long_execints < input3.txt"
      ],
      "execution_count": 35,
      "outputs": [
        {
          "output_type": "stream",
          "text": [
            "9\n",
            "5\n",
            "4\n",
            "3\n",
            "2\n",
            "2\n",
            "2\n",
            "2\n",
            "1\n",
            "0\n",
            "289\n",
            "2\n",
            "1\n",
            "2\n",
            "0\n",
            "0\n",
            "0\n",
            "116\n",
            "199999\n",
            "100000\n",
            "66667\n",
            "50000\n",
            "40000\n",
            "33334\n",
            "28572\n",
            "25000\n",
            "22223\n",
            "20000\n",
            "18182\n",
            "2\n",
            "2\n",
            "2\n",
            "2\n",
            "2\n",
            "2\n",
            "2\n",
            "2\n",
            "1\n",
            "0\n",
            "80003672077\n"
          ],
          "name": "stdout"
        }
      ]
    },
    {
      "cell_type": "markdown",
      "metadata": {
        "id": "L_uaamxeAHK7"
      },
      "source": [
        "The number of instructions executed by the algooirithm with a list of size $n$ is  \n",
        "\n",
        "$$T = 9 + 7n + [2(n-1)n, 2.5 (n-1)n]$$\n",
        "\n",
        "It depends on the size of the lists and  the order of the list.\n",
        "\n",
        "For the input1.txt \n",
        "```\n",
        "10\n",
        "1 2 3 4 5 6 7 8 9 10\n",
        "```\n",
        "$$T = 9 + 7(10) + 2(9)(10) +  9 + 5 + 4 + 3 + 2 + 2 + 2 + 2 + 1 + 0  = 289 $$\n",
        "\n",
        "For the input2.txt \n",
        "```\n",
        "6\n",
        "1 3 200000 9 200000 23\n",
        "```\n",
        "$$T = 9 + 7(6) + 2(5)(6)  +  2 + 1 + 2 + 0 + 0 + 0 = 116 $$\n",
        "\n",
        "\n",
        "For the input3.txt that is the worst case (n=200000 and list in incresing order)\n",
        "\n",
        "```\n",
        "200000\n",
        "1 2 3 4 5 6 7 8 9 10 ... 199998 199999 200000\n",
        "```\n",
        "\n",
        "$$\n",
        "\\begin{array}{ll}\n",
        "T &= 9 + 7(200000) + (2)(199999)(200000)  + (199999 +\n",
        "100000 + 66667 +50000 \\cdots 2 + 2 + 1)\\\\\n",
        "&= 80003672077  \\\\\n",
        "  &< 9 + 7(200000) + (2.5)(199999)(200000) \\\\\n",
        "  & = 100000900009\n",
        "\\end{array}\n",
        "  $$"
      ]
    },
    {
      "cell_type": "markdown",
      "metadata": {
        "id": "NXW7QkoBL6xH"
      },
      "source": [
        "Calculate estimated time by instruction and number of instructions by second"
      ]
    },
    {
      "cell_type": "code",
      "metadata": {
        "colab": {
          "base_uri": "https://localhost:8080/"
        },
        "id": "pKqB3i7dIxnc",
        "outputId": "76d781c5-4283-4a7c-d357-cf4079c12b2e"
      },
      "source": [
        "# Estimated time by instruction\n",
        "\n",
        "128/80003672077 \n"
      ],
      "execution_count": 36,
      "outputs": [
        {
          "output_type": "execute_result",
          "data": {
            "text/plain": [
              "1.5999265618308827e-09"
            ]
          },
          "metadata": {
            "tags": []
          },
          "execution_count": 36
        }
      ]
    },
    {
      "cell_type": "code",
      "metadata": {
        "colab": {
          "base_uri": "https://localhost:8080/"
        },
        "id": "18N1ouqeMhE1",
        "outputId": "67fbac10-7fd6-4bbc-925d-a16515cf2f42"
      },
      "source": [
        "# Estimated number of instructions by second\n",
        "\n",
        "1/(128/80003672077) "
      ],
      "execution_count": 37,
      "outputs": [
        {
          "output_type": "execute_result",
          "data": {
            "text/plain": [
              "625028688.1015625"
            ]
          },
          "metadata": {
            "tags": []
          },
          "execution_count": 37
        }
      ]
    },
    {
      "cell_type": "markdown",
      "metadata": {
        "id": "CQufozXLNJwO"
      },
      "source": [
        "### Efficient solution"
      ]
    },
    {
      "cell_type": "markdown",
      "metadata": {
        "id": "nLcKBwbU0QsE"
      },
      "source": [
        "Add in each line a coment with the number of intstrcution that are executed in that line"
      ]
    },
    {
      "cell_type": "code",
      "metadata": {
        "id": "knls5Fh3NSt_",
        "colab": {
          "base_uri": "https://localhost:8080/"
        },
        "outputId": "7fe6ad4e-710e-45d3-9c33-ea99fbff0162"
      },
      "source": [
        "%%writefile max_pairwise_product_efficient.cpp\n",
        "#include <iostream>\n",
        "#include <vector>\n",
        "\n",
        "using std::vector;\n",
        "using std::cin;\n",
        "using std::cout;\n",
        "\n",
        "long long MaxPairwiseProductFast(const vector<int> & numbers)                             //N inst exec by line executed\n",
        "{\n",
        "    int n=numbers.size();                                                                 //1\n",
        " \n",
        "    int max_index1=-1;                                                                    //1\n",
        "    for(int i=0;i<n;i++)                                                                  //1+2n\n",
        "    {\n",
        "        if((max_index1==-1) || (numbers[i]>numbers[max_index1]))                          //n\n",
        "            max_index1=i;                                                                 //[1,n]\n",
        "    }\n",
        "     \n",
        "    int max_index2=-1;                                                                    //1\n",
        "    for(int j=0;j<n;j++)                                                                  //1+2n\n",
        "    {\n",
        "        if((j!=max_index1) && ((max_index2==-1) || (numbers[j]>numbers[max_index2])))     //n\n",
        "            max_index2=j;                                                                 //[1,n]\n",
        "    }\n",
        "    \n",
        "    return ((long long)(numbers[max_index1]))*numbers[max_index2];                        //5+6n+[2,2n]\n",
        "}\n",
        "\n",
        "int main()\n",
        "{\n",
        "    int n;                                                                                //1\n",
        "    cin>>n;                                                                               //1\n",
        "    vector<int> numbers(n);                                                               //n\n",
        "    for(int i=0;i<n;i++)                                                                  //1+2n\n",
        "    {\n",
        "        cin>>numbers[i];                                                                  //n\n",
        "    }\n",
        "\n",
        "    long long result=MaxPairwiseProductFast(vector<int>(numbers));                        //1+(5+6n+[2,2n])\n",
        "    cout<<result<<\"\\n\";                                                                   //1\n",
        "    return 0;                                                                             //TOTAL: 10+10n+[2,2n]\n",
        "}"
      ],
      "execution_count": 38,
      "outputs": [
        {
          "output_type": "stream",
          "text": [
            "Writing max_pairwise_product_efficient.cpp\n"
          ],
          "name": "stdout"
        }
      ]
    },
    {
      "cell_type": "markdown",
      "metadata": {
        "id": "-JCijbWxNSii"
      },
      "source": [
        "####Test with inputs 1 and 2\n",
        "\n"
      ]
    },
    {
      "cell_type": "code",
      "metadata": {
        "id": "TrTGAfqlNVXT",
        "colab": {
          "base_uri": "https://localhost:8080/"
        },
        "outputId": "04ebcb00-70f3-4777-8a25-f080b43bc5e4"
      },
      "source": [
        "!g++ max_pairwise_product_efficient.cpp -o max_pairwise_product_efficient\n",
        "!time ./max_pairwise_product_efficient < input1.txt"
      ],
      "execution_count": 39,
      "outputs": [
        {
          "output_type": "stream",
          "text": [
            "90\n",
            "\n",
            "real\t0m0.003s\n",
            "user\t0m0.002s\n",
            "sys\t0m0.001s\n"
          ],
          "name": "stdout"
        }
      ]
    },
    {
      "cell_type": "code",
      "metadata": {
        "colab": {
          "base_uri": "https://localhost:8080/"
        },
        "id": "a5VuCugCqda-",
        "outputId": "312542fb-2b97-4733-9218-4e461b9200ec"
      },
      "source": [
        "!g++ max_pairwise_product_efficient.cpp -o max_pairwise_product_efficient\n",
        "!time ./max_pairwise_product_efficient < input2.txt"
      ],
      "execution_count": 40,
      "outputs": [
        {
          "output_type": "stream",
          "text": [
            "40000000000\n",
            "\n",
            "real\t0m0.004s\n",
            "user\t0m0.002s\n",
            "sys\t0m0.002s\n"
          ],
          "name": "stdout"
        }
      ]
    },
    {
      "cell_type": "markdown",
      "metadata": {
        "id": "PRX51wADNR8b"
      },
      "source": [
        "####Test and time it with input 3"
      ]
    },
    {
      "cell_type": "code",
      "metadata": {
        "id": "v4z7-Is_NRt7",
        "colab": {
          "base_uri": "https://localhost:8080/"
        },
        "outputId": "12c030a8-a1b2-46aa-de1d-64b92fb53638"
      },
      "source": [
        "!g++ max_pairwise_product_efficient.cpp -o max_pairwise_product_efficient\n",
        "!time ./max_pairwise_product_efficient < input3.txt"
      ],
      "execution_count": 41,
      "outputs": [
        {
          "output_type": "stream",
          "text": [
            "39999800000\n",
            "\n",
            "real\t0m0.066s\n",
            "user\t0m0.059s\n",
            "sys\t0m0.005s\n"
          ],
          "name": "stdout"
        }
      ]
    },
    {
      "cell_type": "markdown",
      "metadata": {
        "id": "rpdfs0_TNZJf"
      },
      "source": [
        "####20 stress tests"
      ]
    },
    {
      "cell_type": "code",
      "metadata": {
        "id": "Lu4tYcKzNcTT",
        "colab": {
          "base_uri": "https://localhost:8080/"
        },
        "outputId": "6f108b75-42db-4fa4-a530-556b752b0d26"
      },
      "source": [
        "%%writefile max_pairwise_product_stress_test_efficient.cpp\n",
        "#include <cstdlib>\n",
        "#include <iostream>\n",
        "#include <vector>\n",
        "\n",
        "using std::vector;\n",
        "using std::cin;\n",
        "using std::cout;\n",
        "\n",
        "long long MaxPairwiseProduct(const std::vector<int>& numbers) {\n",
        "    long long max_product = 0LL;\n",
        "    long long aux_product = 0LL;\n",
        "    int n = numbers.size();\n",
        "\n",
        "    for (int first = 0; first < n; ++first)\n",
        "    {\n",
        "        for (int second = first + 1; second < n; ++second)\n",
        "        {\n",
        "            aux_product =  (long long) numbers[first] * numbers[second];\n",
        "\n",
        "            if ( max_product < aux_product)\n",
        "            {\n",
        "\t\t\t\t        max_product = aux_product;\n",
        "            }\n",
        "        }\n",
        "    }\n",
        "\n",
        "    return max_product;\n",
        "}\n",
        "\n",
        "long long MaxPairwiseProductRap(const vector<int> & numbers)\n",
        "{\n",
        "    int n=numbers.size();\n",
        "\n",
        "    int max_ind1=-1;\n",
        "    for(int i=0;i<n;i++)\n",
        "    {\n",
        "        if((max_ind1==-1) || (numbers[i]>numbers[max_ind1]))\n",
        "            max_ind1=i;\n",
        "    }\n",
        "\n",
        "    int max_ind2=-1;\n",
        "    for(int j=0;j<n;j++)\n",
        "    {\n",
        "        if((j!=max_ind1) && ((max_ind2==-1) || (numbers[j]>numbers[max_ind2])))\n",
        "            max_ind2=j;\n",
        "    }\n",
        "\n",
        "    return ((long long)(numbers[max_ind1]))*numbers[max_ind2];\n",
        "}\n",
        "\n",
        "int main()\n",
        "{\n",
        "    int cont=0;\n",
        "    while(cont!=20)\n",
        "    {\n",
        "        int n=2+rand()%(21-2);\n",
        "        cout<<n<<\"\\n\";\n",
        "        vector<int> a;\n",
        "        for(int i=0;i<n;i++)\n",
        "        {\n",
        "            a.push_back(rand() % 200001);\n",
        "        }\n",
        "        for(int i=0;i<n;i++)\n",
        "        {\n",
        "            cout<<a[i]<<' ';\n",
        "        }\n",
        "        cout<<\"\\n\";\n",
        "        long long res1=MaxPairwiseProduct(a);\n",
        "        long long res2=MaxPairwiseProductRap(a);\n",
        "        if(res1!=res2)\n",
        "        {\n",
        "            cout<<\"Incorrecto: \"<<res1<<' '<<res2<<\"\\n\";\n",
        "            cont++;\n",
        "        }\n",
        "        else\n",
        "        {\n",
        "            cout<<\"OK\\n\";\n",
        "            cont++;\n",
        "        }\n",
        "    }\n",
        "    return 0;\n",
        "}"
      ],
      "execution_count": 42,
      "outputs": [
        {
          "output_type": "stream",
          "text": [
            "Writing max_pairwise_product_stress_test_efficient.cpp\n"
          ],
          "name": "stdout"
        }
      ]
    },
    {
      "cell_type": "code",
      "metadata": {
        "colab": {
          "base_uri": "https://localhost:8080/"
        },
        "id": "mmhA65LkrBXH",
        "outputId": "b72e9592-8e95-47a9-a4dc-3914842f8aa6"
      },
      "source": [
        "!g++ max_pairwise_product_stress_test_efficient.cpp -o max_pairwise_product_stress_test_efficient\n",
        "!./max_pairwise_product_stress_test_efficient"
      ],
      "execution_count": 43,
      "outputs": [
        {
          "output_type": "stream",
          "text": [
            "4\n",
            "126652 84369 28342 138005 \n",
            "OK\n",
            "10\n",
            "81787 152244 113667 35473 197237 83275 164774 114547 87539 104089 \n",
            "OK\n",
            "9\n",
            "175725 87652 49219 5036 192761 101094 147795 64100 17225 \n",
            "OK\n",
            "8\n",
            "63955 163342 100792 108422 170793 27444 119880 126224 \n",
            "OK\n",
            "7\n",
            "156094 8011 171871 69760 170574 169107 80124 \n",
            "OK\n",
            "3\n",
            "10742 94753 166526 \n",
            "OK\n",
            "11\n",
            "197567 54177 160766 2602 174028 61859 150398 38127 6173 198956 102082 \n",
            "OK\n",
            "18\n",
            "99747 10503 67397 127191 57473 120710 146818 13566 55810 118688 10416 153474 14883 90540 88820 25626 112382 182435 \n",
            "OK\n",
            "2\n",
            "109949 163702 \n",
            "OK\n",
            "15\n",
            "112551 137729 86885 190038 102945 93059 188993 5026 189663 88740 142619 184149 143020 91 31948 \n",
            "OK\n",
            "7\n",
            "140748 87758 135615 78253 41231 150499 95882 \n",
            "OK\n",
            "15\n",
            "103214 8264 166665 167475 118213 57455 192502 157853 122273 6475 147891 25217 26623 136883 157333 \n",
            "OK\n",
            "13\n",
            "152712 99952 127524 95732 27132 86561 112659 94969 101409 175363 173222 69729 52950 \n",
            "OK\n",
            "6\n",
            "53959 156164 4457 20624 50728 122670 \n",
            "OK\n",
            "17\n",
            "43229 7611 127442 49704 155502 152659 76328 19474 109992 146793 99275 137033 1405 122096 91254 87967 34754 \n",
            "OK\n",
            "19\n",
            "189376 137207 86534 59104 190157 155638 40153 146321 87184 60777 124138 136943 65945 167367 144555 120476 144160 100056 73135 \n",
            "OK\n",
            "11\n",
            "46619 110216 94369 145895 174338 95775 67990 65591 183742 29834 51814 \n",
            "OK\n",
            "3\n",
            "167041 65438 86399 \n",
            "OK\n",
            "10\n",
            "21075 126552 30606 108260 114418 154744 45202 107453 49199 116846 \n",
            "OK\n",
            "7\n",
            "193360 143992 28152 68025 190611 65457 162395 \n",
            "OK\n"
          ],
          "name": "stdout"
        }
      ]
    },
    {
      "cell_type": "markdown",
      "metadata": {
        "id": "L8U4151JNbxk"
      },
      "source": [
        "####Count executed instructions in code and verify with inputs 1,2 and 3\n"
      ]
    },
    {
      "cell_type": "code",
      "metadata": {
        "id": "dh85RM8vNhFz",
        "colab": {
          "base_uri": "https://localhost:8080/"
        },
        "outputId": "70262992-af14-48f9-f45d-2e64f13b4c07"
      },
      "source": [
        "%%writefile max_pairwise_product_efficient_cont.cpp\n",
        "#include <iostream>\n",
        "#include <vector>\n",
        "\n",
        "using std::vector;\n",
        "using std::cin;\n",
        "using std::cout;\n",
        "\n",
        "long long cont=0LL;\n",
        "\n",
        "long long MaxPairwiseProductFast(const vector<int> & numbers)                             //N inst exec by line executed\n",
        "{\n",
        "    long long cond=0LL;\n",
        "    int n=numbers.size();                                                                 //1\n",
        "    cont++;\n",
        "    int max_index1=-1;                                                                    //1\n",
        "    cont++;\n",
        "    cont++;\n",
        "    for(int i=0;i<n;i++)                                                                  //1+2n    \n",
        "    {\n",
        "        cont+=2;\n",
        "        cont+=2;\n",
        "        if((max_index1==-1) || (numbers[i]>numbers[max_index1]))                          //2n\n",
        "        {\n",
        "            cond++;\n",
        "            max_index1=i;                                                                 //[1,n]\n",
        "            cont++;\n",
        "        }\n",
        "    }\n",
        "    cout<<cond<<\"\\n\";\n",
        "    cond=0LL;\n",
        "    int max_index2=-1;                                                                    //1\n",
        "    cont++;\n",
        "    cont++;\n",
        "    for(int j=0;j<n;j++)                                                                  //1+2n\n",
        "    {\n",
        "        cont+=2;\n",
        "        cont+=3;\n",
        "        if((j!=max_index1) && ((max_index2==-1) || (numbers[j]>numbers[max_index2])))     //3n\n",
        "        {\n",
        "            cond++;\n",
        "            max_index2=j;                                                                 //[1,n]\n",
        "            cont++;\n",
        "        }\n",
        "    }\n",
        "    cout<<cond<<\"\\n\";    \n",
        "    return ((long long)(numbers[max_index1]))*numbers[max_index2];                        //5+9n+[2,2n]\n",
        "}\n",
        "\n",
        "int main()\n",
        "{\n",
        "    int n;                                                                                //1\n",
        "    cont++;\n",
        "    cin>>n;                                                                               //1\n",
        "    cont++;\n",
        "    vector<int> numbers(n);                                                               //n\n",
        "    cont+=n;\n",
        "    cont++;\n",
        "    for(int i=0;i<n;i++)                                                                  //1+2n\n",
        "    {\n",
        "        cont+=2;\n",
        "        cin>>numbers[i];                                                                  //n\n",
        "        cont++;\n",
        "    }\n",
        "    cont++;\n",
        "    long long result=MaxPairwiseProductFast(vector<int>(numbers));                        //1+(5+6n+[2,2n])\n",
        "    cont++;\n",
        "    cout<<result<<\"\\n\";                                                                   //1    \n",
        "    cout<<cont<<\"\\n\";\n",
        "    return 0;                                                                             //TOTAL: 10+13n+[2,2n]\n",
        "}"
      ],
      "execution_count": 44,
      "outputs": [
        {
          "output_type": "stream",
          "text": [
            "Writing max_pairwise_product_efficient_cont.cpp\n"
          ],
          "name": "stdout"
        }
      ]
    },
    {
      "cell_type": "code",
      "metadata": {
        "colab": {
          "base_uri": "https://localhost:8080/"
        },
        "id": "rFFc2BmHvAeD",
        "outputId": "3d952bb1-1a5d-4d52-d57a-3b7a29dc738e"
      },
      "source": [
        "!g++ max_pairwise_product_efficient_cont.cpp -o max_pairwise_product_efficient_cont\n",
        "!time ./max_pairwise_product_efficient_cont < input1.txt"
      ],
      "execution_count": 45,
      "outputs": [
        {
          "output_type": "stream",
          "text": [
            "10\n",
            "9\n",
            "90\n",
            "159\n",
            "\n",
            "real\t0m0.003s\n",
            "user\t0m0.001s\n",
            "sys\t0m0.002s\n"
          ],
          "name": "stdout"
        }
      ]
    },
    {
      "cell_type": "markdown",
      "metadata": {
        "id": "v-3V8L4_v9dT"
      },
      "source": [
        "For input 1:\n",
        "\n",
        "$I=10+13n+[2,2n]$\n",
        "\n",
        "$I=10+13(10)+[19]=159$"
      ]
    },
    {
      "cell_type": "code",
      "metadata": {
        "colab": {
          "base_uri": "https://localhost:8080/"
        },
        "id": "ZSzHjkM8ywmg",
        "outputId": "e87b6fb1-978e-44e9-fb99-e5c78276aa7b"
      },
      "source": [
        "!g++ max_pairwise_product_efficient_cont.cpp -o max_pairwise_product_efficient_cont\n",
        "!time ./max_pairwise_product_efficient_cont < input2.txt"
      ],
      "execution_count": 46,
      "outputs": [
        {
          "output_type": "stream",
          "text": [
            "3\n",
            "4\n",
            "40000000000\n",
            "95\n",
            "\n",
            "real\t0m0.003s\n",
            "user\t0m0.003s\n",
            "sys\t0m0.000s\n"
          ],
          "name": "stdout"
        }
      ]
    },
    {
      "cell_type": "markdown",
      "metadata": {
        "id": "FMghPVHUzANt"
      },
      "source": [
        "For input 2:\n",
        "\n",
        "$I=10+13n+[2,2n]$\n",
        "\n",
        "$I=10+13(6)+[7]=95$"
      ]
    },
    {
      "cell_type": "code",
      "metadata": {
        "colab": {
          "base_uri": "https://localhost:8080/"
        },
        "id": "VCfoeq-RzUwM",
        "outputId": "14591bc6-49e7-4168-fe8e-5c128e4faeef"
      },
      "source": [
        "!g++ max_pairwise_product_efficient_cont.cpp -o max_pairwise_product_efficient_cont\n",
        "!time ./max_pairwise_product_efficient_cont < input3.txt"
      ],
      "execution_count": 47,
      "outputs": [
        {
          "output_type": "stream",
          "text": [
            "200000\n",
            "199999\n",
            "39999800000\n",
            "3000009\n",
            "\n",
            "real\t0m0.062s\n",
            "user\t0m0.058s\n",
            "sys\t0m0.004s\n"
          ],
          "name": "stdout"
        }
      ]
    },
    {
      "cell_type": "markdown",
      "metadata": {
        "id": "RLGJH1Bfza_n"
      },
      "source": [
        "For input 3:\n",
        "\n",
        "$I=10+13n+[2,2n]$\n",
        "\n",
        "$I=10+13(200000)+[399999]=3000009$"
      ]
    },
    {
      "cell_type": "markdown",
      "metadata": {
        "id": "K6ybgCmpNygr"
      },
      "source": [
        "#####Calculate estimated time by instruction and number of instructions by second"
      ]
    },
    {
      "cell_type": "code",
      "metadata": {
        "id": "kwe3G1O3Nz1w",
        "colab": {
          "base_uri": "https://localhost:8080/"
        },
        "outputId": "85409fd7-0476-4bb6-a965-3900e9a2c63a"
      },
      "source": [
        "# Estimated time by instruction\n",
        "\n",
        "0.057/3000009"
      ],
      "execution_count": 48,
      "outputs": [
        {
          "output_type": "execute_result",
          "data": {
            "text/plain": [
              "1.8999943000171e-08"
            ]
          },
          "metadata": {
            "tags": []
          },
          "execution_count": 48
        }
      ]
    },
    {
      "cell_type": "code",
      "metadata": {
        "colab": {
          "base_uri": "https://localhost:8080/"
        },
        "id": "rY5DEHtz0eFx",
        "outputId": "e25a109e-c92b-4af8-8d8e-02e45750e652"
      },
      "source": [
        "# Estimated number of instructions by second\n",
        "\n",
        "1/(0.057/3000009)"
      ],
      "execution_count": 49,
      "outputs": [
        {
          "output_type": "execute_result",
          "data": {
            "text/plain": [
              "52631736.84210526"
            ]
          },
          "metadata": {
            "tags": []
          },
          "execution_count": 49
        }
      ]
    },
    {
      "cell_type": "markdown",
      "metadata": {
        "id": "sc9nOLQrfTm0"
      },
      "source": [
        "### Super efficient solution\n",
        "\n",
        "Whitout storing the list in memory and whitout calling a function, add in each line a coment with the number of intstrcution that are executed in that line "
      ]
    },
    {
      "cell_type": "code",
      "metadata": {
        "id": "hBLt_xBQLy8E",
        "colab": {
          "base_uri": "https://localhost:8080/"
        },
        "outputId": "ed16cadd-f6f5-4da3-e6d7-dcf5af4db448"
      },
      "source": [
        "%%writefile max_pairwise_product_super_efficient.cpp\n",
        "\n",
        "#include <cstdlib>\n",
        "#include <iostream>\n",
        "#include <vector>\n",
        "\n",
        "using namespace std;\n",
        "\n",
        "int main() {\n",
        "    \n",
        "    long long n;                                                                //1\n",
        "    long long lec;                                                              //1                                                                        \n",
        "    long long max1 = -1;                                                        //1\n",
        "    long long max2 = -1;                                                        //1\n",
        "    cin >> n;                                                                   //1\n",
        "\n",
        "    for (int i = 0; i < n; ++i)                                                 //1 + 2n\n",
        "    {\n",
        "        cin >> lec;                                                             //n\n",
        "\n",
        "        if (max1 == -1)                                                         //n\n",
        "        {\n",
        "            max1 = lec;                                                         //1\n",
        "        }        \n",
        "        else if (lec > max1)                                                    //n   \n",
        "        {       \n",
        "            max2 = max1;                                                        //[0, n]\n",
        "            max1 = lec;                                                         //[0, n]                                                                                \n",
        "        }        \n",
        "        else if ((max2 == -1) || (lec > max2))                                  //2n\n",
        "        {\n",
        "            max2 = lec;                                                         //[0, n]\n",
        "        }        \n",
        "    }\n",
        "    cout << (long long) max1*max2 << \"\\n\";                                      //1\n",
        "    return 0;                                                                  \n",
        "                                                                                //TOTAL: 8 + 7n + [0, 3n]    \n",
        "}"
      ],
      "execution_count": 50,
      "outputs": [
        {
          "output_type": "stream",
          "text": [
            "Writing max_pairwise_product_super_efficient.cpp\n"
          ],
          "name": "stdout"
        }
      ]
    },
    {
      "cell_type": "markdown",
      "metadata": {
        "id": "683gc3roHqzb"
      },
      "source": [
        "####Test with inputs 1 and 2\n",
        "\n",
        "\n",
        " "
      ]
    },
    {
      "cell_type": "code",
      "metadata": {
        "id": "b7d4LA8OIc2_",
        "colab": {
          "base_uri": "https://localhost:8080/"
        },
        "outputId": "ce8cf998-d962-46a4-edb3-de15a2dde138"
      },
      "source": [
        "!g++ max_pairwise_product_super_efficient.cpp -o max_pairwise_product_super_efficient\n",
        "!time ./max_pairwise_product_super_efficient < input1.txt"
      ],
      "execution_count": 51,
      "outputs": [
        {
          "output_type": "stream",
          "text": [
            "90\n",
            "\n",
            "real\t0m0.003s\n",
            "user\t0m0.001s\n",
            "sys\t0m0.002s\n"
          ],
          "name": "stdout"
        }
      ]
    },
    {
      "cell_type": "code",
      "metadata": {
        "colab": {
          "base_uri": "https://localhost:8080/"
        },
        "id": "kxai6w3B3fDa",
        "outputId": "50f4534a-b4d4-437b-9e4e-d128cbeded73"
      },
      "source": [
        "!g++ max_pairwise_product_super_efficient.cpp -o max_pairwise_product_super_efficient\n",
        "!time ./max_pairwise_product_super_efficient < input2.txt"
      ],
      "execution_count": 52,
      "outputs": [
        {
          "output_type": "stream",
          "text": [
            "40000000000\n",
            "\n",
            "real\t0m0.003s\n",
            "user\t0m0.001s\n",
            "sys\t0m0.002s\n"
          ],
          "name": "stdout"
        }
      ]
    },
    {
      "cell_type": "markdown",
      "metadata": {
        "id": "36Ugn1odIeJz"
      },
      "source": [
        "####Test and time it with input 3"
      ]
    },
    {
      "cell_type": "code",
      "metadata": {
        "id": "jDyMbCnxHqSN",
        "colab": {
          "base_uri": "https://localhost:8080/"
        },
        "outputId": "03dc8863-3180-4e3e-ea3f-3d59e6153b0e"
      },
      "source": [
        "!g++ max_pairwise_product_super_efficient.cpp -o max_pairwise_product_super_efficient\n",
        "!time ./max_pairwise_product_super_efficient < input3.txt"
      ],
      "execution_count": 53,
      "outputs": [
        {
          "output_type": "stream",
          "text": [
            "39999800000\n",
            "\n",
            "real\t0m0.070s\n",
            "user\t0m0.066s\n",
            "sys\t0m0.001s\n"
          ],
          "name": "stdout"
        }
      ]
    },
    {
      "cell_type": "markdown",
      "metadata": {
        "id": "bhqiKQG6fjKM"
      },
      "source": [
        "####20 stress tests "
      ]
    },
    {
      "cell_type": "code",
      "metadata": {
        "id": "2KsiXKhALzwm",
        "colab": {
          "base_uri": "https://localhost:8080/"
        },
        "outputId": "e96d2525-da4f-4144-c22e-9885d310ec10"
      },
      "source": [
        "%%writefile max_pairwise_product_stress_test_super_efficient.cpp\n",
        "#include <cstdlib>\n",
        "#include <iostream>\n",
        "#include <vector>\n",
        "\n",
        "using std::vector;\n",
        "using std::cin;\n",
        "using std::cout;\n",
        "\n",
        "long long MaxPairwiseProductRap(const vector<int> & numbers)\n",
        "{\n",
        "    int n=numbers.size();\n",
        "\n",
        "    int max_ind1=-1;\n",
        "    for(int i=0;i<n;i++)\n",
        "    {\n",
        "        if((max_ind1==-1) || (numbers[i]>numbers[max_ind1]))\n",
        "            max_ind1=i;\n",
        "    }\n",
        "\n",
        "    int max_ind2=-1;\n",
        "    for(int j=0;j<n;j++)\n",
        "    {\n",
        "        if((j!=max_ind1) && ((max_ind2==-1) || (numbers[j]>numbers[max_ind2])))\n",
        "            max_ind2=j;\n",
        "    }\n",
        "\n",
        "    return ((long long)(numbers[max_ind1]))*numbers[max_ind2];\n",
        "}\n",
        "\n",
        "int main()\n",
        "{    \n",
        "    int cont=0;\n",
        "    while(cont!=20)\n",
        "    {                                                                             \n",
        "        long long lec;                                                                                                                                         \n",
        "        long long max1 = -1;                                                              \n",
        "        long long max2 = -1;\n",
        "     \n",
        "        int n=2+rand()%(21-2);\n",
        "        cout<<n<<\"\\n\";\n",
        "        vector<int> a;\n",
        "        for(int i=0;i<n;i++)\n",
        "        {\n",
        "            lec=rand() % 200001;\n",
        "            a.push_back(lec);\n",
        "\n",
        "            if (max1 == -1)                                                        \n",
        "            {\n",
        "                max1 = lec;                                                         \n",
        "            }        \n",
        "            else if (lec > max1)                                                      \n",
        "            {       \n",
        "                max2 = max1;                                                        \n",
        "                max1 = lec;                                                                                                                                      \n",
        "            }        \n",
        "            else if ((max2 == -1) || (lec > max2))                                  \n",
        "            {\n",
        "                max2 = lec;                                                         \n",
        "            }        \n",
        "        }\n",
        "        for(int i=0;i<n;i++)\n",
        "        {\n",
        "            cout<<a[i]<<' ';\n",
        "        }\n",
        "        cout<<\"\\n\";\n",
        "        long long res1 = MaxPairwiseProductRap(a);\n",
        "        long long res2 = max1*max2;\n",
        "\n",
        "        if(res1!=res2)\n",
        "        {\n",
        "            cout<<\"Incorrecto: \"<<res1<<' '<<res2<<\"\\n\";\n",
        "            cont++;\n",
        "        }\n",
        "        else\n",
        "        {\n",
        "            cout<<\"OK\\n\";\n",
        "            cont++;\n",
        "        }\n",
        "    }\n",
        "    return 0;\n",
        "}"
      ],
      "execution_count": 54,
      "outputs": [
        {
          "output_type": "stream",
          "text": [
            "Writing max_pairwise_product_stress_test_super_efficient.cpp\n"
          ],
          "name": "stdout"
        }
      ]
    },
    {
      "cell_type": "code",
      "metadata": {
        "colab": {
          "base_uri": "https://localhost:8080/"
        },
        "id": "5lp91P0D9E8G",
        "outputId": "9d24008a-dce8-46c1-db7a-8d864ce4cd62"
      },
      "source": [
        "!g++ max_pairwise_product_stress_test_super_efficient.cpp -o max_pairwise_product_stress_test_super_efficient\n",
        "!./max_pairwise_product_stress_test_super_efficient"
      ],
      "execution_count": 55,
      "outputs": [
        {
          "output_type": "stream",
          "text": [
            "4\n",
            "126652 84369 28342 138005 \n",
            "OK\n",
            "10\n",
            "81787 152244 113667 35473 197237 83275 164774 114547 87539 104089 \n",
            "OK\n",
            "9\n",
            "175725 87652 49219 5036 192761 101094 147795 64100 17225 \n",
            "OK\n",
            "8\n",
            "63955 163342 100792 108422 170793 27444 119880 126224 \n",
            "OK\n",
            "7\n",
            "156094 8011 171871 69760 170574 169107 80124 \n",
            "OK\n",
            "3\n",
            "10742 94753 166526 \n",
            "OK\n",
            "11\n",
            "197567 54177 160766 2602 174028 61859 150398 38127 6173 198956 102082 \n",
            "OK\n",
            "18\n",
            "99747 10503 67397 127191 57473 120710 146818 13566 55810 118688 10416 153474 14883 90540 88820 25626 112382 182435 \n",
            "OK\n",
            "2\n",
            "109949 163702 \n",
            "OK\n",
            "15\n",
            "112551 137729 86885 190038 102945 93059 188993 5026 189663 88740 142619 184149 143020 91 31948 \n",
            "OK\n",
            "7\n",
            "140748 87758 135615 78253 41231 150499 95882 \n",
            "OK\n",
            "15\n",
            "103214 8264 166665 167475 118213 57455 192502 157853 122273 6475 147891 25217 26623 136883 157333 \n",
            "OK\n",
            "13\n",
            "152712 99952 127524 95732 27132 86561 112659 94969 101409 175363 173222 69729 52950 \n",
            "OK\n",
            "6\n",
            "53959 156164 4457 20624 50728 122670 \n",
            "OK\n",
            "17\n",
            "43229 7611 127442 49704 155502 152659 76328 19474 109992 146793 99275 137033 1405 122096 91254 87967 34754 \n",
            "OK\n",
            "19\n",
            "189376 137207 86534 59104 190157 155638 40153 146321 87184 60777 124138 136943 65945 167367 144555 120476 144160 100056 73135 \n",
            "OK\n",
            "11\n",
            "46619 110216 94369 145895 174338 95775 67990 65591 183742 29834 51814 \n",
            "OK\n",
            "3\n",
            "167041 65438 86399 \n",
            "OK\n",
            "10\n",
            "21075 126552 30606 108260 114418 154744 45202 107453 49199 116846 \n",
            "OK\n",
            "7\n",
            "193360 143992 28152 68025 190611 65457 162395 \n",
            "OK\n"
          ],
          "name": "stdout"
        }
      ]
    },
    {
      "cell_type": "markdown",
      "metadata": {
        "id": "fEXj8GHJH5p1"
      },
      "source": [
        "####Count executed instructions in code and verify with inputs 1,2 and 3"
      ]
    },
    {
      "cell_type": "code",
      "metadata": {
        "id": "LF1DHjKXIAsF",
        "colab": {
          "base_uri": "https://localhost:8080/"
        },
        "outputId": "a4adf4f1-e9a2-4826-c4b7-f7480b9cfb90"
      },
      "source": [
        "%%writefile max_pairwise_product_super_efficient_cont.cpp\n",
        "\n",
        "#include <cstdlib>\n",
        "#include <iostream>\n",
        "#include <vector>\n",
        "\n",
        "using namespace std;\n",
        "\n",
        "long long cont=0LL;\n",
        "\n",
        "int main() {\n",
        "    \n",
        "    long long cond=0LL;\n",
        "\n",
        "    long long n;                                                                //1\n",
        "    cont++;\n",
        "    long long lec;                                                              //1     \n",
        "    cont++;                                                                   \n",
        "    long long max1 = -1;                                                        //1\n",
        "    cont++;\n",
        "    long long max2 = -1;                                                        //1\n",
        "    cont++;\n",
        "    cin >> n;                                                                   //1\n",
        "    cont++;\n",
        "\n",
        "    cont++;  \n",
        "    for (int i = 0; i < n; ++i)                                                 //1 + 2n\n",
        "    {\n",
        "        cont+=2;\n",
        "        cin >> lec;                                                             //n\n",
        "        cont++;\n",
        "        cont++;\n",
        "        if (max1 == -1)                                                         //n\n",
        "        {\n",
        "            max1 = lec;                                                         //1\n",
        "            cont++;\n",
        "        }        \n",
        "        else if (lec > max1)                                                    //[0,n]   \n",
        "        {       \n",
        "            cont+=3;\n",
        "            cond+=3;\n",
        "            max2 = max1;                                                        //[0, n]\n",
        "            max1 = lec;                                                         //[0, n]                                                                                \n",
        "        }      \n",
        "        else if ((max2 == -1) || (lec > max2))                                  //[0,2n]\n",
        "        {\n",
        "            cont+=3; \n",
        "            cond+=3;\n",
        "            max2 = lec;                                                         //[0, n]\n",
        "        }        \n",
        "    }\n",
        "    cont++; \n",
        "    cout << (long long) max1*max2 << \"\\n\";                                      //1\n",
        "    cout<<cond<<\"\\n\";\n",
        "    cout<<cont<<\"\\n\";\n",
        "    return 0;                                                                  \n",
        "                                                                                //TOTAL: 8 + 4n + [0, 6n]    \n",
        "}"
      ],
      "execution_count": 56,
      "outputs": [
        {
          "output_type": "stream",
          "text": [
            "Writing max_pairwise_product_super_efficient_cont.cpp\n"
          ],
          "name": "stdout"
        }
      ]
    },
    {
      "cell_type": "code",
      "metadata": {
        "colab": {
          "base_uri": "https://localhost:8080/"
        },
        "id": "HpOCDt3sB45p",
        "outputId": "e7527817-722f-4cb5-c94d-c552674e6195"
      },
      "source": [
        "!g++ max_pairwise_product_super_efficient_cont.cpp -o max_pairwise_product_super_efficient_cont\n",
        "!time ./max_pairwise_product_super_efficient_cont < input1.txt"
      ],
      "execution_count": 57,
      "outputs": [
        {
          "output_type": "stream",
          "text": [
            "90\n",
            "27\n",
            "75\n",
            "\n",
            "real\t0m0.003s\n",
            "user\t0m0.000s\n",
            "sys\t0m0.003s\n"
          ],
          "name": "stdout"
        }
      ]
    },
    {
      "cell_type": "markdown",
      "metadata": {
        "id": "GhQWRVruChL9"
      },
      "source": [
        "For input 1:\n",
        "\n",
        "$I=8+4n+[0,6n]$\n",
        "\n",
        "$I=8+4(10)+[27]=75$"
      ]
    },
    {
      "cell_type": "code",
      "metadata": {
        "colab": {
          "base_uri": "https://localhost:8080/"
        },
        "id": "jJT9i4-WC8Bj",
        "outputId": "e7ccfcff-6284-45a1-8662-ac741cbf4a2b"
      },
      "source": [
        "!g++ max_pairwise_product_super_efficient_cont.cpp -o max_pairwise_product_super_efficient_cont\n",
        "!time ./max_pairwise_product_super_efficient_cont < input2.txt"
      ],
      "execution_count": 58,
      "outputs": [
        {
          "output_type": "stream",
          "text": [
            "40000000000\n",
            "12\n",
            "44\n",
            "\n",
            "real\t0m0.003s\n",
            "user\t0m0.002s\n",
            "sys\t0m0.001s\n"
          ],
          "name": "stdout"
        }
      ]
    },
    {
      "cell_type": "markdown",
      "metadata": {
        "id": "OIHc95mhDChJ"
      },
      "source": [
        "For input 2:\n",
        "\n",
        "$I=8+4n+[0,6n]$\n",
        "\n",
        "$I=8+4(6)+[12]=44$"
      ]
    },
    {
      "cell_type": "code",
      "metadata": {
        "colab": {
          "base_uri": "https://localhost:8080/"
        },
        "id": "o771MgO7DPcp",
        "outputId": "8395e5ac-ca8b-4872-c50a-b09ab75389e9"
      },
      "source": [
        "!g++ max_pairwise_product_super_efficient_cont.cpp -o max_pairwise_product_super_efficient_cont\n",
        "!time ./max_pairwise_product_super_efficient_cont < input3.txt"
      ],
      "execution_count": 59,
      "outputs": [
        {
          "output_type": "stream",
          "text": [
            "39999800000\n",
            "599997\n",
            "1400005\n",
            "\n",
            "real\t0m0.068s\n",
            "user\t0m0.062s\n",
            "sys\t0m0.004s\n"
          ],
          "name": "stdout"
        }
      ]
    },
    {
      "cell_type": "markdown",
      "metadata": {
        "id": "1CZrm54pDQGK"
      },
      "source": [
        "For input 3:\n",
        "\n",
        "$I=8+4n+[0,6n]$\n",
        "\n",
        "$I=8+4(200000)+[599997]=1400005$"
      ]
    },
    {
      "cell_type": "markdown",
      "metadata": {
        "id": "yae7sSm2IG9U"
      },
      "source": [
        "#####Calculate estimated time by instruction and number of instructions by second"
      ]
    },
    {
      "cell_type": "code",
      "metadata": {
        "id": "suouY7BYL2dz",
        "colab": {
          "base_uri": "https://localhost:8080/"
        },
        "outputId": "eb0257d7-1709-4aae-d2b1-d8cbc7c3a67e"
      },
      "source": [
        "# Estimated time by instruction\n",
        "\n",
        "0.063/1400005"
      ],
      "execution_count": 60,
      "outputs": [
        {
          "output_type": "execute_result",
          "data": {
            "text/plain": [
              "4.4999839286288266e-08"
            ]
          },
          "metadata": {
            "tags": []
          },
          "execution_count": 60
        }
      ]
    },
    {
      "cell_type": "code",
      "metadata": {
        "colab": {
          "base_uri": "https://localhost:8080/"
        },
        "id": "b-Gt1nzyEe81",
        "outputId": "fc77978f-6454-4dd5-9d0b-1cd3315f4491"
      },
      "source": [
        "# Estimated number of instructions by second\n",
        "\n",
        "1/(0.063/1400005)"
      ],
      "execution_count": 61,
      "outputs": [
        {
          "output_type": "execute_result",
          "data": {
            "text/plain": [
              "22222301.587301586"
            ]
          },
          "metadata": {
            "tags": []
          },
          "execution_count": 61
        }
      ]
    },
    {
      "cell_type": "markdown",
      "metadata": {
        "id": "rydCU4bFfrhG"
      },
      "source": [
        "## Python"
      ]
    },
    {
      "cell_type": "code",
      "metadata": {
        "id": "xwq0n_b4L3ML",
        "colab": {
          "base_uri": "https://localhost:8080/"
        },
        "outputId": "79644e0b-3885-4d82-f0c8-c50378d5bdf9"
      },
      "source": [
        "%%writefile product.py\n",
        "def max_pairwise_product2 (numbers):\n",
        "    max_ind1=-1\n",
        "    n=len(numbers)\n",
        "    for x in range(n):\n",
        "        if((max_ind1==-1)or(numbers[x]>numbers[max_ind1])):\n",
        "            max_ind1=x\n",
        "    max_ind2=-1\n",
        "    for y in range(n):\n",
        "        if((y!=max_ind1)and((max_ind2==-1)or(numbers[y]>numbers[max_ind2]))):\n",
        "            max_ind2=y\n",
        "    return numbers[max_ind1]*numbers[max_ind2]\n",
        "\n",
        "\n",
        "if __name__ == '__main__':\n",
        "    input_n = int(input())\n",
        "    input_numbers = [int(x) for x in input().split()]\n",
        "    print(max_pairwise_product2(input_numbers))"
      ],
      "execution_count": 62,
      "outputs": [
        {
          "output_type": "stream",
          "text": [
            "Overwriting product.py\n"
          ],
          "name": "stdout"
        }
      ]
    },
    {
      "cell_type": "code",
      "metadata": {
        "colab": {
          "base_uri": "https://localhost:8080/"
        },
        "id": "pMb2HuCGJeIv",
        "outputId": "9b9447bb-11b3-4159-f756-17e71884f7fe"
      },
      "source": [
        "%%time\n",
        "!python product.py "
      ],
      "execution_count": 63,
      "outputs": [
        {
          "output_type": "stream",
          "text": [
            "5\n",
            "1 3 200000 9 200000 23\n",
            "40000000000\n",
            "CPU times: user 559 ms, sys: 84.1 ms, total: 643 ms\n",
            "Wall time: 1min 27s\n"
          ],
          "name": "stdout"
        }
      ]
    },
    {
      "cell_type": "code",
      "metadata": {
        "colab": {
          "base_uri": "https://localhost:8080/"
        },
        "id": "8uv8htdDJjqm",
        "outputId": "3834a130-3efb-44db-f4cc-7fc89656418c"
      },
      "source": [
        "%%writefile product2.py\n",
        "def max_pairwise_product2 (numbers):\n",
        "    max_ind1=-1\n",
        "    n=len(numbers)\n",
        "    for x in range(n):\n",
        "        if((max_ind1==-1)or(numbers[x]>numbers[max_ind1])):\n",
        "            max_ind1=x\n",
        "    max_ind2=-1\n",
        "    for y in range(n):\n",
        "        if((y!=max_ind1)and((max_ind2==-1)or(numbers[y]>numbers[max_ind2]))):\n",
        "            max_ind2=y\n",
        "    return numbers[max_ind1]*numbers[max_ind2]\n",
        "\n",
        "\n",
        "\n",
        "if __name__ == '__main__':\n",
        "    input_n = int(input())\n",
        "    input_numbers = [int(x) for x in input().split()]\n",
        "    print(max_pairwise_product2(input_numbers))"
      ],
      "execution_count": 64,
      "outputs": [
        {
          "output_type": "stream",
          "text": [
            "Writing product2.py\n"
          ],
          "name": "stdout"
        }
      ]
    },
    {
      "cell_type": "code",
      "metadata": {
        "colab": {
          "base_uri": "https://localhost:8080/"
        },
        "id": "5kDiGMwvJltu",
        "outputId": "edb77417-2485-4d04-84f9-19d210a5f7ae"
      },
      "source": [
        "%%time\n",
        "!python product2.py"
      ],
      "execution_count": 65,
      "outputs": [
        {
          "output_type": "stream",
          "text": [
            "5\n",
            "1 3 200000 9 200000 23\n",
            "40000000000\n",
            "CPU times: user 47.4 ms, sys: 13.2 ms, total: 60.6 ms\n",
            "Wall time: 5.94 s\n"
          ],
          "name": "stdout"
        }
      ]
    },
    {
      "cell_type": "markdown",
      "metadata": {
        "id": "LkVxxlhl9H98"
      },
      "source": [
        "# Screenhsoots of the Coursera Submissions in C++ and Python"
      ]
    },
    {
      "cell_type": "markdown",
      "metadata": {
        "id": "FRsK_FZ_BNJE"
      },
      "source": [
        "![imagen](https://raw.githubusercontent.com/judgonzalezmu/AlgorithmsUN2021I/main/AlgorithmicToolbox/Week1/Coursera%201.jpg)"
      ]
    },
    {
      "cell_type": "markdown",
      "metadata": {
        "id": "cmZjhUyBF2zB"
      },
      "source": [
        "![imagen2](https://raw.githubusercontent.com/judgonzalezmu/AlgorithmsUN2021I/main/AlgorithmicToolbox/Week1/Coursera%202.jpg)"
      ]
    }
  ]
}