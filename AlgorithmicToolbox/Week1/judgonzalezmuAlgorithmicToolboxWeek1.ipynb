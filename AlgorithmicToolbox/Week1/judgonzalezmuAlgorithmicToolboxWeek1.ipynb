{
  "nbformat": 4,
  "nbformat_minor": 0,
  "metadata": {
    "colab": {
      "name": "judgonzalezmuAlgorithmicToolboxWeek1.ipynb",
      "provenance": [],
      "collapsed_sections": [],
      "toc_visible": true
    },
    "kernelspec": {
      "name": "python3",
      "display_name": "Python 3"
    },
    "language_info": {
      "name": "python"
    }
  },
  "cells": [
    {
      "cell_type": "markdown",
      "metadata": {
        "id": "N1ok_-56OjB1"
      },
      "source": [
        "# I Solving the Sum of Two Digits Programming Challenge"
      ]
    },
    {
      "cell_type": "markdown",
      "metadata": {
        "id": "MMY7kmDSO0KM"
      },
      "source": [
        "## C++"
      ]
    },
    {
      "cell_type": "code",
      "metadata": {
        "colab": {
          "base_uri": "https://localhost:8080/"
        },
        "id": "2pGGf9BkPNIk",
        "outputId": "fa0d9ce9-713f-4d39-b657-6d287323152b"
      },
      "source": [
        "%%writefile sum.cpp\n",
        "#include <iostream>\n",
        "\n",
        "int sum_of_two_digits(int first_digit, int second_digit) {\n",
        "    return first_digit + second_digit;\n",
        "}\n",
        "\n",
        "int main() {\n",
        "    int a = 0;\n",
        "    int b = 0;\n",
        "    std::cin >> a;\n",
        "    std::cin >> b;\n",
        "    std::cout << sum_of_two_digits(a, b);\n",
        "    return 0;\n",
        "}"
      ],
      "execution_count": 1,
      "outputs": [
        {
          "output_type": "stream",
          "text": [
            "Overwriting sum.cpp\n"
          ],
          "name": "stdout"
        }
      ]
    },
    {
      "cell_type": "code",
      "metadata": {
        "colab": {
          "base_uri": "https://localhost:8080/"
        },
        "id": "0G3ZKOYAPXSU",
        "outputId": "33eb0002-ac04-4744-ed0b-ff1485aa51df"
      },
      "source": [
        "!g++ sum.cpp -o sum\n",
        "!./sum"
      ],
      "execution_count": 2,
      "outputs": [
        {
          "output_type": "stream",
          "text": [
            "13 56\n",
            "69"
          ],
          "name": "stdout"
        }
      ]
    },
    {
      "cell_type": "markdown",
      "metadata": {
        "id": "iNkG2HqfTl9c"
      },
      "source": [
        "### Test input output files"
      ]
    },
    {
      "cell_type": "code",
      "metadata": {
        "colab": {
          "base_uri": "https://localhost:8080/"
        },
        "id": "aTzU2efzMxly",
        "outputId": "9e425e9a-01c1-4914-eda1-7e23fbfd1857"
      },
      "source": [
        "%%writefile input1.txt\n",
        "4 8"
      ],
      "execution_count": 3,
      "outputs": [
        {
          "output_type": "stream",
          "text": [
            "Overwriting input1.txt\n"
          ],
          "name": "stdout"
        }
      ]
    },
    {
      "cell_type": "markdown",
      "metadata": {
        "id": "pdkfsvs-T0Wr"
      },
      "source": [
        ""
      ]
    },
    {
      "cell_type": "code",
      "metadata": {
        "colab": {
          "base_uri": "https://localhost:8080/"
        },
        "id": "zBJ0Gc0NQRet",
        "outputId": "ef9630a4-67b5-40c9-c5b0-ba43473a98ef"
      },
      "source": [
        "%%writefile output1.txt\n",
        "12"
      ],
      "execution_count": 4,
      "outputs": [
        {
          "output_type": "stream",
          "text": [
            "Overwriting output1.txt\n"
          ],
          "name": "stdout"
        }
      ]
    },
    {
      "cell_type": "code",
      "metadata": {
        "colab": {
          "base_uri": "https://localhost:8080/"
        },
        "id": "IjEcIx63PJAN",
        "outputId": "89353847-a239-46e8-f13f-310aa6741ef6"
      },
      "source": [
        "%%writefile input2.txt\n",
        "-5 9"
      ],
      "execution_count": 5,
      "outputs": [
        {
          "output_type": "stream",
          "text": [
            "Overwriting input2.txt\n"
          ],
          "name": "stdout"
        }
      ]
    },
    {
      "cell_type": "code",
      "metadata": {
        "colab": {
          "base_uri": "https://localhost:8080/"
        },
        "id": "Up9gOrxURTmd",
        "outputId": "ef0da2e2-e5b4-4635-c6b3-5e684850f449"
      },
      "source": [
        "%%writefile output2.txt\n",
        "4"
      ],
      "execution_count": 6,
      "outputs": [
        {
          "output_type": "stream",
          "text": [
            "Overwriting output2.txt\n"
          ],
          "name": "stdout"
        }
      ]
    },
    {
      "cell_type": "code",
      "metadata": {
        "colab": {
          "base_uri": "https://localhost:8080/"
        },
        "id": "PST6G-s-Pwgc",
        "outputId": "39b0e8de-412d-48da-91ae-8d93a95e7cba"
      },
      "source": [
        "!./sum < input1.txt"
      ],
      "execution_count": 7,
      "outputs": [
        {
          "output_type": "stream",
          "text": [
            "12"
          ],
          "name": "stdout"
        }
      ]
    },
    {
      "cell_type": "code",
      "metadata": {
        "colab": {
          "base_uri": "https://localhost:8080/"
        },
        "id": "cKxZOjSlRfIN",
        "outputId": "f1703408-daff-493d-9c3e-6e03cd8722ed"
      },
      "source": [
        "!./sum < input2.txt"
      ],
      "execution_count": 8,
      "outputs": [
        {
          "output_type": "stream",
          "text": [
            "4"
          ],
          "name": "stdout"
        }
      ]
    },
    {
      "cell_type": "markdown",
      "metadata": {
        "id": "Qw2TQWCCUwqk"
      },
      "source": [
        "### Comparing files with grep\n",
        "\n",
        "https://askubuntu.com/questions/546796/comparing-two-text-files"
      ]
    },
    {
      "cell_type": "code",
      "metadata": {
        "id": "WVIaAmMKU4QM"
      },
      "source": [
        "!grep -xvFf output1.txt output1.txt "
      ],
      "execution_count": 9,
      "outputs": []
    },
    {
      "cell_type": "code",
      "metadata": {
        "colab": {
          "base_uri": "https://localhost:8080/"
        },
        "id": "MQU8gPPjQuYO",
        "outputId": "bf96bd43-b73d-4cff-b86b-3447e860d53f"
      },
      "source": [
        "!grep -xvFf output1.txt output2.txt "
      ],
      "execution_count": 10,
      "outputs": [
        {
          "output_type": "stream",
          "text": [
            "4\n"
          ],
          "name": "stdout"
        }
      ]
    },
    {
      "cell_type": "code",
      "metadata": {
        "colab": {
          "base_uri": "https://localhost:8080/"
        },
        "id": "jYL9OuYBTD_l",
        "outputId": "9e254171-6c6a-4308-d9f0-d01fd1dbc977"
      },
      "source": [
        "!grep -xvFf output2.txt output1.txt "
      ],
      "execution_count": 11,
      "outputs": [
        {
          "output_type": "stream",
          "text": [
            "12\n"
          ],
          "name": "stdout"
        }
      ]
    },
    {
      "cell_type": "code",
      "metadata": {
        "id": "Jlja0Xm4TX9M"
      },
      "source": [
        "!./sum < input1.txt> ctest1.txt\n",
        "!grep -xvFf output1.txt ctest1.txt"
      ],
      "execution_count": 12,
      "outputs": []
    },
    {
      "cell_type": "code",
      "metadata": {
        "id": "g9OIUZA_QLCQ"
      },
      "source": [
        "!./sum < input2.txt > ctest2.txt\n",
        "!grep -xvFf output2.txt ctest2.txt"
      ],
      "execution_count": 13,
      "outputs": []
    },
    {
      "cell_type": "markdown",
      "metadata": {
        "id": "3BgOaDjUVJk6"
      },
      "source": [
        "## Python"
      ]
    },
    {
      "cell_type": "code",
      "metadata": {
        "colab": {
          "base_uri": "https://localhost:8080/"
        },
        "id": "DBvl-T0CTN_8",
        "outputId": "be1d9ff9-5ba8-477d-fce5-327fefad89dc"
      },
      "source": [
        "%%writefile sum.py\n",
        "# python3\n",
        "\n",
        "\n",
        "def sum_of_two_digits(first_digit, second_digit):\n",
        "    return first_digit + second_digit\n",
        "\n",
        "if __name__ == '__main__':\n",
        "    a, b = map(int, input().split())\n",
        "    print(sum_of_two_digits(a, b))"
      ],
      "execution_count": 14,
      "outputs": [
        {
          "output_type": "stream",
          "text": [
            "Overwriting sum.py\n"
          ],
          "name": "stdout"
        }
      ]
    },
    {
      "cell_type": "code",
      "metadata": {
        "colab": {
          "base_uri": "https://localhost:8080/"
        },
        "id": "QKoKM11_WGyF",
        "outputId": "b2943b35-aafd-4a88-8595-094421ece3a7"
      },
      "source": [
        "!python sum.py"
      ],
      "execution_count": 15,
      "outputs": [
        {
          "output_type": "stream",
          "text": [
            "12 65\n",
            "77\n"
          ],
          "name": "stdout"
        }
      ]
    },
    {
      "cell_type": "code",
      "metadata": {
        "id": "cocFbPRTWrqt"
      },
      "source": [
        "!python sum.py  < input1.txt> ptest1.txt\n",
        "!grep -xvFf output1.txt ptest1.txt"
      ],
      "execution_count": 16,
      "outputs": []
    },
    {
      "cell_type": "code",
      "metadata": {
        "id": "MorKTa-XXASN"
      },
      "source": [
        "!python sum.py  < input2.txt> ptest2.txt\n",
        "!grep -xvFf output2.txt ptest2.txt"
      ],
      "execution_count": 17,
      "outputs": []
    },
    {
      "cell_type": "markdown",
      "metadata": {
        "id": "uvP-mOubW_5F"
      },
      "source": [
        "# II Solving The Maximum Pairwise Product Programming Challenge in C++"
      ]
    },
    {
      "cell_type": "markdown",
      "metadata": {
        "id": "C12yoFR6Xonl"
      },
      "source": [
        "## C++"
      ]
    },
    {
      "cell_type": "code",
      "metadata": {
        "colab": {
          "base_uri": "https://localhost:8080/"
        },
        "id": "YL4qJX3tXxdd",
        "outputId": "4cb82254-e7f7-464b-b4df-09448c983f18"
      },
      "source": [
        "%%writefile max_pairwise_product1.cpp\n",
        "#include <iostream>\n",
        "#include <vector>\n",
        "#include <algorithm>\n",
        "\n",
        "int MaxPairwiseProduct(const std::vector<int>& numbers) {\n",
        "    int max_product = 0;\n",
        "    int n = numbers.size();\n",
        "\n",
        "    for (int first = 0; first < n; ++first) {\n",
        "        for (int second = first + 1; second < n; ++second) {\n",
        "            max_product = std::max(max_product,\n",
        "                numbers[first] * numbers[second]);\n",
        "        }\n",
        "    }\n",
        "\n",
        "    return max_product;\n",
        "}\n",
        "\n",
        "int main() {\n",
        "    int n;\n",
        "    std::cin >> n;\n",
        "    std::vector<int> numbers(n);\n",
        "    for (int i = 0; i < n; ++i) {\n",
        "        std::cin >> numbers[i];\n",
        "    }\n",
        "\n",
        "    std::cout << MaxPairwiseProduct(numbers) << \"\\n\";\n",
        "    return 0;\n",
        "}\n"
      ],
      "execution_count": 18,
      "outputs": [
        {
          "output_type": "stream",
          "text": [
            "Overwriting max_pairwise_product1.cpp\n"
          ],
          "name": "stdout"
        }
      ]
    },
    {
      "cell_type": "code",
      "metadata": {
        "colab": {
          "base_uri": "https://localhost:8080/"
        },
        "id": "KGxaEjvWX__O",
        "outputId": "a4bcc236-3155-492d-a531-f809da15d059"
      },
      "source": [
        "!g++ max_pairwise_product1.cpp -o max_pairwise_product1\n",
        "!./max_pairwise_product1"
      ],
      "execution_count": 19,
      "outputs": [
        {
          "output_type": "stream",
          "text": [
            "3\n",
            "1 23 2\n",
            "46\n"
          ],
          "name": "stdout"
        }
      ]
    },
    {
      "cell_type": "markdown",
      "metadata": {
        "id": "IeZ3kTjpYmR9"
      },
      "source": [
        "### Test 1: lagest input numbers 200000 200000 in the input"
      ]
    },
    {
      "cell_type": "code",
      "metadata": {
        "colab": {
          "base_uri": "https://localhost:8080/"
        },
        "id": "LQNlZqaqYt7U",
        "outputId": "62f64b9c-66e1-4fba-d3f1-0544151c066c"
      },
      "source": [
        "%%writefile input1.txt\n",
        "5\n",
        "1 3 200000 9 200000 23"
      ],
      "execution_count": 20,
      "outputs": [
        {
          "output_type": "stream",
          "text": [
            "Overwriting input1.txt\n"
          ],
          "name": "stdout"
        }
      ]
    },
    {
      "cell_type": "code",
      "metadata": {
        "colab": {
          "base_uri": "https://localhost:8080/"
        },
        "id": "2Wad2VZUZDxR",
        "outputId": "d2a0c48b-cfde-4cf2-8b46-f3402a2e9e0c"
      },
      "source": [
        "!./max_pairwise_product1 < input1.txt"
      ],
      "execution_count": 21,
      "outputs": [
        {
          "output_type": "stream",
          "text": [
            "1345294336\n"
          ],
          "name": "stdout"
        }
      ]
    },
    {
      "cell_type": "code",
      "metadata": {
        "colab": {
          "base_uri": "https://localhost:8080/"
        },
        "id": "MPcmsxiQZSfE",
        "outputId": "7a7ebc44-fa61-4802-9b94-2456a28d2b30"
      },
      "source": [
        "%%writefile max_pairwise_product2.cpp\n",
        "#include <iostream>\n",
        "#include <vector>\n",
        "#include <algorithm>\n",
        "\n",
        "long long MaxPairwiseProduct(const std::vector<int>& numbers) {\n",
        "    long long max_product = 0LL;\n",
        "\t  long long aux_product = 0LL;\n",
        "    int n = numbers.size();\n",
        "\n",
        "    for (int first = 0; first < n; ++first) {\n",
        "        for (int second = first + 1; second < n; ++second) {\n",
        "\t\t\t       aux_product =  (long long) numbers[first] * numbers[second];\n",
        "            if ( max_product < aux_product)  {\n",
        "\t\t\t\t        max_product = aux_product;\n",
        "             }\n",
        "        }\n",
        "    }\n",
        "\n",
        "    return max_product;\n",
        "}\n",
        "\n",
        "int main() {\n",
        "    int n;\n",
        "    std::cin >> n;\n",
        "    std::vector<int> numbers(n);\n",
        "    for (int i = 0; i < n; ++i) {\n",
        "        std::cin >> numbers[i];\n",
        "    }\n",
        "\n",
        "    std::cout << MaxPairwiseProduct(numbers) << \"\\n\";\n",
        "    return 0;\n",
        "}\n"
      ],
      "execution_count": 22,
      "outputs": [
        {
          "output_type": "stream",
          "text": [
            "Overwriting max_pairwise_product2.cpp\n"
          ],
          "name": "stdout"
        }
      ]
    },
    {
      "cell_type": "code",
      "metadata": {
        "colab": {
          "base_uri": "https://localhost:8080/"
        },
        "id": "I5pCeOG1Zm7s",
        "outputId": "e5c8b1fb-c5df-4bd6-a615-472a5077356a"
      },
      "source": [
        "!g++ max_pairwise_product2.cpp -o max_pairwise_product2\n",
        "!./max_pairwise_product2 < input1.txt"
      ],
      "execution_count": 23,
      "outputs": [
        {
          "output_type": "stream",
          "text": [
            "40000000000\n"
          ],
          "name": "stdout"
        }
      ]
    },
    {
      "cell_type": "markdown",
      "metadata": {
        "id": "9z9yr5QkeyJF"
      },
      "source": [
        "### Test 2  generate a tests file with the maximun n 200000 numbres and measure time"
      ]
    },
    {
      "cell_type": "code",
      "metadata": {
        "id": "vpxcIqRO-2gC"
      },
      "source": [
        "import random\n",
        "\n",
        "n=200000\n",
        "lis=[]\n",
        "\n",
        "for i in range(n):\n",
        "  a = random.randint(0,n)\n",
        "  lis.append(\" \"+str(a))\n",
        "\n",
        "archivo=open(\"input2.txt\", 'w')\n",
        "archivo.write(str(n) + \"\\n\"+\"\".join(lis))\n",
        "archivo.close()"
      ],
      "execution_count": 24,
      "outputs": []
    },
    {
      "cell_type": "code",
      "metadata": {
        "colab": {
          "base_uri": "https://localhost:8080/"
        },
        "id": "5OUysUNnBOTL",
        "outputId": "20ac4669-ad0c-46d2-e2ad-6a6b994a5101"
      },
      "source": [
        "%%time\n",
        "!g++ max_pairwise_product2.cpp -o max_pairwise_product2\n",
        "!./max_pairwise_product2 < input2.txt"
      ],
      "execution_count": 25,
      "outputs": [
        {
          "output_type": "stream",
          "text": [
            "39998400015\n",
            "CPU times: user 768 ms, sys: 103 ms, total: 871 ms\n",
            "Wall time: 2min 9s\n"
          ],
          "name": "stdout"
        }
      ]
    },
    {
      "cell_type": "markdown",
      "metadata": {
        "id": "sc9nOLQrfTm0"
      },
      "source": [
        "### Efficient solution "
      ]
    },
    {
      "cell_type": "code",
      "metadata": {
        "id": "oLiMjbAIfPlX",
        "colab": {
          "base_uri": "https://localhost:8080/"
        },
        "outputId": "e568eddc-92d4-4453-e0c8-3c8c6813ea61"
      },
      "source": [
        "%%writefile max_pairwise_product_fast.cpp\n",
        "#include <iostream>\n",
        "#include <vector>\n",
        "\n",
        "using std::vector;\n",
        "using std::cin;\n",
        "using std::cout;\n",
        "\n",
        "long long MaxPairwiseProductFast(const vector<int> & numbers)\n",
        "{\n",
        "    int n=numbers.size();\n",
        "\n",
        "    int max_index1=-1;\n",
        "    for(int i=0;i<n;i++)\n",
        "    {\n",
        "        if((max_index1==-1) || (numbers[i]>numbers[max_index1]))\n",
        "            max_index1=i;\n",
        "    }\n",
        "     \n",
        "    int max_index2=-1;\n",
        "    for(int j=0;j<n;j++)\n",
        "    {\n",
        "        if((j!=max_index1) && ((max_index2==-1) || (numbers[j]>numbers[max_index2])))\n",
        "            max_index2=j;\n",
        "    }\n",
        "    \n",
        "    return ((long long)(numbers[max_index1]))*numbers[max_index2];\n",
        "}\n",
        "\n",
        "int main()\n",
        "{\n",
        "    int n;\n",
        "    cin>>n;\n",
        "    vector<int> numbers(n);\n",
        "    for(int i=0;i<n;i++)\n",
        "    {\n",
        "        cin>>numbers[i];\n",
        "    }\n",
        "\n",
        "    long long result=MaxPairwiseProductFast(vector<int>(numbers));\n",
        "    cout<<result<<\"\\n\";\n",
        "    return 0;\n",
        "}"
      ],
      "execution_count": 26,
      "outputs": [
        {
          "output_type": "stream",
          "text": [
            "Overwriting max_pairwise_product_fast.cpp\n"
          ],
          "name": "stdout"
        }
      ]
    },
    {
      "cell_type": "code",
      "metadata": {
        "colab": {
          "base_uri": "https://localhost:8080/"
        },
        "id": "5iz4-gDq8BO4",
        "outputId": "a6688783-44b2-403f-ef8c-42324a85e673"
      },
      "source": [
        "!g++ max_pairwise_product_fast.cpp -o max_pairwise_product_fast\n",
        "!./max_pairwise_product_fast < input1.txt"
      ],
      "execution_count": 27,
      "outputs": [
        {
          "output_type": "stream",
          "text": [
            "40000000000\n"
          ],
          "name": "stdout"
        }
      ]
    },
    {
      "cell_type": "markdown",
      "metadata": {
        "id": "bhqiKQG6fjKM"
      },
      "source": [
        "###Stress tests "
      ]
    },
    {
      "cell_type": "code",
      "metadata": {
        "id": "vyCdPtEtbnYm",
        "colab": {
          "base_uri": "https://localhost:8080/"
        },
        "outputId": "d32d6dde-5fc4-4060-cd14-951da14879b3"
      },
      "source": [
        "%%writefile max_pairwise_product_fast_stress_test.cpp\n",
        "#include <cstdlib>\n",
        "#include <iostream>\n",
        "#include <vector>\n",
        "\n",
        "using std::vector;\n",
        "using std::cin;\n",
        "using std::cout;\n",
        "\n",
        "long long MaxPairwiseProduct(const std::vector<int>& numbers) {\n",
        "    long long max_product = 0LL;\n",
        "    long long aux_product = 0LL;\n",
        "    int n = numbers.size();\n",
        "\n",
        "    for (int first = 0; first < n; ++first)\n",
        "    {\n",
        "        for (int second = first + 1; second < n; ++second)\n",
        "        {\n",
        "            aux_product =  (long long) numbers[first] * numbers[second];\n",
        "\n",
        "            if ( max_product < aux_product)\n",
        "            {\n",
        "\t\t\t\t        max_product = aux_product;\n",
        "            }\n",
        "        }\n",
        "    }\n",
        "\n",
        "    return max_product;\n",
        "}\n",
        "\n",
        "long long MaxPairwiseProductRap(const vector<int> & numbers)\n",
        "{\n",
        "    int n=numbers.size();\n",
        "\n",
        "    int max_ind1=-1;\n",
        "    for(int i=0;i<n;i++)\n",
        "    {\n",
        "        if((max_ind1==-1) || (numbers[i]>numbers[max_ind1]))\n",
        "            max_ind1=i;\n",
        "    }\n",
        "\n",
        "    int max_ind2=-1;\n",
        "    for(int j=0;j<n;j++)\n",
        "    {\n",
        "        if((j!=max_ind1) && ((max_ind2==-1) || (numbers[j]>numbers[max_ind2])))\n",
        "            max_ind2=j;\n",
        "    }\n",
        "\n",
        "    return ((long long)(numbers[max_ind1]))*numbers[max_ind2];\n",
        "}\n",
        "\n",
        "int main()\n",
        "{\n",
        "    while(true)\n",
        "    {\n",
        "        int n= rand() %10 +2;\n",
        "        cout<<n<<\"\\n\";\n",
        "        vector<int> a;\n",
        "        for(int i=0;i<n;i++)\n",
        "        {\n",
        "            a.push_back(rand() % 100000);\n",
        "        }\n",
        "        for(int i=0;i<n;i++)\n",
        "        {\n",
        "            cout<<a[i]<<' ';\n",
        "        }\n",
        "        cout<<\"\\n\";\n",
        "        long long res1=MaxPairwiseProduct(a);\n",
        "        long long res2=MaxPairwiseProductRap(a);\n",
        "        if(res1!=res2)\n",
        "        {\n",
        "            cout<<\"Incorrecto: \"<<res1<<' '<<res2<<\"\\n\";\n",
        "            break;\n",
        "        }\n",
        "        else\n",
        "        {\n",
        "            cout<<\"OK\\n\";\n",
        "        }\n",
        "    }\n",
        "    return 0;\n",
        "}"
      ],
      "execution_count": 28,
      "outputs": [
        {
          "output_type": "stream",
          "text": [
            "Overwriting max_pairwise_product_fast_stress_test.cpp\n"
          ],
          "name": "stdout"
        }
      ]
    },
    {
      "cell_type": "markdown",
      "metadata": {
        "id": "yBYnp6KjpxU0"
      },
      "source": [
        "###Measure with test file of the maximun n 200000 numbres "
      ]
    },
    {
      "cell_type": "code",
      "metadata": {
        "colab": {
          "base_uri": "https://localhost:8080/"
        },
        "id": "sMf0OZdvECE7",
        "outputId": "f55fa49f-3af1-4ce3-9e47-6872ec890a94"
      },
      "source": [
        "%%time\n",
        "!g++ max_pairwise_product_fast.cpp -o max_pairwise_product_fast\n",
        "!./max_pairwise_product_fast < input2.txt"
      ],
      "execution_count": 29,
      "outputs": [
        {
          "output_type": "stream",
          "text": [
            "39998400015\n",
            "CPU times: user 13.4 ms, sys: 13.1 ms, total: 26.5 ms\n",
            "Wall time: 636 ms\n"
          ],
          "name": "stdout"
        }
      ]
    },
    {
      "cell_type": "markdown",
      "metadata": {
        "id": "rydCU4bFfrhG"
      },
      "source": [
        "## Python"
      ]
    },
    {
      "cell_type": "code",
      "metadata": {
        "colab": {
          "base_uri": "https://localhost:8080/"
        },
        "id": "YHlshm-0AyUa",
        "outputId": "9a9dfddc-c230-4b13-be1b-0f8a542adc7e"
      },
      "source": [
        "%%writefile product.py\n",
        "def max_pairwise_product2 (numbers):\n",
        "    max_ind1=-1\n",
        "    n=len(numbers)\n",
        "    for x in range(n):\n",
        "        if((max_ind1==-1)or(numbers[x]>numbers[max_ind1])):\n",
        "            max_ind1=x\n",
        "    max_ind2=-1\n",
        "    for y in range(n):\n",
        "        if((y!=max_ind1)and((max_ind2==-1)or(numbers[y]>numbers[max_ind2]))):\n",
        "            max_ind2=y\n",
        "    return numbers[max_ind1]*numbers[max_ind2]\n",
        "\n",
        "\n",
        "if __name__ == '__main__':\n",
        "    input_n = int(input())\n",
        "    input_numbers = [int(x) for x in input().split()]\n",
        "    print(max_pairwise_product2(input_numbers))"
      ],
      "execution_count": 30,
      "outputs": [
        {
          "output_type": "stream",
          "text": [
            "Overwriting product.py\n"
          ],
          "name": "stdout"
        }
      ]
    },
    {
      "cell_type": "code",
      "metadata": {
        "colab": {
          "base_uri": "https://localhost:8080/"
        },
        "id": "7grWSNRtNVZ8",
        "outputId": "a8086f11-3446-4944-bdb4-f588d8d70d73"
      },
      "source": [
        "!python product.py  "
      ],
      "execution_count": 31,
      "outputs": [
        {
          "output_type": "stream",
          "text": [
            "5\n",
            "1 23 4 3 10\n",
            "230\n"
          ],
          "name": "stdout"
        }
      ]
    },
    {
      "cell_type": "markdown",
      "metadata": {
        "id": "D5ja5B8dGEGY"
      },
      "source": [
        "# Coursera"
      ]
    },
    {
      "cell_type": "markdown",
      "metadata": {
        "id": "8mJ-L12GKfFS"
      },
      "source": [
        "![imagen](https://raw.githubusercontent.com/judgonzalezmu/AlgorithmsUN2021I/main/AlgorithmicToolbox/Week1/Coursera%201.jpg)"
      ]
    },
    {
      "cell_type": "markdown",
      "metadata": {
        "id": "PMQLqLO_K2b6"
      },
      "source": [
        "![imagen2](https://raw.githubusercontent.com/judgonzalezmu/AlgorithmsUN2021I/main/AlgorithmicToolbox/Week1/Coursera%202.jpg)"
      ]
    }
  ]
}