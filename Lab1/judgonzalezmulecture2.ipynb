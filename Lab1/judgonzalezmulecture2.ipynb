{
  "nbformat": 4,
  "nbformat_minor": 0,
  "metadata": {
    "kernelspec": {
      "display_name": "Python 3.5",
      "language": "python",
      "name": "py35"
    },
    "language_info": {
      "codemirror_mode": {
        "name": "ipython",
        "version": 3
      },
      "file_extension": ".py",
      "mimetype": "text/x-python",
      "name": "python",
      "nbconvert_exporter": "python",
      "pygments_lexer": "ipython3",
      "version": "3.6.5"
    },
    "colab": {
      "name": "judgonzalezmulecture2.ipynb",
      "provenance": [],
      "toc_visible": true
    }
  },
  "cells": [
    {
      "cell_type": "markdown",
      "metadata": {
        "id": "0HKTlqc_HYSH"
      },
      "source": [
        "# Introduction to Python\n",
        "by Maxwell Margenot\n",
        "\n",
        "Part of the Quantopian Lecture Series:\n",
        "\n",
        "* [www.quantopian.com/lectures](https://www.quantopian.com/lectures)\n",
        "* [github.com/quantopian/research_public](https://github.com/quantopian/research_public)\n",
        "\n",
        "\n",
        "---\n",
        "\n",
        "All of the coding that you will do on the Quantopian platform will be in Python. It is also just a good, jack-of-all-trades language to know! Here we will provide you with the basics so that you can feel confident going through our other lectures and understanding what is happening."
      ]
    },
    {
      "cell_type": "markdown",
      "metadata": {
        "id": "Vr286ligHYSR"
      },
      "source": [
        "## Code Comments\n",
        "\n",
        "A comment is a note made by a programmer in the source code of a program. Its purpose is to clarify the source code and make it easier for people to follow along with what is happening. Anything in a comment is generally ignored when the code is actually run, making comments useful for including explanations and reasoning as well as removing specific lines of code that you may be unsure about. Comments in Python are created by using the pound symbol (`# Insert Text Here`). Including a `#` in a line of code will comment out anything that follows it."
      ]
    },
    {
      "cell_type": "code",
      "metadata": {
        "id": "tVp4KfsGHYSS"
      },
      "source": [
        "# This is a comment\n",
        "# These lines of code will not change any values\n",
        "# Anything following the first # is not run as code"
      ],
      "execution_count": 1,
      "outputs": []
    },
    {
      "cell_type": "markdown",
      "metadata": {
        "id": "YHx1LJeMOlTw"
      },
      "source": [
        "### **Example**"
      ]
    },
    {
      "cell_type": "code",
      "metadata": {
        "id": "u3uXp79xOoOe"
      },
      "source": [
        "#Un comentario simple\r\n",
        "#Es solo una anotación\r\n",
        "#no influye en el código"
      ],
      "execution_count": 2,
      "outputs": []
    },
    {
      "cell_type": "markdown",
      "metadata": {
        "id": "CnQ7YVspHYSS"
      },
      "source": [
        "You may hear text enclosed in triple quotes (`\"\"\" Insert Text Here \"\"\"`) referred to as multi-line comments, but this is not entirely accurate. This is a special type of `string` (a data type we will cover), called a `docstring`, used to explain the purpose of a function."
      ]
    },
    {
      "cell_type": "code",
      "metadata": {
        "colab": {
          "base_uri": "https://localhost:8080/",
          "height": 0
        },
        "id": "a4SKzN_ZHYST",
        "outputId": "313136ec-624c-4b5d-c58c-adac538e7597"
      },
      "source": [
        "\"\"\" This is a special string \"\"\""
      ],
      "execution_count": 3,
      "outputs": [
        {
          "output_type": "execute_result",
          "data": {
            "application/vnd.google.colaboratory.intrinsic+json": {
              "type": "string"
            },
            "text/plain": [
              "' This is a special string '"
            ]
          },
          "metadata": {
            "tags": []
          },
          "execution_count": 3
        }
      ]
    },
    {
      "cell_type": "markdown",
      "metadata": {
        "id": "Q6Rdo3i0tcoi"
      },
      "source": [
        "### **Example**"
      ]
    },
    {
      "cell_type": "code",
      "metadata": {
        "colab": {
          "base_uri": "https://localhost:8080/",
          "height": 0
        },
        "id": "f0wrtAl5tevQ",
        "outputId": "3ea7f1be-f1a2-49e7-81f4-aa7c06a2913d"
      },
      "source": [
        "\"\"\"Un comentario simple\r\n",
        "Es solo una anotación\r\n",
        "no influye en el código\"\"\""
      ],
      "execution_count": 4,
      "outputs": [
        {
          "output_type": "execute_result",
          "data": {
            "application/vnd.google.colaboratory.intrinsic+json": {
              "type": "string"
            },
            "text/plain": [
              "'Un comentario simple\\nEs solo una anotación\\nno influye en el código'"
            ]
          },
          "metadata": {
            "tags": []
          },
          "execution_count": 4
        }
      ]
    },
    {
      "cell_type": "markdown",
      "metadata": {
        "id": "8OyGAGP4HYST"
      },
      "source": [
        "Make sure you read the comments within each code cell (if they are there). They will provide more real-time explanations of what is going on as you look at each line of code."
      ]
    },
    {
      "cell_type": "markdown",
      "metadata": {
        "id": "Y14MYtnqHYSU"
      },
      "source": [
        "## Variables\n",
        "\n",
        "Variables provide names for values in programming. If you want to save a value for later or repeated use, you give the value a name, storing the contents in a variable. Variables in programming work in a fundamentally similar way to variables in algebra, but in Python they can take on various different data types.\n",
        "\n",
        "The basic variable types that we will cover in this section are `integers`, `floating point numbers`, `booleans`, and `strings`. \n",
        "\n",
        "An `integer` in programming is the same as in mathematics, a round number with no values after the decimal point. We use the built-in `print` function here to display the values of our variables as well as their types!"
      ]
    },
    {
      "cell_type": "code",
      "metadata": {
        "colab": {
          "base_uri": "https://localhost:8080/"
        },
        "id": "tfvSkhhsHYSU",
        "outputId": "ddd347a0-a7c7-4c5c-cc5c-064563532f98"
      },
      "source": [
        "my_integer = 50\n",
        "print (my_integer, type(my_integer))"
      ],
      "execution_count": 5,
      "outputs": [
        {
          "output_type": "stream",
          "text": [
            "50 <class 'int'>\n"
          ],
          "name": "stdout"
        }
      ]
    },
    {
      "cell_type": "markdown",
      "metadata": {
        "id": "RtFlcWTkHYSV"
      },
      "source": [
        "Variables, regardless of type, are assigned by using a single equals sign (`=`). Variables are case-sensitive so any changes in variation in the capitals of a variable name will reference a different variable entirely."
      ]
    },
    {
      "cell_type": "code",
      "metadata": {
        "colab": {
          "base_uri": "https://localhost:8080/"
        },
        "id": "OSM7YyETHYSV",
        "outputId": "bcc4d432-6979-4aab-c1f4-9ebec1efdfd5"
      },
      "source": [
        "one = 1\n",
        "print (one)"
      ],
      "execution_count": 6,
      "outputs": [
        {
          "output_type": "stream",
          "text": [
            "1\n"
          ],
          "name": "stdout"
        }
      ]
    },
    {
      "cell_type": "markdown",
      "metadata": {
        "id": "wX9DhvfuHRPD"
      },
      "source": [
        "### **Example**"
      ]
    },
    {
      "cell_type": "code",
      "metadata": {
        "colab": {
          "base_uri": "https://localhost:8080/"
        },
        "id": "XTQ0kH0bHTp7",
        "outputId": "ec811a18-23ce-42e2-a7e9-afdb16d0808e"
      },
      "source": [
        "entero=5\r\n",
        "print(entero, type(entero))"
      ],
      "execution_count": 7,
      "outputs": [
        {
          "output_type": "stream",
          "text": [
            "5 <class 'int'>\n"
          ],
          "name": "stdout"
        }
      ]
    },
    {
      "cell_type": "markdown",
      "metadata": {
        "id": "dbGsdljJHYSV"
      },
      "source": [
        "A `floating point` number, or a `float` is a fancy name for a real number (again as in mathematics). To define a `float`, we need to either include a decimal point or specify that the value is a float."
      ]
    },
    {
      "cell_type": "code",
      "metadata": {
        "scrolled": true,
        "id": "n3qm2CwnHYSW",
        "colab": {
          "base_uri": "https://localhost:8080/"
        },
        "outputId": "b7989cf5-2008-4c2c-843b-2a1a92405f90"
      },
      "source": [
        "my_float = 1.0\n",
        "print (my_float, type(my_float))\n",
        "my_float = float(1)\n",
        "print (my_float, type(my_float))"
      ],
      "execution_count": 8,
      "outputs": [
        {
          "output_type": "stream",
          "text": [
            "1.0 <class 'float'>\n",
            "1.0 <class 'float'>\n"
          ],
          "name": "stdout"
        }
      ]
    },
    {
      "cell_type": "markdown",
      "metadata": {
        "id": "R0y38ipxHYSW"
      },
      "source": [
        "A variable of type `float` will not round the number that you store in it, while a variable of type `integer` will. This makes `floats` more suitable for mathematical calculations where you want more than just integers.\n",
        "\n",
        "Note that as we used the `float()` function to force an number to be considered a `float`, we can use the `int()` function to force a number to be considered an `int`."
      ]
    },
    {
      "cell_type": "code",
      "metadata": {
        "id": "MVdtSm2VHYSW",
        "colab": {
          "base_uri": "https://localhost:8080/"
        },
        "outputId": "19a131a1-9869-446e-ee12-636796ca0f6f"
      },
      "source": [
        "my_int = int(3.14159)\n",
        "print (my_int, type(my_int))"
      ],
      "execution_count": 9,
      "outputs": [
        {
          "output_type": "stream",
          "text": [
            "3 <class 'int'>\n"
          ],
          "name": "stdout"
        }
      ]
    },
    {
      "cell_type": "markdown",
      "metadata": {
        "id": "XkxpWo6UH8SB"
      },
      "source": [
        "### **Example**\r\n",
        "\r\n",
        "Tomando $e$ que se define como:\\\r\n",
        "\\begin{equation}\r\n",
        "  e=\\sum_{n=0}^{100}\\frac{1}{n!}\r\n",
        "\\end{equation}\r\n"
      ]
    },
    {
      "cell_type": "code",
      "metadata": {
        "colab": {
          "base_uri": "https://localhost:8080/"
        },
        "id": "EzuaTlPAIGYg",
        "outputId": "5cb57073-5743-43c8-a0e6-8ebf296beb6d"
      },
      "source": [
        "entero=int(2.72828)\r\n",
        "float2=float(5)\r\n",
        "print(entero, type(entero), float2, type(float2))"
      ],
      "execution_count": 10,
      "outputs": [
        {
          "output_type": "stream",
          "text": [
            "2 <class 'int'> 5.0 <class 'float'>\n"
          ],
          "name": "stdout"
        }
      ]
    },
    {
      "cell_type": "markdown",
      "metadata": {
        "id": "kZ8MN9GnHYSX"
      },
      "source": [
        "The `int()` function will also truncate any digits that a number may have after the decimal point!\n",
        "\n",
        "Strings allow you to include text as a variable to operate on. They are defined using either single quotes ('') or double quotes (\"\")."
      ]
    },
    {
      "cell_type": "code",
      "metadata": {
        "id": "u3jyjj-iHYSX",
        "colab": {
          "base_uri": "https://localhost:8080/"
        },
        "outputId": "ebd6f491-f1ec-4224-8156-557166065900"
      },
      "source": [
        "my_string = 'This is a string with single quotes'\n",
        "print (my_string)\n",
        "my_string = \"This is a string with double quotes\"\n",
        "print (my_string)"
      ],
      "execution_count": 11,
      "outputs": [
        {
          "output_type": "stream",
          "text": [
            "This is a string with single quotes\n",
            "This is a string with double quotes\n"
          ],
          "name": "stdout"
        }
      ]
    },
    {
      "cell_type": "markdown",
      "metadata": {
        "id": "yc9FYrOMHYSX"
      },
      "source": [
        "Both are allowed so that we can include apostrophes or quotation marks in a string if we so choose."
      ]
    },
    {
      "cell_type": "code",
      "metadata": {
        "id": "OG7WPlAUHYSX",
        "colab": {
          "base_uri": "https://localhost:8080/"
        },
        "outputId": "325bc85f-1a7c-400b-f5f3-170a7bb26983"
      },
      "source": [
        "my_string = '\"Jabberwocky\", by Lewis Carroll'\n",
        "print (my_string)\n",
        "my_string = \"'Twas brillig, and the slithy toves / Did gyre and gimble in the wabe;\"\n",
        "print (my_string)"
      ],
      "execution_count": 12,
      "outputs": [
        {
          "output_type": "stream",
          "text": [
            "\"Jabberwocky\", by Lewis Carroll\n",
            "'Twas brillig, and the slithy toves / Did gyre and gimble in the wabe;\n"
          ],
          "name": "stdout"
        }
      ]
    },
    {
      "cell_type": "markdown",
      "metadata": {
        "id": "od4JrSmUZUrx"
      },
      "source": [
        "### **Example**"
      ]
    },
    {
      "cell_type": "code",
      "metadata": {
        "colab": {
          "base_uri": "https://localhost:8080/"
        },
        "id": "hgMxY-TiZWy7",
        "outputId": "a0996f74-46c6-4730-cb04-90bffcccf9c8"
      },
      "source": [
        "a='\"Así se escribe una frase entre comillas\"'\r\n",
        "print(a)"
      ],
      "execution_count": 13,
      "outputs": [
        {
          "output_type": "stream",
          "text": [
            "\"Así se escribe una frase entre comillas\"\n"
          ],
          "name": "stdout"
        }
      ]
    },
    {
      "cell_type": "markdown",
      "metadata": {
        "id": "q24sDBgWHYSY"
      },
      "source": [
        "Booleans, or `bools` are binary variable types. A `bool` can only take on one of two values, these being `True` or `False`. There is much more to this idea of truth values when it comes to programming, which we cover later in the [Logical Operators](#id-section5) of this notebook."
      ]
    },
    {
      "cell_type": "code",
      "metadata": {
        "id": "6kESDQglHYSY",
        "colab": {
          "base_uri": "https://localhost:8080/"
        },
        "outputId": "e4ffbb54-cc79-4b1d-b23b-77fb066b8280"
      },
      "source": [
        "my_bool = True\n",
        "print (my_bool, type(my_bool))"
      ],
      "execution_count": 14,
      "outputs": [
        {
          "output_type": "stream",
          "text": [
            "True <class 'bool'>\n"
          ],
          "name": "stdout"
        }
      ]
    },
    {
      "cell_type": "markdown",
      "metadata": {
        "id": "LOFHTftEHYSY"
      },
      "source": [
        "There are many more data types that you can assign as variables in Python, but these are the basic ones! We will cover a few more later as we move through this tutorial."
      ]
    },
    {
      "cell_type": "markdown",
      "metadata": {
        "id": "h6-nc0xOHYSZ"
      },
      "source": [
        "## Basic Math\n",
        "\n",
        "Python has a number of built-in math functions. These can be extended even further by importing the **math** package or by including any number of other calculation-based packages.\n",
        "\n",
        "All of the basic arithmetic operations are supported: `+`, `-`, `/`, and `*`. You can create exponents by using `**` and modular arithmetic is introduced with the mod operator, `%`."
      ]
    },
    {
      "cell_type": "code",
      "metadata": {
        "id": "B2UDvrvYHYSZ",
        "colab": {
          "base_uri": "https://localhost:8080/"
        },
        "outputId": "04c63716-9efd-4576-906d-3a8cf592b406"
      },
      "source": [
        "print ('Addition: ', 2 + 2)\n",
        "print ('Subtraction: ', 7 - 4)\n",
        "print ('Multiplication: ', 2 * 5)\n",
        "print ('Division: ', 10 / 2)\n",
        "print ('Exponentiation: ', 3**2)"
      ],
      "execution_count": 15,
      "outputs": [
        {
          "output_type": "stream",
          "text": [
            "Addition:  4\n",
            "Subtraction:  3\n",
            "Multiplication:  10\n",
            "Division:  5.0\n",
            "Exponentiation:  9\n"
          ],
          "name": "stdout"
        }
      ]
    },
    {
      "cell_type": "markdown",
      "metadata": {
        "id": "1AOC2L4LHYSZ"
      },
      "source": [
        "If you are not familiar with the the mod operator, it operates like a remainder function. If we type $15 \\ \\% \\ 4$, it will return the remainder after dividing $15$ by $4$."
      ]
    },
    {
      "cell_type": "code",
      "metadata": {
        "id": "-FkMoohbHYSZ",
        "colab": {
          "base_uri": "https://localhost:8080/"
        },
        "outputId": "0166b415-b3a3-49e5-90d1-0eb56d8a0cd9"
      },
      "source": [
        "print ('Modulo: ', 15 % 4)"
      ],
      "execution_count": 16,
      "outputs": [
        {
          "output_type": "stream",
          "text": [
            "Modulo:  3\n"
          ],
          "name": "stdout"
        }
      ]
    },
    {
      "cell_type": "markdown",
      "metadata": {
        "id": "GSvH88EJHYSa"
      },
      "source": [
        "Mathematical functions also work on variables!"
      ]
    },
    {
      "cell_type": "code",
      "metadata": {
        "scrolled": true,
        "id": "PKRXnxHfHYSa",
        "colab": {
          "base_uri": "https://localhost:8080/"
        },
        "outputId": "aa897a51-b2e8-4a58-fa85-bb0f8d47040b"
      },
      "source": [
        "first_integer = 4\n",
        "second_integer = 5\n",
        "print (first_integer * second_integer)"
      ],
      "execution_count": 17,
      "outputs": [
        {
          "output_type": "stream",
          "text": [
            "20\n"
          ],
          "name": "stdout"
        }
      ]
    },
    {
      "cell_type": "markdown",
      "metadata": {
        "id": "aWv65VUDHYSa"
      },
      "source": [
        "Make sure that your variables are floats if you want to have decimal points in your answer. If you perform math exclusively with integers, you get an integer. Including any float in the calculation will make the result a float."
      ]
    },
    {
      "cell_type": "code",
      "metadata": {
        "id": "VuqarWY6HYSa",
        "colab": {
          "base_uri": "https://localhost:8080/"
        },
        "outputId": "99a0aaa0-616e-43d2-b99b-ff5ee183e269"
      },
      "source": [
        "first_integer = 11\n",
        "second_integer = 3\n",
        "print (first_integer / second_integer)"
      ],
      "execution_count": 18,
      "outputs": [
        {
          "output_type": "stream",
          "text": [
            "3.6666666666666665\n"
          ],
          "name": "stdout"
        }
      ]
    },
    {
      "cell_type": "code",
      "metadata": {
        "id": "Y_NojltrHYSb",
        "colab": {
          "base_uri": "https://localhost:8080/"
        },
        "outputId": "c9e72afc-5dbf-46df-e59b-618f88e6616d"
      },
      "source": [
        "first_number = 11.0\n",
        "second_number = 3.0\n",
        "print (first_number / second_number)"
      ],
      "execution_count": 19,
      "outputs": [
        {
          "output_type": "stream",
          "text": [
            "3.6666666666666665\n"
          ],
          "name": "stdout"
        }
      ]
    },
    {
      "cell_type": "markdown",
      "metadata": {
        "id": "1BqXlVLxHYSb"
      },
      "source": [
        "Python has a few built-in math functions. The most notable of these are:\n",
        "\n",
        "* `abs()`\n",
        "* `round()`\n",
        "* `max()`\n",
        "* `min()`\n",
        "* `sum()`\n",
        "\n",
        "These functions all act as you would expect, given their names. Calling `abs()` on a number will return its absolute value. The `round()` function will round a number to a specified number of the decimal points (the default is $0$). Calling `max()` or `min()` on a collection of numbers will return, respectively, the maximum or minimum value in the collection. Calling `sum()` on a collection of numbers will add them all up. If you're not familiar with how collections of values in Python work, don't worry! We will cover collections in-depth in the next section. \n",
        "\n",
        "Additional math functionality can be added in with the `math` package."
      ]
    },
    {
      "cell_type": "markdown",
      "metadata": {
        "id": "Piz31ByLblFY"
      },
      "source": [
        "### **Example**"
      ]
    },
    {
      "cell_type": "code",
      "metadata": {
        "colab": {
          "base_uri": "https://localhost:8080/"
        },
        "id": "pIv7_EXkbkcW",
        "outputId": "4b2ace80-f7c6-4ac6-f8d8-01c0b931fa12"
      },
      "source": [
        "print (abs(-5))"
      ],
      "execution_count": 20,
      "outputs": [
        {
          "output_type": "stream",
          "text": [
            "5\n"
          ],
          "name": "stdout"
        }
      ]
    },
    {
      "cell_type": "code",
      "metadata": {
        "id": "l0UDF7daHYSc"
      },
      "source": [
        "import math"
      ],
      "execution_count": 21,
      "outputs": []
    },
    {
      "cell_type": "markdown",
      "metadata": {
        "id": "2N2VqZWgHYSc"
      },
      "source": [
        "The math library adds a long list of new mathematical functions to Python. Feel free to check out the [documentation](https://docs.python.org/2/library/math.html) for the full list and details. It concludes some mathematical constants"
      ]
    },
    {
      "cell_type": "code",
      "metadata": {
        "id": "tj-XFB0OHYSc",
        "colab": {
          "base_uri": "https://localhost:8080/"
        },
        "outputId": "af92cde0-b317-4913-a849-6b87362b2cb8"
      },
      "source": [
        "print ('Pi: ', math.pi)\n",
        "print (\"Euler's Constant: \", math.e)"
      ],
      "execution_count": 22,
      "outputs": [
        {
          "output_type": "stream",
          "text": [
            "Pi:  3.141592653589793\n",
            "Euler's Constant:  2.718281828459045\n"
          ],
          "name": "stdout"
        }
      ]
    },
    {
      "cell_type": "markdown",
      "metadata": {
        "id": "wtnVakBIej8i"
      },
      "source": [
        "### **Example**"
      ]
    },
    {
      "cell_type": "code",
      "metadata": {
        "colab": {
          "base_uri": "https://localhost:8080/"
        },
        "id": "Eab33-B8eTUQ",
        "outputId": "e8e7dde2-14c4-4eba-f164-1fc1789578fa"
      },
      "source": [
        "print (math.inf)"
      ],
      "execution_count": 23,
      "outputs": [
        {
          "output_type": "stream",
          "text": [
            "inf\n"
          ],
          "name": "stdout"
        }
      ]
    },
    {
      "cell_type": "markdown",
      "metadata": {
        "id": "PjD_rXQzHYSd"
      },
      "source": [
        "As well as some commonly used math functions"
      ]
    },
    {
      "cell_type": "code",
      "metadata": {
        "id": "x-nsjMJ6HYSd",
        "colab": {
          "base_uri": "https://localhost:8080/"
        },
        "outputId": "81afeb11-8b5a-437f-aadd-4e476557caf3"
      },
      "source": [
        "print ('Cosine of pi: ', math.cos(math.pi))"
      ],
      "execution_count": 24,
      "outputs": [
        {
          "output_type": "stream",
          "text": [
            "Cosine of pi:  -1.0\n"
          ],
          "name": "stdout"
        }
      ]
    },
    {
      "cell_type": "markdown",
      "metadata": {
        "id": "bkxyHYIAetVC"
      },
      "source": [
        "### **Example**"
      ]
    },
    {
      "cell_type": "code",
      "metadata": {
        "colab": {
          "base_uri": "https://localhost:8080/"
        },
        "id": "9VYa3zUwet6H",
        "outputId": "a52a0893-ce54-4781-d9ae-279f2f1d398a"
      },
      "source": [
        "print('Seno de pi/2:', math.sin(math.pi/2))"
      ],
      "execution_count": 25,
      "outputs": [
        {
          "output_type": "stream",
          "text": [
            "Seno de pi/2: 1.0\n"
          ],
          "name": "stdout"
        }
      ]
    },
    {
      "cell_type": "markdown",
      "metadata": {
        "id": "Mx-o7BfDHYSd"
      },
      "source": [
        "## Collections\n"
      ]
    },
    {
      "cell_type": "markdown",
      "metadata": {
        "id": "OnSyDiji8HK6"
      },
      "source": [
        "### Lists\r\n",
        "\r\n",
        "A `list` in Python is an ordered collection of objects that can contain any data type. We define a `list` using brackets (`[]`)."
      ]
    },
    {
      "cell_type": "code",
      "metadata": {
        "id": "7R7UrOkFHYSd",
        "colab": {
          "base_uri": "https://localhost:8080/"
        },
        "outputId": "a8a40105-c914-4b7e-eeb6-a40d8077d478"
      },
      "source": [
        "my_list = [1, 2, 3]\n",
        "print (my_list)"
      ],
      "execution_count": 26,
      "outputs": [
        {
          "output_type": "stream",
          "text": [
            "[1, 2, 3]\n"
          ],
          "name": "stdout"
        }
      ]
    },
    {
      "cell_type": "markdown",
      "metadata": {
        "id": "aPT7sc-eHYSe"
      },
      "source": [
        "We can access and index the list by using brackets as well. In order to select an individual element, simply type the list name followed by the index of the item you are looking for in braces."
      ]
    },
    {
      "cell_type": "code",
      "metadata": {
        "id": "5lg_FPbEHYSe",
        "colab": {
          "base_uri": "https://localhost:8080/"
        },
        "outputId": "6eb4be1a-f59b-4320-b236-e45b95a59856"
      },
      "source": [
        "print (my_list[0])\n",
        "print (my_list[2])"
      ],
      "execution_count": 27,
      "outputs": [
        {
          "output_type": "stream",
          "text": [
            "1\n",
            "3\n"
          ],
          "name": "stdout"
        }
      ]
    },
    {
      "cell_type": "markdown",
      "metadata": {
        "id": "uRxa-A7OHYSe"
      },
      "source": [
        "Indexing in Python starts from $0$. If you have a list of length $n$, the first element of the list is at index $0$, the second element is at index $1$, and so on and so forth. The final element of the list will be at index $n-1$. Be careful! Trying to access a non-existent index will cause an error."
      ]
    },
    {
      "cell_type": "code",
      "metadata": {
        "id": "j7nfY9AMHYSf",
        "colab": {
          "base_uri": "https://localhost:8080/"
        },
        "outputId": "bab4dba0-cd37-4aad-ead9-a6c218d20d7b"
      },
      "source": [
        "print ('The first, second, and third list elements: ', my_list[0], my_list[1], my_list[2])\n",
        "print ('Accessing outside the list bounds causes an error: my_list[3]')"
      ],
      "execution_count": 28,
      "outputs": [
        {
          "output_type": "stream",
          "text": [
            "The first, second, and third list elements:  1 2 3\n",
            "Accessing outside the list bounds causes an error: my_list[3]\n"
          ],
          "name": "stdout"
        }
      ]
    },
    {
      "cell_type": "markdown",
      "metadata": {
        "id": "vismUNxbHYSf"
      },
      "source": [
        "We can see the number of elements in a list by calling the `len()` function."
      ]
    },
    {
      "cell_type": "code",
      "metadata": {
        "id": "uCAhgi3zHYSf",
        "colab": {
          "base_uri": "https://localhost:8080/"
        },
        "outputId": "ef08691b-c431-4cdb-cf86-04e587fd7ee8"
      },
      "source": [
        "print (len(my_list))"
      ],
      "execution_count": 29,
      "outputs": [
        {
          "output_type": "stream",
          "text": [
            "3\n"
          ],
          "name": "stdout"
        }
      ]
    },
    {
      "cell_type": "markdown",
      "metadata": {
        "id": "x9gQD_1MHYSf"
      },
      "source": [
        "We can update and change a list by accessing an index and assigning new value."
      ]
    },
    {
      "cell_type": "code",
      "metadata": {
        "id": "SV4fu9JTHYSf",
        "colab": {
          "base_uri": "https://localhost:8080/"
        },
        "outputId": "9493dcfb-da41-42f3-8651-f01dae9dac74"
      },
      "source": [
        "print (my_list)\n",
        "my_list[0] = 42\n",
        "print (my_list)"
      ],
      "execution_count": 30,
      "outputs": [
        {
          "output_type": "stream",
          "text": [
            "[1, 2, 3]\n",
            "[42, 2, 3]\n"
          ],
          "name": "stdout"
        }
      ]
    },
    {
      "cell_type": "markdown",
      "metadata": {
        "id": "i-kRPLzmHYSg"
      },
      "source": [
        "This is fundamentally different from how strings are handled. A `list` is mutable, meaning that you can change a `list`'s elements without changing the list itself. Some data types, like `strings`, are immutable, meaning you cannot change them at all. Once a `string` or other immutable data type has been created, it cannot be directly modified without creating an entirely new object."
      ]
    },
    {
      "cell_type": "code",
      "metadata": {
        "id": "E0ZRHYRjHYSg",
        "colab": {
          "base_uri": "https://localhost:8080/"
        },
        "outputId": "17302605-c932-4bea-bd1d-3ccc9753f9a1"
      },
      "source": [
        "my_string = \"Strings never change\"\n",
        "print ('my_string[0] = \"Z\" its no possible')"
      ],
      "execution_count": 31,
      "outputs": [
        {
          "output_type": "stream",
          "text": [
            "my_string[0] = \"Z\" its no possible\n"
          ],
          "name": "stdout"
        }
      ]
    },
    {
      "cell_type": "markdown",
      "metadata": {
        "id": "Dbeehp6kHYSg"
      },
      "source": [
        "As we stated before, a list can contain any data type. Thus, lists can also contain strings."
      ]
    },
    {
      "cell_type": "code",
      "metadata": {
        "id": "-eW3U-tdHYSg",
        "colab": {
          "base_uri": "https://localhost:8080/"
        },
        "outputId": "f84318a8-8614-4549-c422-65d9ca2b57ed"
      },
      "source": [
        "my_list_2 = ['one', 'two', 'three']\n",
        "print (my_list_2)"
      ],
      "execution_count": 32,
      "outputs": [
        {
          "output_type": "stream",
          "text": [
            "['one', 'two', 'three']\n"
          ],
          "name": "stdout"
        }
      ]
    },
    {
      "cell_type": "markdown",
      "metadata": {
        "id": "Wer1Dd-gHYSh"
      },
      "source": [
        "Lists can also contain multiple different data types at once!"
      ]
    },
    {
      "cell_type": "code",
      "metadata": {
        "id": "1PV70S98HYSh"
      },
      "source": [
        "my_list_3 = [True, 'False', 42]"
      ],
      "execution_count": 33,
      "outputs": []
    },
    {
      "cell_type": "markdown",
      "metadata": {
        "id": "8r8TW1CvHYSh"
      },
      "source": [
        "If you want to put two lists together, they can be combined with a `+` symbol."
      ]
    },
    {
      "cell_type": "code",
      "metadata": {
        "id": "wj_XahMwHYSh",
        "colab": {
          "base_uri": "https://localhost:8080/"
        },
        "outputId": "080c8f77-4da2-4dbb-e007-140be7bac7f2"
      },
      "source": [
        "my_list_4 = my_list + my_list_2 + my_list_3\n",
        "print (my_list_4)"
      ],
      "execution_count": 34,
      "outputs": [
        {
          "output_type": "stream",
          "text": [
            "[42, 2, 3, 'one', 'two', 'three', True, 'False', 42]\n"
          ],
          "name": "stdout"
        }
      ]
    },
    {
      "cell_type": "markdown",
      "metadata": {
        "id": "L1Z1KLhKHYSi"
      },
      "source": [
        "In addition to accessing individual elements of a list, we can access groups of elements through slicing."
      ]
    },
    {
      "cell_type": "code",
      "metadata": {
        "id": "VJINu4MHHYSi"
      },
      "source": [
        "my_list = ['friends', 'romans', 'countrymen', 'lend', 'me', 'your', 'ears']"
      ],
      "execution_count": 35,
      "outputs": []
    },
    {
      "cell_type": "markdown",
      "metadata": {
        "id": "acVVWHvQHYSi"
      },
      "source": [
        "#### Slicing\n",
        "\n",
        "We use the colon (`:`) to slice lists. "
      ]
    },
    {
      "cell_type": "code",
      "metadata": {
        "scrolled": true,
        "id": "p-jSbPm7HYSi",
        "colab": {
          "base_uri": "https://localhost:8080/"
        },
        "outputId": "efb4493a-3fb5-4cdc-e8d2-5e8e4a9d4b6f"
      },
      "source": [
        "print (my_list[2:4])"
      ],
      "execution_count": 36,
      "outputs": [
        {
          "output_type": "stream",
          "text": [
            "['countrymen', 'lend']\n"
          ],
          "name": "stdout"
        }
      ]
    },
    {
      "cell_type": "markdown",
      "metadata": {
        "id": "jbI2p-GoHYSj"
      },
      "source": [
        "Using `:` we can select a group of elements in the list starting from the first element indicated and going up to  (but not including) the last element indicated.\n",
        "\n",
        "We can also select everything after a certain point"
      ]
    },
    {
      "cell_type": "code",
      "metadata": {
        "scrolled": true,
        "id": "51VE-XGSHYSj",
        "colab": {
          "base_uri": "https://localhost:8080/"
        },
        "outputId": "7c5bc091-ce99-4783-8fb7-c350d16b1c73"
      },
      "source": [
        "print (my_list[1:])"
      ],
      "execution_count": 37,
      "outputs": [
        {
          "output_type": "stream",
          "text": [
            "['romans', 'countrymen', 'lend', 'me', 'your', 'ears']\n"
          ],
          "name": "stdout"
        }
      ]
    },
    {
      "cell_type": "markdown",
      "metadata": {
        "id": "nApUbtfYHYSj"
      },
      "source": [
        "And everything before a certain point"
      ]
    },
    {
      "cell_type": "code",
      "metadata": {
        "scrolled": true,
        "id": "ya9WwljJHYSj",
        "colab": {
          "base_uri": "https://localhost:8080/"
        },
        "outputId": "4ce312b8-6401-466c-d2ed-90051da47e88"
      },
      "source": [
        "print (my_list[:4])"
      ],
      "execution_count": 38,
      "outputs": [
        {
          "output_type": "stream",
          "text": [
            "['friends', 'romans', 'countrymen', 'lend']\n"
          ],
          "name": "stdout"
        }
      ]
    },
    {
      "cell_type": "markdown",
      "metadata": {
        "id": "1VXsR8sLHYSj"
      },
      "source": [
        "Using negative numbers will count from the end of the indices instead of from the beginning. For example, an index of `-1` indicates the last element of the list."
      ]
    },
    {
      "cell_type": "code",
      "metadata": {
        "id": "u0Sud8-UHYSk",
        "colab": {
          "base_uri": "https://localhost:8080/"
        },
        "outputId": "d7e48fa3-1b7d-480b-ccce-fc8d9ae91e9c"
      },
      "source": [
        "print (my_list[-1])"
      ],
      "execution_count": 39,
      "outputs": [
        {
          "output_type": "stream",
          "text": [
            "ears\n"
          ],
          "name": "stdout"
        }
      ]
    },
    {
      "cell_type": "markdown",
      "metadata": {
        "id": "ZK1PftD0HYSk"
      },
      "source": [
        "You can also add a third component to slicing. Instead of simply indicating the first and final parts of your slice, you can specify the step size that you want to take. So instead of taking every single element, you can take every other element."
      ]
    },
    {
      "cell_type": "code",
      "metadata": {
        "id": "tDGsyn_QHYSk",
        "colab": {
          "base_uri": "https://localhost:8080/"
        },
        "outputId": "7aa24c9a-43e0-49e4-bd3d-d79068d80044"
      },
      "source": [
        "print (my_list[0:7:2])"
      ],
      "execution_count": 40,
      "outputs": [
        {
          "output_type": "stream",
          "text": [
            "['friends', 'countrymen', 'me', 'ears']\n"
          ],
          "name": "stdout"
        }
      ]
    },
    {
      "cell_type": "markdown",
      "metadata": {
        "id": "KFrbe2hrHYSk"
      },
      "source": [
        "Here we have selected the entire list (because `0:7` will yield elements `0` through `6`) and we have selected a step size of `2`. So this will spit out element `0` , element `2`, element `4`, and so on through the list element selected. We can skip indicated the beginning and end of our slice, only indicating the step, if we like."
      ]
    },
    {
      "cell_type": "code",
      "metadata": {
        "id": "vP0BCDmcHYSk",
        "colab": {
          "base_uri": "https://localhost:8080/"
        },
        "outputId": "63d91989-f566-45cc-d9c5-47e4289969ab"
      },
      "source": [
        "print (my_list[::2])"
      ],
      "execution_count": 41,
      "outputs": [
        {
          "output_type": "stream",
          "text": [
            "['friends', 'countrymen', 'me', 'ears']\n"
          ],
          "name": "stdout"
        }
      ]
    },
    {
      "cell_type": "markdown",
      "metadata": {
        "id": "6CjhLFE-HYSl"
      },
      "source": [
        "Lists implictly select the beginning and end of the list when not otherwise specified."
      ]
    },
    {
      "cell_type": "code",
      "metadata": {
        "id": "A2XiH5mYHYSl",
        "colab": {
          "base_uri": "https://localhost:8080/"
        },
        "outputId": "a7332aa7-88dc-4dec-fe7b-95752e1baa1b"
      },
      "source": [
        "print (my_list[:])"
      ],
      "execution_count": 42,
      "outputs": [
        {
          "output_type": "stream",
          "text": [
            "['friends', 'romans', 'countrymen', 'lend', 'me', 'your', 'ears']\n"
          ],
          "name": "stdout"
        }
      ]
    },
    {
      "cell_type": "markdown",
      "metadata": {
        "id": "h-DUgtFuHYSl"
      },
      "source": [
        "With a negative step size we can even reverse the list!"
      ]
    },
    {
      "cell_type": "code",
      "metadata": {
        "id": "EpLWlFM9HYSl",
        "colab": {
          "base_uri": "https://localhost:8080/"
        },
        "outputId": "50d06044-9a1d-4655-f6df-64548080e929"
      },
      "source": [
        "print (my_list[::-1])"
      ],
      "execution_count": 43,
      "outputs": [
        {
          "output_type": "stream",
          "text": [
            "['ears', 'your', 'me', 'lend', 'countrymen', 'romans', 'friends']\n"
          ],
          "name": "stdout"
        }
      ]
    },
    {
      "cell_type": "markdown",
      "metadata": {
        "id": "KmKnauV6h900"
      },
      "source": [
        "#### **Example**"
      ]
    },
    {
      "cell_type": "code",
      "metadata": {
        "colab": {
          "base_uri": "https://localhost:8080/"
        },
        "id": "IDUq8zRGiAlx",
        "outputId": "94ffcec8-3151-4f47-d86c-9863bf534af5"
      },
      "source": [
        "print('Tipos y longitud de una lista')\r\n",
        "lista=[1,3.2,'hi']\r\n",
        "print (lista, len(lista))\r\n",
        "print('Cambio de un valor')\r\n",
        "lista[2]='bye'\r\n",
        "print(lista)\r\n",
        "print('Suma de listas')\r\n",
        "lista2=[4,5.7,6,'salut']\r\n",
        "lista3=lista+lista2\r\n",
        "print(lista3)\r\n",
        "print('Trozos de listas')\r\n",
        "print(lista3[1:4], lista3[-2], lista3[0:6:2])\r\n",
        "print('Lista inversa')\r\n",
        "print(lista3[::-1])"
      ],
      "execution_count": 44,
      "outputs": [
        {
          "output_type": "stream",
          "text": [
            "Tipos y longitud de una lista\n",
            "[1, 3.2, 'hi'] 3\n",
            "Cambio de un valor\n",
            "[1, 3.2, 'bye']\n",
            "Suma de listas\n",
            "[1, 3.2, 'bye', 4, 5.7, 6, 'salut']\n",
            "Trozos de listas\n",
            "[3.2, 'bye', 4] 6 [1, 'bye', 5.7]\n",
            "Lista inversa\n",
            "['salut', 6, 5.7, 4, 'bye', 3.2, 1]\n"
          ],
          "name": "stdout"
        }
      ]
    },
    {
      "cell_type": "markdown",
      "metadata": {
        "id": "ex2j4tksHYSm"
      },
      "source": [
        "Python does not have native matrices, but with lists we can produce a working fascimile. Other packages, such as `numpy`, add matrices as a separate data type, but in base Python the best way to create a matrix is to use a list of lists."
      ]
    },
    {
      "cell_type": "markdown",
      "metadata": {
        "id": "C9d0kISgHYSm"
      },
      "source": [
        "We can also use built-in functions to generate lists. In particular we will look at `range()` (because we will be using it later!). Range can take several different inputs and will return a list."
      ]
    },
    {
      "cell_type": "code",
      "metadata": {
        "id": "A9yuU9OoHYSm",
        "colab": {
          "base_uri": "https://localhost:8080/"
        },
        "outputId": "675063d7-64db-48c7-ca30-ce58fad03bbb"
      },
      "source": [
        "b = 10\n",
        "my_list = range(b)\n",
        "print (my_list)"
      ],
      "execution_count": 45,
      "outputs": [
        {
          "output_type": "stream",
          "text": [
            "range(0, 10)\n"
          ],
          "name": "stdout"
        }
      ]
    },
    {
      "cell_type": "markdown",
      "metadata": {
        "id": "g17hrD-CHYSm"
      },
      "source": [
        "Similar to our list-slicing methods from before, we can define both a start and an end for our range. This will return a list that is includes the start and excludes the end, just like a slice."
      ]
    },
    {
      "cell_type": "code",
      "metadata": {
        "id": "n_Iu2ee0HYSn",
        "colab": {
          "base_uri": "https://localhost:8080/"
        },
        "outputId": "ff0ea277-3017-4c5f-d51a-996c88e26985"
      },
      "source": [
        "a = 0\n",
        "b = 10\n",
        "my_list = range(a, b)\n",
        "print (my_list)"
      ],
      "execution_count": 46,
      "outputs": [
        {
          "output_type": "stream",
          "text": [
            "range(0, 10)\n"
          ],
          "name": "stdout"
        }
      ]
    },
    {
      "cell_type": "markdown",
      "metadata": {
        "id": "wpG3NwwSHYSn"
      },
      "source": [
        "We can also specify a step size. This again has the same behavior as a slice."
      ]
    },
    {
      "cell_type": "code",
      "metadata": {
        "scrolled": true,
        "id": "If5u9X94HYSn",
        "colab": {
          "base_uri": "https://localhost:8080/"
        },
        "outputId": "ff855c11-f56b-4767-b6ce-c87e408e93ce"
      },
      "source": [
        "a = 0\n",
        "b = 10\n",
        "step = 2\n",
        "my_list = range(a, b, step)\n",
        "print (my_list)"
      ],
      "execution_count": 47,
      "outputs": [
        {
          "output_type": "stream",
          "text": [
            "range(0, 10, 2)\n"
          ],
          "name": "stdout"
        }
      ]
    },
    {
      "cell_type": "markdown",
      "metadata": {
        "id": "zy2jv7gZHYSn"
      },
      "source": [
        "### Tuples\n",
        "\n",
        "A `tuple` is a data type similar to a list in that it can hold different kinds of data types. The key difference here is that a `tuple` is immutable. We define a `tuple` by separating the elements we want to include by commas. It is conventional to surround a `tuple` with parentheses."
      ]
    },
    {
      "cell_type": "code",
      "metadata": {
        "id": "iSKmNZ6VHYSn",
        "colab": {
          "base_uri": "https://localhost:8080/"
        },
        "outputId": "6b28e85e-3a23-48f8-dd07-b3c3b87b069e"
      },
      "source": [
        "my_tuple = 'I', 'have', 30, 'cats'\n",
        "print (my_tuple)"
      ],
      "execution_count": 48,
      "outputs": [
        {
          "output_type": "stream",
          "text": [
            "('I', 'have', 30, 'cats')\n"
          ],
          "name": "stdout"
        }
      ]
    },
    {
      "cell_type": "markdown",
      "metadata": {
        "id": "eq5ohLsgHYSo"
      },
      "source": [
        "As mentioned before, tuples are immutable. You can't change any part of them without defining a new tuple."
      ]
    },
    {
      "cell_type": "code",
      "metadata": {
        "id": "04nMUhtCHYSo",
        "colab": {
          "base_uri": "https://localhost:8080/"
        },
        "outputId": "e0a9ced5-ef5f-4fff-91df-f5261e154835"
      },
      "source": [
        "print(\"my_tuple[3] = 'dogs'\") \r\n",
        "print(\"Attempts to change the 'cats' value stored in the the tuple to 'dogs'\")"
      ],
      "execution_count": 49,
      "outputs": [
        {
          "output_type": "stream",
          "text": [
            "my_tuple[3] = 'dogs'\n",
            "Attempts to change the 'cats' value stored in the the tuple to 'dogs'\n"
          ],
          "name": "stdout"
        }
      ]
    },
    {
      "cell_type": "markdown",
      "metadata": {
        "id": "aLOvdzTiHYSo"
      },
      "source": [
        "You can slice tuples the same way that you slice lists!"
      ]
    },
    {
      "cell_type": "code",
      "metadata": {
        "id": "GvtAEwFoHYSo",
        "colab": {
          "base_uri": "https://localhost:8080/"
        },
        "outputId": "69c9e022-53fd-4351-c3ea-5479870c95ce"
      },
      "source": [
        "print (my_tuple[1:3])"
      ],
      "execution_count": 50,
      "outputs": [
        {
          "output_type": "stream",
          "text": [
            "('have', 30)\n"
          ],
          "name": "stdout"
        }
      ]
    },
    {
      "cell_type": "markdown",
      "metadata": {
        "id": "xu7JWHHHHYSp"
      },
      "source": [
        "And concatenate them the way that you would with strings!"
      ]
    },
    {
      "cell_type": "code",
      "metadata": {
        "id": "M2KuqYYxHYSp",
        "colab": {
          "base_uri": "https://localhost:8080/"
        },
        "outputId": "83c3a9c2-1fd7-4223-9176-e7336d0ef57a"
      },
      "source": [
        "my_other_tuple = ('make', 'that', 50)\n",
        "print (my_tuple + my_other_tuple)"
      ],
      "execution_count": 51,
      "outputs": [
        {
          "output_type": "stream",
          "text": [
            "('I', 'have', 30, 'cats', 'make', 'that', 50)\n"
          ],
          "name": "stdout"
        }
      ]
    },
    {
      "cell_type": "markdown",
      "metadata": {
        "id": "gWAdD5E8HYSp"
      },
      "source": [
        "We can 'pack' values together, creating a tuple (as above), or we can 'unpack' values from a tuple, taking them out."
      ]
    },
    {
      "cell_type": "code",
      "metadata": {
        "id": "cHwQ2D--HYSp",
        "colab": {
          "base_uri": "https://localhost:8080/"
        },
        "outputId": "34ac386d-2c61-4330-a744-330ec3315c63"
      },
      "source": [
        "str_1, str_2, int_1 = my_other_tuple\n",
        "print (str_1, str_2, int_1)"
      ],
      "execution_count": 52,
      "outputs": [
        {
          "output_type": "stream",
          "text": [
            "make that 50\n"
          ],
          "name": "stdout"
        }
      ]
    },
    {
      "cell_type": "markdown",
      "metadata": {
        "id": "8Zii_qTxHYSq"
      },
      "source": [
        "Unpacking assigns each value of the tuple in order to each variable on the left hand side of the equals sign. Some functions, including user-defined functions, may return tuples, so we can use this to directly unpack them and access the values that we want."
      ]
    },
    {
      "cell_type": "markdown",
      "metadata": {
        "id": "FIY17ZVS75gE"
      },
      "source": [
        "#### **Example**"
      ]
    },
    {
      "cell_type": "code",
      "metadata": {
        "colab": {
          "base_uri": "https://localhost:8080/"
        },
        "id": "WS9SxiFH3Mez",
        "outputId": "f5209cc5-2810-44e6-ddbf-cb507e4323e6"
      },
      "source": [
        "print('Tuplas')\r\n",
        "tupla=(1,'ll' ,'b', 4)\r\n",
        "print(tupla)\r\n",
        "print('Trozos de tuplas')\r\n",
        "print(tupla[1:3])\r\n",
        "print('Concatenación')\r\n",
        "tupla2=('ch', 'inf', 245)\r\n",
        "tupla3=tupla+tupla2\r\n",
        "print(tupla3)\r\n",
        "print('Desempaquetado')\r\n",
        "str_1, str_2, int_1 = tupla2\r\n",
        "print(str_1, str_2, int_1)"
      ],
      "execution_count": 53,
      "outputs": [
        {
          "output_type": "stream",
          "text": [
            "Tuplas\n",
            "(1, 'll', 'b', 4)\n",
            "Trozos de tuplas\n",
            "('ll', 'b')\n",
            "Concatenación\n",
            "(1, 'll', 'b', 4, 'ch', 'inf', 245)\n",
            "Desempaquetado\n",
            "ch inf 245\n"
          ],
          "name": "stdout"
        }
      ]
    },
    {
      "cell_type": "markdown",
      "metadata": {
        "id": "shscf3XwHYSq"
      },
      "source": [
        "### Sets\n",
        "\n",
        "A `set` is a collection of unordered, unique elements. It works almost exactly as you would expect a normal set of things in mathematics to work and is defined using braces (`{}`)."
      ]
    },
    {
      "cell_type": "code",
      "metadata": {
        "id": "d1lJ9agBHYSq",
        "colab": {
          "base_uri": "https://localhost:8080/"
        },
        "outputId": "ec784685-5c10-4ec9-9d3f-20066a554ca4"
      },
      "source": [
        "things_i_like = {'dogs', 7, 'the number 4', 4, 4, 4, 42, 'lizards', 'man I just LOVE the number 4'}\n",
        "print (things_i_like, type(things_i_like))"
      ],
      "execution_count": 54,
      "outputs": [
        {
          "output_type": "stream",
          "text": [
            "{4, 'the number 4', 7, 'man I just LOVE the number 4', 42, 'dogs', 'lizards'} <class 'set'>\n"
          ],
          "name": "stdout"
        }
      ]
    },
    {
      "cell_type": "markdown",
      "metadata": {
        "id": "eZX5HxDyHYSq"
      },
      "source": [
        "Note how any extra instances of the same item are removed in the final set. We can also create a `set` from a list, using the `set()` function."
      ]
    },
    {
      "cell_type": "code",
      "metadata": {
        "id": "_rfF00BIHYSq",
        "colab": {
          "base_uri": "https://localhost:8080/"
        },
        "outputId": "e244a5d7-645b-4935-ab6d-f2563b566663"
      },
      "source": [
        "animal_list = ['cats', 'dogs', 'dogs', 'dogs', 'lizards', 'sponges', 'cows', 'bats', 'sponges', 'turtle']\n",
        "animal_set = set(animal_list)\n",
        "print (animal_set) # Removes all extra instances from the list"
      ],
      "execution_count": 55,
      "outputs": [
        {
          "output_type": "stream",
          "text": [
            "{'sponges', 'cows', 'dogs', 'cats', 'bats', 'turtle', 'lizards'}\n"
          ],
          "name": "stdout"
        }
      ]
    },
    {
      "cell_type": "markdown",
      "metadata": {
        "id": "vOXW0fVpHYSr"
      },
      "source": [
        "Calling `len()` on a set will tell you how many elements are in it."
      ]
    },
    {
      "cell_type": "code",
      "metadata": {
        "id": "IQmYFZzxHYSr",
        "colab": {
          "base_uri": "https://localhost:8080/"
        },
        "outputId": "60cca2a9-32c8-49a1-c666-8eb11387a345"
      },
      "source": [
        "print (len(animal_set))"
      ],
      "execution_count": 56,
      "outputs": [
        {
          "output_type": "stream",
          "text": [
            "7\n"
          ],
          "name": "stdout"
        }
      ]
    },
    {
      "cell_type": "markdown",
      "metadata": {
        "id": "NttQSkAAHYSr"
      },
      "source": [
        "Because a `set` is unordered, we can't access individual elements using an index. We can, however, easily check for membership (to see if something is contained in a set) and take the unions and intersections of sets by using the built-in set functions."
      ]
    },
    {
      "cell_type": "code",
      "metadata": {
        "id": "HbtZI2c3HYSr",
        "colab": {
          "base_uri": "https://localhost:8080/"
        },
        "outputId": "1e0e65ac-1935-48c6-9a28-8a27b090926f"
      },
      "source": [
        "'cats' in animal_set # Here we check for membership using the `in` keyword."
      ],
      "execution_count": 57,
      "outputs": [
        {
          "output_type": "execute_result",
          "data": {
            "text/plain": [
              "True"
            ]
          },
          "metadata": {
            "tags": []
          },
          "execution_count": 57
        }
      ]
    },
    {
      "cell_type": "markdown",
      "metadata": {
        "id": "PO_5O-MHHYSr"
      },
      "source": [
        "Here we checked to see whether the string 'cats' was contained within our `animal_set` and it returned `True`, telling us that it is indeed in our set.\n",
        "\n",
        "We can connect sets by using typical mathematical set operators, namely `|`, for union, and `&`, for intersection. Using `|` or `&` will return exactly what you would expect if you are familiar with sets in mathematics."
      ]
    },
    {
      "cell_type": "code",
      "metadata": {
        "id": "fegdz4asHYSr",
        "colab": {
          "base_uri": "https://localhost:8080/"
        },
        "outputId": "a8d6bba9-4a16-40dd-9c97-3b12f6227236"
      },
      "source": [
        "print (animal_set | things_i_like) # You can also write things_i_like | animal_set with no difference"
      ],
      "execution_count": 58,
      "outputs": [
        {
          "output_type": "stream",
          "text": [
            "{4, 'the number 4', 7, 'man I just LOVE the number 4', 42, 'sponges', 'cows', 'dogs', 'cats', 'bats', 'turtle', 'lizards'}\n"
          ],
          "name": "stdout"
        }
      ]
    },
    {
      "cell_type": "markdown",
      "metadata": {
        "id": "gc1VpaG7HYSs"
      },
      "source": [
        "Pairing two sets together with `|` combines the sets, removing any repetitions to make every set element unique."
      ]
    },
    {
      "cell_type": "code",
      "metadata": {
        "id": "M7aDLLJuHYSs",
        "colab": {
          "base_uri": "https://localhost:8080/"
        },
        "outputId": "5667a57a-f440-49ff-bea1-c4e609088e11"
      },
      "source": [
        "print (animal_set & things_i_like) # You can also write things_i_like & animal_set with no difference"
      ],
      "execution_count": 59,
      "outputs": [
        {
          "output_type": "stream",
          "text": [
            "{'dogs', 'lizards'}\n"
          ],
          "name": "stdout"
        }
      ]
    },
    {
      "cell_type": "markdown",
      "metadata": {
        "id": "GtP-RiPLHYSs"
      },
      "source": [
        "Pairing two sets together with `&` will calculate the intersection of both sets, returning a set that only contains what they have in common.\n",
        "\n",
        "If you are interested in learning more about the built-in functions for sets, feel free to check out the [documentation](https://docs.python.org/2/library/sets.html)."
      ]
    },
    {
      "cell_type": "markdown",
      "metadata": {
        "id": "9PU7OZ7MRsTP"
      },
      "source": [
        "#### **Example**"
      ]
    },
    {
      "cell_type": "code",
      "metadata": {
        "colab": {
          "base_uri": "https://localhost:8080/"
        },
        "id": "6wjE6_dLNZ0l",
        "outputId": "bcd444dc-4134-4206-86a3-89b2d0726b9a"
      },
      "source": [
        "print('Conjunto a partir de una lista')\r\n",
        "sea_animals=['seal', 'starfish', 'whale', 'seal', 'shrimp', 'clam', 'shell', 'shark', 'shrimp', 'turtle']\r\n",
        "seaAnimals=set(sea_animals)\r\n",
        "print(seaAnimals)\r\n",
        "print('Cantidad de elementos:', len(seaAnimals))\r\n",
        "print('Buscar Octopus:', 'octopus' in seaAnimals)\r\n",
        "print('Union de conjuntos')\r\n",
        "print(seaAnimals|animal_set)\r\n",
        "print('Interseccion')\r\n",
        "print(seaAnimals&animal_set)"
      ],
      "execution_count": 60,
      "outputs": [
        {
          "output_type": "stream",
          "text": [
            "Conjunto a partir de una lista\n",
            "{'shark', 'seal', 'starfish', 'shell', 'shrimp', 'clam', 'turtle', 'whale'}\n",
            "Cantidad de elementos: 8\n",
            "Buscar Octopus: False\n",
            "Union de conjuntos\n",
            "{'shark', 'seal', 'starfish', 'sponges', 'shell', 'cows', 'shrimp', 'dogs', 'clam', 'lizards', 'turtle', 'cats', 'bats', 'whale'}\n",
            "Interseccion\n",
            "{'turtle'}\n"
          ],
          "name": "stdout"
        }
      ]
    },
    {
      "cell_type": "markdown",
      "metadata": {
        "id": "Sx9Z2QSUHYSs"
      },
      "source": [
        "### Dictionaries\n",
        "\n",
        "Another essential data structure in Python is the dictionary. Dictionaries are defined with a combination of curly braces (`{}`) and colons (`:`). The braces define the beginning and end of a dictionary and the colons indicate key-value pairs. A dictionary is essentially a set of key-value pairs. The key of any entry must be an immutable data type. This makes both strings and tuples candidates. Keys can be both added and deleted.\n",
        "\n",
        "In the following example, we have a dictionary composed of key-value pairs where the key is a genre of fiction (`string`) and the value is a list of books (`list`) within that genre. Since a collection is still considered a single entity, we can use one to collect multiple variables or values into one key-value pair."
      ]
    },
    {
      "cell_type": "code",
      "metadata": {
        "id": "7El08GLrHYSt"
      },
      "source": [
        "my_dict = {\"High Fantasy\": [\"Wheel of Time\", \"Lord of the Rings\"], \n",
        "           \"Sci-fi\": [\"Book of the New Sun\", \"Neuromancer\", \"Snow Crash\"],\n",
        "           \"Weird Fiction\": [\"At the Mountains of Madness\", \"The House on the Borderland\"]}"
      ],
      "execution_count": 61,
      "outputs": []
    },
    {
      "cell_type": "markdown",
      "metadata": {
        "id": "bVVxCDCIHYSt"
      },
      "source": [
        "After defining a dictionary, we can access any individual value by indicating its key in brackets."
      ]
    },
    {
      "cell_type": "code",
      "metadata": {
        "id": "JVleZHSwHYSt",
        "colab": {
          "base_uri": "https://localhost:8080/"
        },
        "outputId": "a1b40feb-339e-4e70-cdc4-a1059ca18706"
      },
      "source": [
        "print (my_dict[\"Sci-fi\"])"
      ],
      "execution_count": 62,
      "outputs": [
        {
          "output_type": "stream",
          "text": [
            "['Book of the New Sun', 'Neuromancer', 'Snow Crash']\n"
          ],
          "name": "stdout"
        }
      ]
    },
    {
      "cell_type": "markdown",
      "metadata": {
        "id": "7uE9XzxGHYSt"
      },
      "source": [
        "We can also change the value associated with a given key"
      ]
    },
    {
      "cell_type": "code",
      "metadata": {
        "id": "UCVys7eNHYSt",
        "colab": {
          "base_uri": "https://localhost:8080/"
        },
        "outputId": "08951427-ffaa-4eea-b73d-dd08f5d4bdef"
      },
      "source": [
        "my_dict[\"Sci-fi\"] = \"I can't read\"\n",
        "print (my_dict[\"Sci-fi\"])"
      ],
      "execution_count": 63,
      "outputs": [
        {
          "output_type": "stream",
          "text": [
            "I can't read\n"
          ],
          "name": "stdout"
        }
      ]
    },
    {
      "cell_type": "markdown",
      "metadata": {
        "id": "JIa-g8dIHYSt"
      },
      "source": [
        "Adding a new key-value pair is as simple as defining it."
      ]
    },
    {
      "cell_type": "code",
      "metadata": {
        "id": "5P4Ou5GiHYSu",
        "colab": {
          "base_uri": "https://localhost:8080/"
        },
        "outputId": "c17512fb-8fdb-408d-d66d-a8675b3d91c4"
      },
      "source": [
        "my_dict[\"Historical Fiction\"] = [\"Pillars of the Earth\"]\n",
        "print (my_dict[\"Historical Fiction\"])"
      ],
      "execution_count": 64,
      "outputs": [
        {
          "output_type": "stream",
          "text": [
            "['Pillars of the Earth']\n"
          ],
          "name": "stdout"
        }
      ]
    },
    {
      "cell_type": "code",
      "metadata": {
        "id": "dhdZ2giTHYSu",
        "colab": {
          "base_uri": "https://localhost:8080/"
        },
        "outputId": "4bc589fb-4fd9-47c3-d015-66e0ad6fee77"
      },
      "source": [
        "print (my_dict)"
      ],
      "execution_count": 65,
      "outputs": [
        {
          "output_type": "stream",
          "text": [
            "{'High Fantasy': ['Wheel of Time', 'Lord of the Rings'], 'Sci-fi': \"I can't read\", 'Weird Fiction': ['At the Mountains of Madness', 'The House on the Borderland'], 'Historical Fiction': ['Pillars of the Earth']}\n"
          ],
          "name": "stdout"
        }
      ]
    },
    {
      "cell_type": "markdown",
      "metadata": {
        "id": "DvhltOFSV6UX"
      },
      "source": [
        "#### **Example**"
      ]
    },
    {
      "cell_type": "code",
      "metadata": {
        "colab": {
          "base_uri": "https://localhost:8080/"
        },
        "id": "LM1kE8OOSq2z",
        "outputId": "d73de1d5-65eb-4497-839c-6d7867bbff17"
      },
      "source": [
        "ciudades={'Colombia':['Cali', 'Bogotá', 'Medellín'],          \r\n",
        "          'Ecuador':['Guayaquil', 'Quito'],\r\n",
        "          'Perú':['Arequipa', 'Lima']}\r\n",
        "print('Diccionario completo:', ciudades)\r\n",
        "print('Contenido de Perú:', ciudades['Perú'])\r\n",
        "ciudades['Ecuador']='Cuenca'\r\n",
        "print('Cambiando contenido de Ecuador: ', ciudades['Ecuador'])\r\n",
        "print('Agregando a Venezuela')\r\n",
        "ciudades['Venezuela']=['Maracaibo', 'Caracas']\r\n",
        "print(ciudades['Venezuela'])\r\n",
        "print('Diccionario completo:', ciudades)"
      ],
      "execution_count": 66,
      "outputs": [
        {
          "output_type": "stream",
          "text": [
            "Diccionario completo: {'Colombia': ['Cali', 'Bogotá', 'Medellín'], 'Ecuador': ['Guayaquil', 'Quito'], 'Perú': ['Arequipa', 'Lima']}\n",
            "Contenido de Perú: ['Arequipa', 'Lima']\n",
            "Cambiando contenido de Ecuador:  Cuenca\n",
            "Agregando a Venezuela\n",
            "['Maracaibo', 'Caracas']\n",
            "Diccionario completo: {'Colombia': ['Cali', 'Bogotá', 'Medellín'], 'Ecuador': 'Cuenca', 'Perú': ['Arequipa', 'Lima'], 'Venezuela': ['Maracaibo', 'Caracas']}\n"
          ],
          "name": "stdout"
        }
      ]
    },
    {
      "cell_type": "markdown",
      "metadata": {
        "id": "i8oaM0aOHYSu"
      },
      "source": [
        "## String Shenanigans\n",
        "\n",
        "We already know that strings are generally used for text. We can used built-in operations to combine, split, and format strings easily, depending on our needs.\n",
        "\n",
        "The `+` symbol indicates concatenation in string language. It will combine two strings into a longer string."
      ]
    },
    {
      "cell_type": "code",
      "metadata": {
        "id": "CHcEXO50HYSu",
        "colab": {
          "base_uri": "https://localhost:8080/"
        },
        "outputId": "78a4197a-bc10-4c0c-a722-553832d163be"
      },
      "source": [
        "first_string = '\"Beware the Jabberwock, my son! /The jaws that bite, the claws that catch! /'\n",
        "second_string = 'Beware the Jubjub bird, and shun /The frumious Bandersnatch!\"/'\n",
        "third_string = first_string + second_string\n",
        "print (third_string)"
      ],
      "execution_count": 67,
      "outputs": [
        {
          "output_type": "stream",
          "text": [
            "\"Beware the Jabberwock, my son! /The jaws that bite, the claws that catch! /Beware the Jubjub bird, and shun /The frumious Bandersnatch!\"/\n"
          ],
          "name": "stdout"
        }
      ]
    },
    {
      "cell_type": "markdown",
      "metadata": {
        "id": "Jbd4nINhHYSu"
      },
      "source": [
        "Strings are also indexed much in the same way that lists are."
      ]
    },
    {
      "cell_type": "code",
      "metadata": {
        "id": "TGfESMRmHYSv",
        "colab": {
          "base_uri": "https://localhost:8080/"
        },
        "outputId": "b3ac0e1c-7e8d-41d0-fff8-893a47b55ca3"
      },
      "source": [
        "my_string = 'Supercalifragilisticexpialidocious'\n",
        "print ('The first letter is: ', my_string[0]) # Uppercase S\n",
        "print ('The last letter is: ', my_string[-1]) # lowercase s\n",
        "print ('The second to last letter is: ', my_string[-2]) # lowercase u\n",
        "print ('The first five characters are: ', my_string[0:5]) # Remember: slicing doesn't include the final element!\n",
        "print ('Reverse it!: ', my_string[::-1])"
      ],
      "execution_count": 68,
      "outputs": [
        {
          "output_type": "stream",
          "text": [
            "The first letter is:  S\n",
            "The last letter is:  s\n",
            "The second to last letter is:  u\n",
            "The first five characters are:  Super\n",
            "Reverse it!:  suoicodilaipxecitsiligarfilacrepuS\n"
          ],
          "name": "stdout"
        }
      ]
    },
    {
      "cell_type": "markdown",
      "metadata": {
        "id": "VZYXgxV_HYSv"
      },
      "source": [
        "Built-in objects and classes often have special functions associated with them that are called methods. We access these methods by using a period ('.'). We will cover objects and their associated methods more in another lecture!\n",
        "\n",
        "Using string methods we can count instances of a character or group of characters."
      ]
    },
    {
      "cell_type": "code",
      "metadata": {
        "scrolled": true,
        "id": "d0bgrvRRHYSv",
        "colab": {
          "base_uri": "https://localhost:8080/"
        },
        "outputId": "b0251387-86de-406e-f1b1-419ccce0f563"
      },
      "source": [
        "print ('Count of the letter i in Supercalifragilisticexpialidocious: ', my_string.count('i'))\n",
        "print ('Count of \"li\" in the same word: ', my_string.count('li'))"
      ],
      "execution_count": 69,
      "outputs": [
        {
          "output_type": "stream",
          "text": [
            "Count of the letter i in Supercalifragilisticexpialidocious:  7\n",
            "Count of \"li\" in the same word:  3\n"
          ],
          "name": "stdout"
        }
      ]
    },
    {
      "cell_type": "markdown",
      "metadata": {
        "id": "W6dlUgOPHYSv"
      },
      "source": [
        "We can also find the first instance of a character or group of characters in a string."
      ]
    },
    {
      "cell_type": "code",
      "metadata": {
        "id": "6cPJXkpnHYSv",
        "colab": {
          "base_uri": "https://localhost:8080/"
        },
        "outputId": "67412864-2d90-4bc2-e726-3d5e2057eb0e"
      },
      "source": [
        "print ('The first time i appears is at index: ', my_string.find('i'))"
      ],
      "execution_count": 70,
      "outputs": [
        {
          "output_type": "stream",
          "text": [
            "The first time i appears is at index:  8\n"
          ],
          "name": "stdout"
        }
      ]
    },
    {
      "cell_type": "markdown",
      "metadata": {
        "id": "w6f02-t3HYSw"
      },
      "source": [
        "As well as replace characters in a string."
      ]
    },
    {
      "cell_type": "code",
      "metadata": {
        "id": "qj_x3pMPHYSw",
        "colab": {
          "base_uri": "https://localhost:8080/"
        },
        "outputId": "bf7fc40c-277c-416b-a949-b39f0888ed46"
      },
      "source": [
        "print (\"All i's are now a's: \", my_string.replace('i', 'a'))"
      ],
      "execution_count": 71,
      "outputs": [
        {
          "output_type": "stream",
          "text": [
            "All i's are now a's:  Supercalafragalastacexpaaladocaous\n"
          ],
          "name": "stdout"
        }
      ]
    },
    {
      "cell_type": "code",
      "metadata": {
        "id": "1xUvnm-3HYSw",
        "colab": {
          "base_uri": "https://localhost:8080/"
        },
        "outputId": "8530ba15-161e-40bd-c43a-9ba7851195a2"
      },
      "source": [
        "print (\"It's raining cats and dogs\".replace('dogs', 'more cats'))"
      ],
      "execution_count": 72,
      "outputs": [
        {
          "output_type": "stream",
          "text": [
            "It's raining cats and more cats\n"
          ],
          "name": "stdout"
        }
      ]
    },
    {
      "cell_type": "markdown",
      "metadata": {
        "id": "Az1qIVPXHYSw"
      },
      "source": [
        "There are also some methods that are unique to strings. The function `upper()` will convert all characters in a string to uppercase, while `lower()` will convert all characters in a string to lowercase!"
      ]
    },
    {
      "cell_type": "code",
      "metadata": {
        "id": "St-z8nfgHYSw",
        "colab": {
          "base_uri": "https://localhost:8080/"
        },
        "outputId": "4a08f8d4-aab6-4f64-d154-0e094edf8709"
      },
      "source": [
        "my_string = \"I can't hear you\"\n",
        "print (my_string.upper())\n",
        "my_string = \"I said HELLO\"\n",
        "print (my_string.lower())"
      ],
      "execution_count": 73,
      "outputs": [
        {
          "output_type": "stream",
          "text": [
            "I CAN'T HEAR YOU\n",
            "i said hello\n"
          ],
          "name": "stdout"
        }
      ]
    },
    {
      "cell_type": "markdown",
      "metadata": {
        "id": "1Yxeomdy6Q97"
      },
      "source": [
        "#### **Example**"
      ]
    },
    {
      "cell_type": "code",
      "metadata": {
        "colab": {
          "base_uri": "https://localhost:8080/"
        },
        "id": "HsXFgaRcWhr7",
        "outputId": "90ddd9ea-d22c-41c5-ed66-ed546d6b0e4d"
      },
      "source": [
        "str1=\"esta es una frase \"\r\n",
        "str2=\"que fue concatenada\"\r\n",
        "str3 = str1 + str2\r\n",
        "print(str3)\r\n",
        "print('Primera letra:', str3[0])\r\n",
        "print('Ultima letra:', str3[-1])\r\n",
        "print('Penultima letra:', str3[-2])\r\n",
        "print('Fragmento:', str3[8:21])\r\n",
        "print('Inversa:', str3[::-1])\r\n",
        "print('Cantidade de a:', str3.count('a'))\r\n",
        "print('Cantidade de \"es\":', str3.count('es'))\r\n",
        "print('La primera vez que a aparece es en el indice:', str3.find('a'))\r\n",
        "print('Ahora las e seran a:', str3.replace('e', 'a'))\r\n",
        "print('Hoy está empezando a llover'.replace('llover', 'hacer sol'))\r\n",
        "print(str3.upper())\r\n",
        "print(str3.lower())"
      ],
      "execution_count": 74,
      "outputs": [
        {
          "output_type": "stream",
          "text": [
            "esta es una frase que fue concatenada\n",
            "Primera letra: e\n",
            "Ultima letra: a\n",
            "Penultima letra: d\n",
            "Fragmento: una frase que\n",
            "Inversa: adanetacnoc euf euq esarf anu se atse\n",
            "Cantidade de a: 6\n",
            "Cantidade de \"es\": 2\n",
            "La primera vez que a aparece es en el indice: 3\n",
            "Ahora las e seran a: asta as una frasa qua fua concatanada\n",
            "Hoy está empezando a hacer sol\n",
            "ESTA ES UNA FRASE QUE FUE CONCATENADA\n",
            "esta es una frase que fue concatenada\n"
          ],
          "name": "stdout"
        }
      ]
    },
    {
      "cell_type": "markdown",
      "metadata": {
        "id": "rGPtP0odHYSx"
      },
      "source": [
        "### String Formatting\n",
        "\n",
        "Using the `format()` method we can add in variable values and generally format our strings."
      ]
    },
    {
      "cell_type": "code",
      "metadata": {
        "id": "RcLkuJUGHYSx",
        "colab": {
          "base_uri": "https://localhost:8080/"
        },
        "outputId": "6578814f-ddd3-412e-f972-1f6e6c9adbda"
      },
      "source": [
        "my_string = \"{0} {1}\".format('Marco', 'Polo')\n",
        "print (my_string)"
      ],
      "execution_count": 75,
      "outputs": [
        {
          "output_type": "stream",
          "text": [
            "Marco Polo\n"
          ],
          "name": "stdout"
        }
      ]
    },
    {
      "cell_type": "code",
      "metadata": {
        "id": "gPcL6N52HYSx",
        "colab": {
          "base_uri": "https://localhost:8080/"
        },
        "outputId": "5fd8c46c-7ff8-4aa6-baae-92a61ce8a3b2"
      },
      "source": [
        "my_string = \"{1} {0}\".format('Marco', 'Polo')\n",
        "print (my_string)"
      ],
      "execution_count": 76,
      "outputs": [
        {
          "output_type": "stream",
          "text": [
            "Polo Marco\n"
          ],
          "name": "stdout"
        }
      ]
    },
    {
      "cell_type": "markdown",
      "metadata": {
        "id": "W8rF8MBmHYSx"
      },
      "source": [
        "We use braces (`{}`) to indicate parts of the string that will be filled in later and we use the arguments of the `format()` function to provide the values to substitute. The numbers within the braces indicate the index of the value in the `format()` arguments."
      ]
    },
    {
      "cell_type": "markdown",
      "metadata": {
        "id": "5L4jHhD7HYSx"
      },
      "source": [
        "See the `format()` [documentation](https://docs.python.org/2/library/string.html#format-examples) for additional examples."
      ]
    },
    {
      "cell_type": "markdown",
      "metadata": {
        "id": "kC5T3PusHYSy"
      },
      "source": [
        "If you need some quick and dirty formatting, you can instead use the `%` symbol, called the string formatting operator. "
      ]
    },
    {
      "cell_type": "markdown",
      "metadata": {
        "id": "3o5VmHVfrzOz"
      },
      "source": [
        "#### **Example**"
      ]
    },
    {
      "cell_type": "code",
      "metadata": {
        "colab": {
          "base_uri": "https://localhost:8080/"
        },
        "id": "rnviN77oo7qE",
        "outputId": "a981d5de-628b-450d-f9b4-60259468e3b4"
      },
      "source": [
        "str1=\"{0} {1}\".format('Hola', 'Mundo')\r\n",
        "print(str1)\r\n",
        "str1=\"{1} {1}\".format('Hola', 'Mundo')\r\n",
        "print(str1)"
      ],
      "execution_count": 77,
      "outputs": [
        {
          "output_type": "stream",
          "text": [
            "Hola Mundo\n",
            "Mundo Mundo\n"
          ],
          "name": "stdout"
        }
      ]
    },
    {
      "cell_type": "code",
      "metadata": {
        "id": "k4O9NW8BHYSy",
        "colab": {
          "base_uri": "https://localhost:8080/"
        },
        "outputId": "51854a6c-acd5-48df-e3cc-3b22478ccbf3"
      },
      "source": [
        "print ('insert %s here' % 'value')"
      ],
      "execution_count": 78,
      "outputs": [
        {
          "output_type": "stream",
          "text": [
            "insert value here\n"
          ],
          "name": "stdout"
        }
      ]
    },
    {
      "cell_type": "markdown",
      "metadata": {
        "id": "sWG67SVVHYSy"
      },
      "source": [
        "The `%` symbol basically cues Python to create a placeholder. Whatever character follows the `%` (in the string) indicates what sort of type the value put into the placeholder will have. This character is called a *conversion type*. Once the string has been closed, we need another `%` that will be followed by the values to insert. In the case of one value, you can just put it there. If you are inserting more than one value, they must be enclosed in a tuple."
      ]
    },
    {
      "cell_type": "code",
      "metadata": {
        "id": "NqWaeGxLHYSy",
        "colab": {
          "base_uri": "https://localhost:8080/"
        },
        "outputId": "c8b32f4b-98f0-47dd-eef6-74411851daf8"
      },
      "source": [
        "print ('There are %s cats in my %s' % (13, 'apartment'))"
      ],
      "execution_count": 79,
      "outputs": [
        {
          "output_type": "stream",
          "text": [
            "There are 13 cats in my apartment\n"
          ],
          "name": "stdout"
        }
      ]
    },
    {
      "cell_type": "markdown",
      "metadata": {
        "id": "Nw51RV8kHYSy"
      },
      "source": [
        "In these examples, the `%s` indicates that Python should convert the values into strings. There are multiple conversion types that you can use to get more specific with the the formatting. See the string formatting [documentation](https://docs.python.org/2/library/stdtypes.html#string-formatting) for additional examples and more complete details on use."
      ]
    },
    {
      "cell_type": "markdown",
      "metadata": {
        "id": "7SuLDmPjtAsq"
      },
      "source": [
        "#### **Exapmle**"
      ]
    },
    {
      "cell_type": "code",
      "metadata": {
        "colab": {
          "base_uri": "https://localhost:8080/"
        },
        "id": "EMaDZaWksMik",
        "outputId": "fe26e2eb-d3c7-47e6-e344-6f19adae0870"
      },
      "source": [
        "print('Buenos %s' % 'días')\r\n",
        "print('%s buenos %s' % ('Muy', 'días'))"
      ],
      "execution_count": 80,
      "outputs": [
        {
          "output_type": "stream",
          "text": [
            "Buenos días\n",
            "Muy buenos días\n"
          ],
          "name": "stdout"
        }
      ]
    },
    {
      "cell_type": "markdown",
      "metadata": {
        "id": "CUASlwsZHYSz"
      },
      "source": [
        "## Logical Operators\n",
        "### Basic Logic\n",
        "\n",
        "Logical operators deal with `boolean` values, as we briefly covered before. If you recall, a `bool` takes on one of two values, `True` or `False` (or $1$ or $0$). The basic logical statements that we can make are defined using the built-in comparators. These are `==` (equal), `!=` (not equal), `<` (less than), `>` (greater than), `<=` (less than or equal to), and `>=` (greater than or equal to)."
      ]
    },
    {
      "cell_type": "code",
      "metadata": {
        "id": "auzVnwR2HYSz",
        "colab": {
          "base_uri": "https://localhost:8080/"
        },
        "outputId": "838474a1-1ac7-478b-df03-fc6b46728fff"
      },
      "source": [
        "print (5 == 5)"
      ],
      "execution_count": 81,
      "outputs": [
        {
          "output_type": "stream",
          "text": [
            "True\n"
          ],
          "name": "stdout"
        }
      ]
    },
    {
      "cell_type": "code",
      "metadata": {
        "id": "-TaRctTQHYSz",
        "colab": {
          "base_uri": "https://localhost:8080/"
        },
        "outputId": "5b0af57e-9070-42ca-f8f5-d5d22d72dfb9"
      },
      "source": [
        "print (5 > 5)"
      ],
      "execution_count": 82,
      "outputs": [
        {
          "output_type": "stream",
          "text": [
            "False\n"
          ],
          "name": "stdout"
        }
      ]
    },
    {
      "cell_type": "markdown",
      "metadata": {
        "id": "bRKUCuf4HYSz"
      },
      "source": [
        "These comparators also work in conjunction with variables."
      ]
    },
    {
      "cell_type": "code",
      "metadata": {
        "id": "sevwzdBOHYSz",
        "colab": {
          "base_uri": "https://localhost:8080/"
        },
        "outputId": "213130ba-4872-42c2-9541-c7bab1c953db"
      },
      "source": [
        "m = 2\n",
        "n = 23\n",
        "print (m < n)"
      ],
      "execution_count": 83,
      "outputs": [
        {
          "output_type": "stream",
          "text": [
            "True\n"
          ],
          "name": "stdout"
        }
      ]
    },
    {
      "cell_type": "markdown",
      "metadata": {
        "id": "GAQzUzEHHYSz"
      },
      "source": [
        "We can string these comparators together to make more complex logical statements using the logical operators `or`, `and`, and `not`. "
      ]
    },
    {
      "cell_type": "code",
      "metadata": {
        "id": "jTtn-1PwHYS0",
        "colab": {
          "base_uri": "https://localhost:8080/"
        },
        "outputId": "3212a978-4796-414e-82c3-486e6e1d1578"
      },
      "source": [
        "statement_1 = 10 > 2\n",
        "statement_2 = 4 <= 6\n",
        "print (\"Statement 1 truth value: {0}\".format(statement_1))\n",
        "print (\"Statement 2 truth value: {0}\".format(statement_2))\n",
        "print (\"Statement 1 and Statement 2: {0}\".format(statement_1 and statement_2))"
      ],
      "execution_count": 84,
      "outputs": [
        {
          "output_type": "stream",
          "text": [
            "Statement 1 truth value: True\n",
            "Statement 2 truth value: True\n",
            "Statement 1 and Statement 2: True\n"
          ],
          "name": "stdout"
        }
      ]
    },
    {
      "cell_type": "markdown",
      "metadata": {
        "id": "J1V2mtbTHYS0"
      },
      "source": [
        "The `or` operator performs a logical `or` calculation. This is an inclusive `or`, so if either component paired together by `or` is `True`, the whole statement will be `True`. The `and` statement only outputs `True` if all components that are `and`ed together are True. Otherwise it will output `False`. The `not` statement simply inverts the truth value of whichever statement follows it. So a `True` statement will be evaluated as `False` when a `not` is placed in front of it. Similarly, a `False` statement will become `True` when a `not` is in front of it.\n",
        "\n",
        "Say that we have two logical statements, or assertions, $P$ and $Q$. The truth table for the basic logical operators is as follows:\n",
        "\n",
        "|  P  |  Q  | `not` P| P `and` Q | P `or` Q|\n",
        "|:-----:|:-----:|:---:|:---:|:---:|\n",
        "| `True` | `True` | `False` | `True` | `True` |\n",
        "| `False` | `True` | `True` | `False` | `True` |\n",
        "| `True` | `False` | `False` | `False` | `True` |\n",
        "| `False` | `False` | `True` | `False` | `False` |\n",
        "\n",
        "We can string multiple logical statements together using the logical operators."
      ]
    },
    {
      "cell_type": "code",
      "metadata": {
        "id": "1fZ9uGl4HYS0",
        "colab": {
          "base_uri": "https://localhost:8080/"
        },
        "outputId": "8e484dc4-baa7-4598-82c0-bb3eb23eb031"
      },
      "source": [
        "print (((2 < 3) and (3 > 0)) or ((5 > 6) and not (4 < 2)))"
      ],
      "execution_count": 85,
      "outputs": [
        {
          "output_type": "stream",
          "text": [
            "True\n"
          ],
          "name": "stdout"
        }
      ]
    },
    {
      "cell_type": "markdown",
      "metadata": {
        "id": "goNAIs7KHYS0"
      },
      "source": [
        "Logical statements can be as simple or complex as we like, depending on what we need to express. Evaluating the above logical statement step by step we see that we are evaluating (`True and True`) `or` (`False and not False`). This becomes `True or (False and True`), subsequently becoming `True or False`, ultimately being evaluated as `True`."
      ]
    },
    {
      "cell_type": "markdown",
      "metadata": {
        "id": "OcI7yYXD6lmv"
      },
      "source": [
        "#### **Example**"
      ]
    },
    {
      "cell_type": "code",
      "metadata": {
        "colab": {
          "base_uri": "https://localhost:8080/"
        },
        "id": "Sa-09GvF4zl3",
        "outputId": "f87d2c77-b0aa-445c-ba73-7805d6b5ae78"
      },
      "source": [
        "a=15\r\n",
        "b=20\r\n",
        "c=False\r\n",
        "print(a<=b or c)\r\n",
        "print((3<8 and 3>9) or 4<6 )"
      ],
      "execution_count": 86,
      "outputs": [
        {
          "output_type": "stream",
          "text": [
            "True\n",
            "True\n"
          ],
          "name": "stdout"
        }
      ]
    },
    {
      "cell_type": "markdown",
      "metadata": {
        "id": "vEsSlX-lHYS0"
      },
      "source": [
        "#### Truthiness\n",
        "\n",
        "Data types in Python have a fun characteristic called truthiness. What this means is that most built-in types will evaluate as either `True` or `False` when a boolean value is needed (such as with an if-statement). As a general rule, containers like strings, tuples, dictionaries, lists, and sets, will return `True` if they contain anything at all and `False` if they contain nothing."
      ]
    },
    {
      "cell_type": "code",
      "metadata": {
        "id": "XZ3tAgIDHYS1",
        "colab": {
          "base_uri": "https://localhost:8080/"
        },
        "outputId": "fa2632ac-54ed-499b-fe5d-3205616f2365"
      },
      "source": [
        "# Similar to how float() and int() work, bool() forces a value to be considered a boolean!\n",
        "print (bool(''))"
      ],
      "execution_count": 87,
      "outputs": [
        {
          "output_type": "stream",
          "text": [
            "False\n"
          ],
          "name": "stdout"
        }
      ]
    },
    {
      "cell_type": "code",
      "metadata": {
        "id": "Q9mUBgV1HYS1",
        "colab": {
          "base_uri": "https://localhost:8080/"
        },
        "outputId": "5c10edbc-987a-467e-fd8d-1861e5f6e6f4"
      },
      "source": [
        "print (bool('I have character!'))"
      ],
      "execution_count": 88,
      "outputs": [
        {
          "output_type": "stream",
          "text": [
            "True\n"
          ],
          "name": "stdout"
        }
      ]
    },
    {
      "cell_type": "code",
      "metadata": {
        "id": "R9C-BwQ1HYS1",
        "colab": {
          "base_uri": "https://localhost:8080/"
        },
        "outputId": "1d624c56-d0b4-4c93-94f5-fe770ad4fc77"
      },
      "source": [
        "print (bool([]))"
      ],
      "execution_count": 89,
      "outputs": [
        {
          "output_type": "stream",
          "text": [
            "False\n"
          ],
          "name": "stdout"
        }
      ]
    },
    {
      "cell_type": "code",
      "metadata": {
        "id": "rfTjlT9XHYS1",
        "colab": {
          "base_uri": "https://localhost:8080/"
        },
        "outputId": "986628f9-14a2-4d4d-985c-23d45c4e34c7"
      },
      "source": [
        "print (bool([1, 2, 3]))"
      ],
      "execution_count": 90,
      "outputs": [
        {
          "output_type": "stream",
          "text": [
            "True\n"
          ],
          "name": "stdout"
        }
      ]
    },
    {
      "cell_type": "markdown",
      "metadata": {
        "id": "fhQAJp3FHYS1"
      },
      "source": [
        "And so on, for the other collections and containers. `None` also evaluates as `False`. The number `1` is equivalent to `True` and the number `0` is equivalent to `False` as well, in a boolean context."
      ]
    },
    {
      "cell_type": "markdown",
      "metadata": {
        "id": "hwL3dTWL8g7q"
      },
      "source": [
        "##### **Example** "
      ]
    },
    {
      "cell_type": "code",
      "metadata": {
        "colab": {
          "base_uri": "https://localhost:8080/"
        },
        "id": "h7H0JNcp8XKy",
        "outputId": "00a29085-5265-45c1-ada5-ff67e05d8a8b"
      },
      "source": [
        "print(bool(()), bool(1))"
      ],
      "execution_count": 91,
      "outputs": [
        {
          "output_type": "stream",
          "text": [
            "False True\n"
          ],
          "name": "stdout"
        }
      ]
    },
    {
      "cell_type": "markdown",
      "metadata": {
        "id": "zOUQLL1RHYS2"
      },
      "source": [
        "### If-statements\n",
        "\n",
        "We can create segments of code that only execute if a set of conditions is met. We use if-statements in conjunction with logical statements in order to create branches in our code. \n",
        "\n",
        "An `if` block gets entered when the condition is considered to be `True`. If condition is evaluated as `False`, the `if` block will simply be skipped unless there is an `else` block to accompany it. Conditions are made using either logical operators or by using the truthiness of values in Python. An if-statement is defined with a colon and a block of indented text."
      ]
    },
    {
      "cell_type": "code",
      "metadata": {
        "id": "ApPUyT7ZHYS2",
        "colab": {
          "base_uri": "https://localhost:8080/"
        },
        "outputId": "89945573-f25a-4deb-8136-bc3ea8343a69"
      },
      "source": [
        "# This is the basic format of an if statement. This is a vacuous example. \n",
        "# The string \"Condition\" will always evaluated as True because it is a\n",
        "# non-empty string. he purpose of this code is to show the formatting of\n",
        "# an if-statement.\n",
        "if \"Condition\": \n",
        "    # This block of code will execute because the string is non-empty\n",
        "    # Everything on these indented lines\n",
        "    print (True)\n",
        "else:\n",
        "    # So if the condition that we examined with if is in fact False\n",
        "    # This block of code will execute INSTEAD of the first block of code\n",
        "    # Everything on these indented lines\n",
        "    print (False)\n",
        "# The else block here will never execute because \"Condition\" is a non-empty string."
      ],
      "execution_count": 92,
      "outputs": [
        {
          "output_type": "stream",
          "text": [
            "True\n"
          ],
          "name": "stdout"
        }
      ]
    },
    {
      "cell_type": "code",
      "metadata": {
        "id": "bcsXOxjtHYS2"
      },
      "source": [
        "i = 4\n",
        "if i == 5:\n",
        "    print ('The variable i has a value of 5')"
      ],
      "execution_count": 93,
      "outputs": []
    },
    {
      "cell_type": "markdown",
      "metadata": {
        "id": "sI8BW7vRHYS2"
      },
      "source": [
        "Because in this example `i = 4` and the if-statement is only looking for whether `i` is equal to `5`, the print statement will never be executed. We can add in an `else` statement to create a contingency block of code in case the condition in the if-statement is not evaluated as `True`."
      ]
    },
    {
      "cell_type": "code",
      "metadata": {
        "id": "UqQYtNHrHYS2",
        "colab": {
          "base_uri": "https://localhost:8080/"
        },
        "outputId": "be8aae2b-bb22-4d96-9248-c79aff7df42a"
      },
      "source": [
        "i = 4\n",
        "if i == 5:\n",
        "    print (\"All lines in this indented block are part of this block\")\n",
        "    print ('The variable i has a value of 5')\n",
        "else:\n",
        "    print (\"All lines in this indented block are part of this block\")\n",
        "    print ('The variable i is not equal to 5')"
      ],
      "execution_count": 94,
      "outputs": [
        {
          "output_type": "stream",
          "text": [
            "All lines in this indented block are part of this block\n",
            "The variable i is not equal to 5\n"
          ],
          "name": "stdout"
        }
      ]
    },
    {
      "cell_type": "code",
      "metadata": {
        "colab": {
          "base_uri": "https://localhost:8080/"
        },
        "id": "Q-q6Db5qAT8o",
        "outputId": "fcbe2916-8564-435a-f78e-7f8036b5bd29"
      },
      "source": [
        "a=69\r\n",
        "if a % 3 == 0:\r\n",
        "  print(a, 'es multiplo de 3')"
      ],
      "execution_count": 95,
      "outputs": [
        {
          "output_type": "stream",
          "text": [
            "69 es multiplo de 3\n"
          ],
          "name": "stdout"
        }
      ]
    },
    {
      "cell_type": "markdown",
      "metadata": {
        "id": "E4_qRCUUHYS3"
      },
      "source": [
        "We can implement other branches off of the same if-statement by using `elif`, an abbreviation of \"else if\". We can include as many `elifs` as we like until we have exhausted all the logical branches of a condition."
      ]
    },
    {
      "cell_type": "code",
      "metadata": {
        "id": "dqVJNZK1HYS3",
        "colab": {
          "base_uri": "https://localhost:8080/"
        },
        "outputId": "015cf161-139b-4951-d215-6e9a93bf89f8"
      },
      "source": [
        "i = 1\n",
        "if i == 1:\n",
        "    print ('The variable i has a value of 1')\n",
        "elif i == 2:\n",
        "    print ('The variable i has a value of 2')\n",
        "elif i == 3:\n",
        "    print ('The variable i has a value of 3')\n",
        "else:\n",
        "    print (\"I don't care what i is\")"
      ],
      "execution_count": 96,
      "outputs": [
        {
          "output_type": "stream",
          "text": [
            "The variable i has a value of 1\n"
          ],
          "name": "stdout"
        }
      ]
    },
    {
      "cell_type": "code",
      "metadata": {
        "colab": {
          "base_uri": "https://localhost:8080/"
        },
        "id": "SBPjuTiZBEkG",
        "outputId": "39c0c773-1fd1-4273-f924-07a03ff121b4"
      },
      "source": [
        "a=507\r\n",
        "if a%2==0:\r\n",
        "  print('Multiplo de 2')\r\n",
        "elif a%3==0:\r\n",
        "  print('Multiplo de 3')\r\n",
        "elif a%5==0:\r\n",
        "  print('Multiplo de 5')\r\n",
        "else:\r\n",
        "  print('No estoy seguro')"
      ],
      "execution_count": 97,
      "outputs": [
        {
          "output_type": "stream",
          "text": [
            "Multiplo de 3\n"
          ],
          "name": "stdout"
        }
      ]
    },
    {
      "cell_type": "markdown",
      "metadata": {
        "id": "lCOegK6qHYS3"
      },
      "source": [
        "You can also nest if-statements within if-statements to check for further conditions."
      ]
    },
    {
      "cell_type": "code",
      "metadata": {
        "id": "gcyq3tI_HYS4",
        "colab": {
          "base_uri": "https://localhost:8080/"
        },
        "outputId": "2fec9f89-a287-4105-968b-8553ef23c88d"
      },
      "source": [
        "i = 10\n",
        "if i % 2 == 0:\n",
        "    if i % 3 == 0:\n",
        "        print ('i is divisible by both 2 and 3! Wow!')\n",
        "    elif i % 5 == 0:\n",
        "        print ('i is divisible by both 2 and 5! Wow!')\n",
        "    else:\n",
        "        print ('i is divisible by 2, but not 3 or 5. Meh.')\n",
        "else:\n",
        "    print ('I guess that i is an odd number. Boring.')"
      ],
      "execution_count": 98,
      "outputs": [
        {
          "output_type": "stream",
          "text": [
            "i is divisible by both 2 and 5! Wow!\n"
          ],
          "name": "stdout"
        }
      ]
    },
    {
      "cell_type": "code",
      "metadata": {
        "colab": {
          "base_uri": "https://localhost:8080/"
        },
        "id": "hwkG-xolCoLw",
        "outputId": "f8722724-43bb-46ed-d12d-28097be91793"
      },
      "source": [
        "a=180\r\n",
        "if a<=200:\r\n",
        "  if a<100:\r\n",
        "    print('El numero es menor a 100')\r\n",
        "  elif a<150:\r\n",
        "    print('El numero está entre 100 y 150')\r\n",
        "  else:\r\n",
        "    print('el numero está entre 150 y 200')\r\n",
        "else:\r\n",
        "  print('El numero es mayor a 200')"
      ],
      "execution_count": 99,
      "outputs": [
        {
          "output_type": "stream",
          "text": [
            "el numero está entre 150 y 200\n"
          ],
          "name": "stdout"
        }
      ]
    },
    {
      "cell_type": "markdown",
      "metadata": {
        "id": "h2vJrNBrHYS4"
      },
      "source": [
        "Remember that we can group multiple conditions together by using the logical operators!"
      ]
    },
    {
      "cell_type": "code",
      "metadata": {
        "id": "TU6dl7PZHYS4",
        "colab": {
          "base_uri": "https://localhost:8080/"
        },
        "outputId": "52ef87b2-a372-4ea6-b59a-f0e6efb12e35"
      },
      "source": [
        "i = 5\n",
        "j = 12\n",
        "if i < 10 and j > 11:\n",
        "    print ('{0} is less than 10 and {1} is greater than 11! How novel and interesting!'.format(i, j))"
      ],
      "execution_count": 100,
      "outputs": [
        {
          "output_type": "stream",
          "text": [
            "5 is less than 10 and 12 is greater than 11! How novel and interesting!\n"
          ],
          "name": "stdout"
        }
      ]
    },
    {
      "cell_type": "code",
      "metadata": {
        "colab": {
          "base_uri": "https://localhost:8080/"
        },
        "id": "ZumHYzjAFugq",
        "outputId": "d98cfdd4-ccda-4d62-f019-1f449fa912a0"
      },
      "source": [
        "a=180\r\n",
        "if a>100 and a<200:\r\n",
        "  print('El numero está entre 100 y 200')\r\n",
        "else:\r\n",
        "  print ('El numero no sirve')"
      ],
      "execution_count": 101,
      "outputs": [
        {
          "output_type": "stream",
          "text": [
            "El numero está entre 100 y 200\n"
          ],
          "name": "stdout"
        }
      ]
    },
    {
      "cell_type": "markdown",
      "metadata": {
        "id": "ZVbGB4jBHYS4"
      },
      "source": [
        "You can use the logical comparators to compare strings!"
      ]
    },
    {
      "cell_type": "code",
      "metadata": {
        "id": "x0lN570pHYS4",
        "colab": {
          "base_uri": "https://localhost:8080/"
        },
        "outputId": "bb3c59b1-15b2-4df4-b236-33af447df798"
      },
      "source": [
        "my_string = \"Carthago delenda est\"\n",
        "if my_string == \"Carthago delenda est\":\n",
        "    print ('And so it was! For the glory of Rome!')\n",
        "else:\n",
        "    print ('War elephants are TERRIFYING. I am staying home.')"
      ],
      "execution_count": 102,
      "outputs": [
        {
          "output_type": "stream",
          "text": [
            "And so it was! For the glory of Rome!\n"
          ],
          "name": "stdout"
        }
      ]
    },
    {
      "cell_type": "code",
      "metadata": {
        "colab": {
          "base_uri": "https://localhost:8080/"
        },
        "id": "P0wcJCrbGfBo",
        "outputId": "e3693527-b244-4983-c976-bd1b07f44dc6"
      },
      "source": [
        "str1='Buenos días'\r\n",
        "if str1=='Buenos días':\r\n",
        "  print('Como estas?')\r\n",
        "else:\r\n",
        "  print('Deberias saludar')"
      ],
      "execution_count": 103,
      "outputs": [
        {
          "output_type": "stream",
          "text": [
            "Como estas?\n"
          ],
          "name": "stdout"
        }
      ]
    },
    {
      "cell_type": "markdown",
      "metadata": {
        "id": "DfZZ0-hRHYS4"
      },
      "source": [
        "As with other data types, `==` will check for whether the two things on either side of it have the same value. In this case, we compare whether the value of the strings are the same. Using `>` or `<` or any of the other comparators is not quite so intuitive, however, so we will stay from using comparators with strings in this lecture. Comparators will examine the [lexicographical order](https://en.wikipedia.org/wiki/Lexicographical_order) of the strings, which might be a bit more in-depth than you might like."
      ]
    },
    {
      "cell_type": "markdown",
      "metadata": {
        "id": "38S7IOzPHYS5"
      },
      "source": [
        "Some built-in functions return a boolean value, so they can be used as conditions in an if-statement. User-defined functions can also be constructed so that they return a boolean value. This will be covered later with function definition!\n",
        "\n",
        "The `in` keyword is generally used to check membership of a value within another value. We can check memebership in the context of an if-statement and use it to output a truth value."
      ]
    },
    {
      "cell_type": "code",
      "metadata": {
        "id": "IkCHzwIEHYS5",
        "colab": {
          "base_uri": "https://localhost:8080/"
        },
        "outputId": "8b7125f5-eade-4dab-81dd-1c5703898308"
      },
      "source": [
        "if 'a' in my_string or 'e' in my_string:\n",
        "    print ('Those are my favorite vowels!')"
      ],
      "execution_count": 104,
      "outputs": [
        {
          "output_type": "stream",
          "text": [
            "Those are my favorite vowels!\n"
          ],
          "name": "stdout"
        }
      ]
    },
    {
      "cell_type": "code",
      "metadata": {
        "colab": {
          "base_uri": "https://localhost:8080/"
        },
        "id": "132x77x1HBeh",
        "outputId": "b9fc5f2b-5b81-482e-cc01-f09cad70c252"
      },
      "source": [
        "if 'B' in str1 and 'í' in str1:\r\n",
        "  print('Por lo menos te preocupa la ortografía ')"
      ],
      "execution_count": 105,
      "outputs": [
        {
          "output_type": "stream",
          "text": [
            "Por lo menos te preocupa la ortografía \n"
          ],
          "name": "stdout"
        }
      ]
    },
    {
      "cell_type": "markdown",
      "metadata": {
        "id": "nVnFpKd1HYS5"
      },
      "source": [
        "Here we use `in` to check whether the variable `my_string` contains any particular letters. We will later use `in` to iterate through lists!"
      ]
    },
    {
      "cell_type": "markdown",
      "metadata": {
        "id": "JeTeOWKCHYS5"
      },
      "source": [
        "## Loop Structures\n",
        "\n",
        "Loop structures are one of the most important parts of programming. The `for` loop and the `while` loop provide a way to repeatedly run a block of code repeatedly. A `while` loop will iterate until a certain condition has been met. If at any point after an iteration that condition is no longer satisfied, the loop terminates. A `for` loop will iterate over a sequence of values and terminate when the sequence has ended. You can instead include conditions within the `for` loop to decide whether it should terminate early or you could simply let it run its course."
      ]
    },
    {
      "cell_type": "code",
      "metadata": {
        "id": "LHd9LP7VHYS5",
        "colab": {
          "base_uri": "https://localhost:8080/"
        },
        "outputId": "ed6b31c6-ce2b-454c-cc6d-3d81d70ed1f7"
      },
      "source": [
        "i = 5\n",
        "while i > 0: # We can write this as 'while i:' because 0 is False!\n",
        "    i -= 1\n",
        "    print ('I am looping! {0} more to go!'.format(i))"
      ],
      "execution_count": 106,
      "outputs": [
        {
          "output_type": "stream",
          "text": [
            "I am looping! 4 more to go!\n",
            "I am looping! 3 more to go!\n",
            "I am looping! 2 more to go!\n",
            "I am looping! 1 more to go!\n",
            "I am looping! 0 more to go!\n"
          ],
          "name": "stdout"
        }
      ]
    },
    {
      "cell_type": "code",
      "metadata": {
        "colab": {
          "base_uri": "https://localhost:8080/"
        },
        "id": "a1T9y3VEIRao",
        "outputId": "3e0075e5-5a82-448e-bc79-78fcb028d439"
      },
      "source": [
        "a=0\r\n",
        "while a<5:\r\n",
        "  a+=1\r\n",
        "  print('Quiero llegar a 5, voy en {0}'.format(a)) "
      ],
      "execution_count": 107,
      "outputs": [
        {
          "output_type": "stream",
          "text": [
            "Quiero llegar a 5, voy en 1\n",
            "Quiero llegar a 5, voy en 2\n",
            "Quiero llegar a 5, voy en 3\n",
            "Quiero llegar a 5, voy en 4\n",
            "Quiero llegar a 5, voy en 5\n"
          ],
          "name": "stdout"
        }
      ]
    },
    {
      "cell_type": "markdown",
      "metadata": {
        "id": "OcSbYlSRHYS6"
      },
      "source": [
        "\n",
        "With `while` loops we need to make sure that something actually changes from iteration to iteration so that that the loop actually terminates. In this case, we use the shorthand `i -= 1` (short for `i = i - 1`) so that the value of `i` gets smaller with each iteration. Eventually `i` will be reduced to `0`, rendering the condition `False` and exiting the loop."
      ]
    },
    {
      "cell_type": "markdown",
      "metadata": {
        "id": "_HF8tk1yHYS6"
      },
      "source": [
        "A `for` loop iterates a set number of times, determined when you state the entry into the loop. In this case we are iterating over the list returned from `range()`. The `for` loop selects a value from the list, in order, and temporarily assigns the value of `i` to it so that operations can be performed with the value."
      ]
    },
    {
      "cell_type": "code",
      "metadata": {
        "id": "xEWhspMDHYS6",
        "colab": {
          "base_uri": "https://localhost:8080/"
        },
        "outputId": "71510eb9-2337-44f6-c5a3-3de70737b1db"
      },
      "source": [
        "for i in range(5):\n",
        "    print ('I am looping! I have looped {0} times!'.format(i + 1))"
      ],
      "execution_count": 108,
      "outputs": [
        {
          "output_type": "stream",
          "text": [
            "I am looping! I have looped 1 times!\n",
            "I am looping! I have looped 2 times!\n",
            "I am looping! I have looped 3 times!\n",
            "I am looping! I have looped 4 times!\n",
            "I am looping! I have looped 5 times!\n"
          ],
          "name": "stdout"
        }
      ]
    },
    {
      "cell_type": "code",
      "metadata": {
        "colab": {
          "base_uri": "https://localhost:8080/"
        },
        "id": "YW3rk-L9I0Je",
        "outputId": "99cf3232-a8ac-46a5-bd70-c892c4546a4e"
      },
      "source": [
        "for a in range(5):\r\n",
        "  print('Quiero llegar a 5, voy en {0}'.format(a))   "
      ],
      "execution_count": 109,
      "outputs": [
        {
          "output_type": "stream",
          "text": [
            "Quiero llegar a 5, voy en 0\n",
            "Quiero llegar a 5, voy en 1\n",
            "Quiero llegar a 5, voy en 2\n",
            "Quiero llegar a 5, voy en 3\n",
            "Quiero llegar a 5, voy en 4\n"
          ],
          "name": "stdout"
        }
      ]
    },
    {
      "cell_type": "markdown",
      "metadata": {
        "id": "nyJ5X85zHYS6"
      },
      "source": [
        "Note that in this `for` loop we use the `in` keyword. Use of the `in` keyword is not limited to checking for membership as in the if-statement example. You can iterate over any collection with a `for` loop by using the `in` keyword.\n",
        "\n",
        "In this next example, we will iterate over a `set` because we want to check for containment and add to a new set."
      ]
    },
    {
      "cell_type": "code",
      "metadata": {
        "id": "tBfdBSgbHYS6",
        "colab": {
          "base_uri": "https://localhost:8080/"
        },
        "outputId": "22892cc7-cb6f-41cb-c8b3-8dc7f92b5cb0"
      },
      "source": [
        "my_list = {'cats', 'dogs', 'lizards', 'cows', 'bats', 'sponges', 'humans'} # Lists all the animals in the world\n",
        "mammal_list = {'cats', 'dogs', 'cows', 'bats', 'humans'} # Lists all the mammals in the world\n",
        "my_new_list = set()\n",
        "for animal in my_list:\n",
        "    if animal in mammal_list:\n",
        "        # This adds any animal that is both in my_list and mammal_list to my_new_list\n",
        "        my_new_list.add(animal)\n",
        "        \n",
        "print (my_new_list)"
      ],
      "execution_count": 110,
      "outputs": [
        {
          "output_type": "stream",
          "text": [
            "{'humans', 'cows', 'dogs', 'cats', 'bats'}\n"
          ],
          "name": "stdout"
        }
      ]
    },
    {
      "cell_type": "code",
      "metadata": {
        "colab": {
          "base_uri": "https://localhost:8080/"
        },
        "id": "jvlyj5vDLmiS",
        "outputId": "cde4a661-8836-4a3b-d847-29d47745c4cb"
      },
      "source": [
        "lista={5,4,6,7,8,9,1,2,3}\r\n",
        "pares={2,4,6,8}\r\n",
        "nue_lista=set()\r\n",
        "for num in lista:\r\n",
        "  if num in pares:\r\n",
        "     nue_lista.add(num)\r\n",
        "print(nue_lista)"
      ],
      "execution_count": 111,
      "outputs": [
        {
          "output_type": "stream",
          "text": [
            "{8, 2, 4, 6}\n"
          ],
          "name": "stdout"
        }
      ]
    },
    {
      "cell_type": "markdown",
      "metadata": {
        "id": "GQDZiO-SHYS7"
      },
      "source": [
        "There are two statements that are very helpful in dealing with both `for` and `while` loops. These are `break` and `continue`. If `break` is encountered at any point while a loop is executing, the loop will immediately end."
      ]
    },
    {
      "cell_type": "code",
      "metadata": {
        "id": "jqcZFJG_HYS7",
        "colab": {
          "base_uri": "https://localhost:8080/"
        },
        "outputId": "04dce33a-ecdc-4874-d0bb-58168d3c1299"
      },
      "source": [
        "i = 10\n",
        "while True:\n",
        "    if i == 14:\n",
        "        break\n",
        "    i += 1 # This is shorthand for i = i + 1. It increments i with each iteration.\n",
        "    print (i)"
      ],
      "execution_count": 112,
      "outputs": [
        {
          "output_type": "stream",
          "text": [
            "11\n",
            "12\n",
            "13\n",
            "14\n"
          ],
          "name": "stdout"
        }
      ]
    },
    {
      "cell_type": "code",
      "metadata": {
        "id": "7AkRkPE7HYS7",
        "colab": {
          "base_uri": "https://localhost:8080/"
        },
        "outputId": "bcd2fc66-a128-4138-b35a-11e79b363f72"
      },
      "source": [
        "for i in range(5):\n",
        "    if i == 2:\n",
        "        break\n",
        "    print (i)"
      ],
      "execution_count": 113,
      "outputs": [
        {
          "output_type": "stream",
          "text": [
            "0\n",
            "1\n"
          ],
          "name": "stdout"
        }
      ]
    },
    {
      "cell_type": "code",
      "metadata": {
        "colab": {
          "base_uri": "https://localhost:8080/"
        },
        "id": "gcpyPTFTMgUr",
        "outputId": "f9c57268-3712-4d8e-b169-4889ff08fc22"
      },
      "source": [
        "print('While')\r\n",
        "a=0\r\n",
        "while True:\r\n",
        "  if a==8:\r\n",
        "    break\r\n",
        "  a+=2\r\n",
        "  print(a)\r\n",
        "print ('For')\r\n",
        "for a in range(0,70,3):\r\n",
        "  if a==18:\r\n",
        "    break\r\n",
        "  print(a)"
      ],
      "execution_count": 114,
      "outputs": [
        {
          "output_type": "stream",
          "text": [
            "While\n",
            "2\n",
            "4\n",
            "6\n",
            "8\n",
            "For\n",
            "0\n",
            "3\n",
            "6\n",
            "9\n",
            "12\n",
            "15\n"
          ],
          "name": "stdout"
        }
      ]
    },
    {
      "cell_type": "markdown",
      "metadata": {
        "id": "7s2R4mM1HYS7"
      },
      "source": [
        "The `continue` statement will tell the loop to immediately end this iteration and continue onto the next iteration of the loop."
      ]
    },
    {
      "cell_type": "code",
      "metadata": {
        "id": "FYTHwfgHHYS7",
        "colab": {
          "base_uri": "https://localhost:8080/"
        },
        "outputId": "955a7177-d442-46e0-ff85-2001f5c997f1"
      },
      "source": [
        "i = 0\n",
        "while i < 5:\n",
        "    i += 1\n",
        "    if i == 3:\n",
        "        continue\n",
        "    print(i)"
      ],
      "execution_count": 115,
      "outputs": [
        {
          "output_type": "stream",
          "text": [
            "1\n",
            "2\n",
            "4\n",
            "5\n"
          ],
          "name": "stdout"
        }
      ]
    },
    {
      "cell_type": "code",
      "metadata": {
        "colab": {
          "base_uri": "https://localhost:8080/"
        },
        "id": "dsLEj-11Np72",
        "outputId": "e7ce926e-0632-44c6-9d16-8d920aeafc7d"
      },
      "source": [
        "a=0\r\n",
        "while a<10:\r\n",
        "  a+=2\r\n",
        "  if a==6:\r\n",
        "    continue\r\n",
        "  print (a)"
      ],
      "execution_count": 116,
      "outputs": [
        {
          "output_type": "stream",
          "text": [
            "2\n",
            "4\n",
            "8\n",
            "10\n"
          ],
          "name": "stdout"
        }
      ]
    },
    {
      "cell_type": "markdown",
      "metadata": {
        "id": "mjkjIMTeHYS7"
      },
      "source": [
        "This loop skips printing the number $3$ because of the `continue` statement that executes when we enter the if-statement. The code never sees the command to print the number $3$ because it has already moved to the next iteration. The `break` and `continue` statements are further tools to help you control the flow of your loops and, as a result, your code."
      ]
    },
    {
      "cell_type": "markdown",
      "metadata": {
        "id": "3hkfc9XbHYS8"
      },
      "source": [
        "The variable that we use to iterate over a loop will retain its value when the loop exits. Similarly, any variables defined within the context of the loop will continue to exist outside of it."
      ]
    },
    {
      "cell_type": "code",
      "metadata": {
        "id": "eKLggfcZHYS8",
        "colab": {
          "base_uri": "https://localhost:8080/"
        },
        "outputId": "27446ed4-7b69-45e5-9c8b-eeea6f139eb0"
      },
      "source": [
        "for i in range(5):\n",
        "    loop_string = 'I transcend the loop!'\n",
        "    print ('I am eternal! I am {0} and I exist everywhere!'.format(i))\n",
        "\n",
        "print ('I persist! My value is {0}'.format(i))\n",
        "print (loop_string)"
      ],
      "execution_count": 117,
      "outputs": [
        {
          "output_type": "stream",
          "text": [
            "I am eternal! I am 0 and I exist everywhere!\n",
            "I am eternal! I am 1 and I exist everywhere!\n",
            "I am eternal! I am 2 and I exist everywhere!\n",
            "I am eternal! I am 3 and I exist everywhere!\n",
            "I am eternal! I am 4 and I exist everywhere!\n",
            "I persist! My value is 4\n",
            "I transcend the loop!\n"
          ],
          "name": "stdout"
        }
      ]
    },
    {
      "cell_type": "code",
      "metadata": {
        "colab": {
          "base_uri": "https://localhost:8080/"
        },
        "id": "cPQzPosNgeV8",
        "outputId": "36df65f4-88fd-44cf-9e3c-9d2227c7a466"
      },
      "source": [
        "for a in range(5):\r\n",
        "  str1='El bucle fue realizado'\r\n",
        "  print('ciclo numero: {0}'.format(a))\r\n",
        "\r\n",
        "print('El bucle se hizo {0} veces'.format(a))\r\n",
        "print(str1)"
      ],
      "execution_count": 118,
      "outputs": [
        {
          "output_type": "stream",
          "text": [
            "ciclo numero: 0\n",
            "ciclo numero: 1\n",
            "ciclo numero: 2\n",
            "ciclo numero: 3\n",
            "ciclo numero: 4\n",
            "El bucle se hizo 4 veces\n",
            "El bucle fue realizado\n"
          ],
          "name": "stdout"
        }
      ]
    },
    {
      "cell_type": "markdown",
      "metadata": {
        "id": "vKe3jycmHYS8"
      },
      "source": [
        "We can also iterate over a dictionary!"
      ]
    },
    {
      "cell_type": "code",
      "metadata": {
        "id": "N1RagRj8HYS8"
      },
      "source": [
        "my_dict = {'firstname' : 'Inigo', 'lastname' : 'Montoya', 'nemesis' : 'Rugen'}"
      ],
      "execution_count": 119,
      "outputs": []
    },
    {
      "cell_type": "code",
      "metadata": {
        "id": "zzLFFg3GHYS8",
        "colab": {
          "base_uri": "https://localhost:8080/"
        },
        "outputId": "e435515b-37c5-4fb1-afd8-f2a9053ea14b"
      },
      "source": [
        "for key in my_dict:\n",
        "    print (key)"
      ],
      "execution_count": 120,
      "outputs": [
        {
          "output_type": "stream",
          "text": [
            "firstname\n",
            "lastname\n",
            "nemesis\n"
          ],
          "name": "stdout"
        }
      ]
    },
    {
      "cell_type": "code",
      "metadata": {
        "colab": {
          "base_uri": "https://localhost:8080/"
        },
        "id": "ti-BciYxjLkI",
        "outputId": "ac4b9bff-aac5-4d89-9434-721f61097998"
      },
      "source": [
        "ciudades={'Colombia':['Cali', 'Bogotá', 'Medellín'],          \r\n",
        "          'Ecuador':['Guayaquil', 'Quito'],\r\n",
        "          'Perú':['Arequipa', 'Lima']}\r\n",
        "\r\n",
        "for ciu in ciudades:\r\n",
        "  print(ciu)"
      ],
      "execution_count": 121,
      "outputs": [
        {
          "output_type": "stream",
          "text": [
            "Colombia\n",
            "Ecuador\n",
            "Perú\n"
          ],
          "name": "stdout"
        }
      ]
    },
    {
      "cell_type": "markdown",
      "metadata": {
        "id": "9dChN_BRHYS9"
      },
      "source": [
        "If we just iterate over a dictionary without doing anything else, we will only get the keys. We can either use the keys to get the values, like so:"
      ]
    },
    {
      "cell_type": "code",
      "metadata": {
        "id": "ebtmrMw9HYS9",
        "colab": {
          "base_uri": "https://localhost:8080/"
        },
        "outputId": "2d17d709-92a1-42e7-e5ec-d0fe62fd02be"
      },
      "source": [
        "for key in my_dict:\n",
        "    print (my_dict[key])"
      ],
      "execution_count": 122,
      "outputs": [
        {
          "output_type": "stream",
          "text": [
            "Inigo\n",
            "Montoya\n",
            "Rugen\n"
          ],
          "name": "stdout"
        }
      ]
    },
    {
      "cell_type": "code",
      "metadata": {
        "colab": {
          "base_uri": "https://localhost:8080/"
        },
        "id": "2CXhJ9a6j8iK",
        "outputId": "a0246750-5ef7-41a8-bd04-b56393bba0b9"
      },
      "source": [
        "for ciu in ciudades:\r\n",
        "  print(ciudades[ciu])"
      ],
      "execution_count": 123,
      "outputs": [
        {
          "output_type": "stream",
          "text": [
            "['Cali', 'Bogotá', 'Medellín']\n",
            "['Guayaquil', 'Quito']\n",
            "['Arequipa', 'Lima']\n"
          ],
          "name": "stdout"
        }
      ]
    },
    {
      "cell_type": "markdown",
      "metadata": {
        "id": "B1NhAk6dHYS9"
      },
      "source": [
        "Or we can use the `items()` function to get both key and value at the same time."
      ]
    },
    {
      "cell_type": "code",
      "metadata": {
        "id": "08BnVvmzHYS9",
        "colab": {
          "base_uri": "https://localhost:8080/"
        },
        "outputId": "db704099-3dce-42c2-d7a1-a9d301a44c23"
      },
      "source": [
        "for key, value in my_dict.items():\n",
        "    print (key, ':', value)"
      ],
      "execution_count": 124,
      "outputs": [
        {
          "output_type": "stream",
          "text": [
            "firstname : Inigo\n",
            "lastname : Montoya\n",
            "nemesis : Rugen\n"
          ],
          "name": "stdout"
        }
      ]
    },
    {
      "cell_type": "markdown",
      "metadata": {
        "id": "TQ0ZjT4MHYS9"
      },
      "source": [
        "The `items()` function creates a tuple of each key-value pair and the for loop unpacks that tuple into `key, value` on each separate execution of the loop!"
      ]
    },
    {
      "cell_type": "code",
      "metadata": {
        "colab": {
          "base_uri": "https://localhost:8080/"
        },
        "id": "U_7HbilckVmJ",
        "outputId": "688fed68-265e-430c-f064-ff0c0c18e278"
      },
      "source": [
        "for ciu, cap in ciudades.items():\r\n",
        "  print(ciu, ':', cap)"
      ],
      "execution_count": 125,
      "outputs": [
        {
          "output_type": "stream",
          "text": [
            "Colombia : ['Cali', 'Bogotá', 'Medellín']\n",
            "Ecuador : ['Guayaquil', 'Quito']\n",
            "Perú : ['Arequipa', 'Lima']\n"
          ],
          "name": "stdout"
        }
      ]
    },
    {
      "cell_type": "markdown",
      "metadata": {
        "id": "3wxcDaWgHYS9"
      },
      "source": [
        "## Functions\n",
        "\n",
        "A function is a reusable block of code that you can call repeatedly to make calculations, output data, or really do anything that you want. This is one of the key aspects of using a programming language. To add to the built-in functions in Python, you can define your own!"
      ]
    },
    {
      "cell_type": "code",
      "metadata": {
        "id": "EYjTUoFXHYS-",
        "colab": {
          "base_uri": "https://localhost:8080/"
        },
        "outputId": "4acc0805-5504-4a5c-f459-4e7ec0792089"
      },
      "source": [
        "def hello_world():\n",
        "    \"\"\" Prints Hello, world! \"\"\"\n",
        "    print ('Hello, world!'\n",
        ")\n",
        "hello_world()"
      ],
      "execution_count": 126,
      "outputs": [
        {
          "output_type": "stream",
          "text": [
            "Hello, world!\n"
          ],
          "name": "stdout"
        }
      ]
    },
    {
      "cell_type": "code",
      "metadata": {
        "id": "5YMF6sC3HYS-",
        "colab": {
          "base_uri": "https://localhost:8080/"
        },
        "outputId": "18174329-a546-41c3-a66f-eff9f092ab94"
      },
      "source": [
        "for i in range(5):\n",
        "    hello_world()"
      ],
      "execution_count": 127,
      "outputs": [
        {
          "output_type": "stream",
          "text": [
            "Hello, world!\n",
            "Hello, world!\n",
            "Hello, world!\n",
            "Hello, world!\n",
            "Hello, world!\n"
          ],
          "name": "stdout"
        }
      ]
    },
    {
      "cell_type": "code",
      "metadata": {
        "colab": {
          "base_uri": "https://localhost:8080/"
        },
        "id": "tFRg8XGqmJ1_",
        "outputId": "036fb261-5782-4df6-be99-9c98d181f682"
      },
      "source": [
        "def saludo():\r\n",
        "  print('Buenos días')\r\n",
        "\r\n",
        "saludo()"
      ],
      "execution_count": 128,
      "outputs": [
        {
          "output_type": "stream",
          "text": [
            "Buenos días\n"
          ],
          "name": "stdout"
        }
      ]
    },
    {
      "cell_type": "code",
      "metadata": {
        "colab": {
          "base_uri": "https://localhost:8080/"
        },
        "id": "IojGQ6Pimp3l",
        "outputId": "398ef65b-ce5e-48de-d742-1b5abb4d6ffb"
      },
      "source": [
        "for a in range(5):\r\n",
        "  saludo()"
      ],
      "execution_count": 129,
      "outputs": [
        {
          "output_type": "stream",
          "text": [
            "Buenos días\n",
            "Buenos días\n",
            "Buenos días\n",
            "Buenos días\n",
            "Buenos días\n"
          ],
          "name": "stdout"
        }
      ]
    },
    {
      "cell_type": "markdown",
      "metadata": {
        "id": "A6G2_5bSHYS-"
      },
      "source": [
        "Functions are defined with `def`, a function name, a list of parameters, and a colon. Everything indented below the colon will be included in the definition of the function.\n",
        "\n",
        "We can have our functions do anything that you can do with a normal block of code. For example, our `hello_world()` function prints a string every time it is called. If we want to keep a value that a function calculates, we can define the function so that it will `return` the value we want. This is a very important feature of functions, as any variable defined purely within a function will not exist outside of it."
      ]
    },
    {
      "cell_type": "code",
      "metadata": {
        "id": "vZHziF5hHYS-"
      },
      "source": [
        "def see_the_scope():\n",
        "    string = \"I'm stuck in here!\"\n",
        "\n",
        "see_the_scope()\n",
        "#print (string)"
      ],
      "execution_count": 130,
      "outputs": []
    },
    {
      "cell_type": "markdown",
      "metadata": {
        "id": "Qyht8Wy5HYS-"
      },
      "source": [
        " The **scope** of a variable is the part of a block of code where that variable is tied to a particular value. Functions in Python have an enclosed scope, making it so that variables defined within them can only be accessed directly within them. If we pass those values to a return statement we can get them out of the function. This makes it so that the function call returns values so that you can store them in variables that have a greater scope.\n",
        " \n",
        "In this case specifically, including a return statement allows us to keep the string value that we define in the function."
      ]
    },
    {
      "cell_type": "code",
      "metadata": {
        "id": "-EFyprFDHYS_",
        "colab": {
          "base_uri": "https://localhost:8080/"
        },
        "outputId": "45375dc0-ea16-4c3b-9786-34ab382fa471"
      },
      "source": [
        "def free_the_scope():\n",
        "    in_function_string = \"Anything you can do I can do better!\"\n",
        "    return in_function_string\n",
        "my_string = free_the_scope()\n",
        "print (my_string)"
      ],
      "execution_count": 131,
      "outputs": [
        {
          "output_type": "stream",
          "text": [
            "Anything you can do I can do better!\n"
          ],
          "name": "stdout"
        }
      ]
    },
    {
      "cell_type": "code",
      "metadata": {
        "colab": {
          "base_uri": "https://localhost:8080/"
        },
        "id": "fhxJEYhdv9m3",
        "outputId": "dd405c39-f28b-4e5f-f56d-4a5afccc3a71"
      },
      "source": [
        "def funcion():\r\n",
        "  string2=\"resultado de la función\"\r\n",
        "  return string2\r\n",
        "\r\n",
        "string3=funcion()\r\n",
        "print(string3)"
      ],
      "execution_count": 132,
      "outputs": [
        {
          "output_type": "stream",
          "text": [
            "resultado de la función\n"
          ],
          "name": "stdout"
        }
      ]
    },
    {
      "cell_type": "markdown",
      "metadata": {
        "id": "w9GBFhL8HYS_"
      },
      "source": [
        "Just as we can get values out of a function, we can also put values into a function. We do this by defining our function with parameters."
      ]
    },
    {
      "cell_type": "code",
      "metadata": {
        "id": "kc3Y87KuHYS_",
        "colab": {
          "base_uri": "https://localhost:8080/"
        },
        "outputId": "c8a85283-5f7b-4f06-85d3-ae109148e073"
      },
      "source": [
        "def multiply_by_five(x):\n",
        "    \"\"\" Multiplies an input number by 5 \"\"\"\n",
        "    return x * 5\n",
        "\n",
        "n = 4\n",
        "print (n)\n",
        "print (multiply_by_five(n))"
      ],
      "execution_count": 133,
      "outputs": [
        {
          "output_type": "stream",
          "text": [
            "4\n",
            "20\n"
          ],
          "name": "stdout"
        }
      ]
    },
    {
      "cell_type": "code",
      "metadata": {
        "colab": {
          "base_uri": "https://localhost:8080/"
        },
        "id": "RP0oR8jrzJSB",
        "outputId": "5c8d48a6-32cb-40a1-991d-19d858600f1e"
      },
      "source": [
        "def dividir_en2(x):\r\n",
        "  return x/2\r\n",
        "\r\n",
        "n=568\r\n",
        "print(n)\r\n",
        "print(dividir_en2(n))"
      ],
      "execution_count": 134,
      "outputs": [
        {
          "output_type": "stream",
          "text": [
            "568\n",
            "284.0\n"
          ],
          "name": "stdout"
        }
      ]
    },
    {
      "cell_type": "markdown",
      "metadata": {
        "id": "nMpa_Lg8HYS_"
      },
      "source": [
        "In this example we only had one parameter for our function, `x`. We can easily add more parameters, separating everything with a comma."
      ]
    },
    {
      "cell_type": "code",
      "metadata": {
        "id": "RQWxjdcdHYS_"
      },
      "source": [
        "def calculate_area(length, width):\n",
        "    \"\"\" Calculates the area of a rectangle \"\"\"\n",
        "    return length * width"
      ],
      "execution_count": 135,
      "outputs": []
    },
    {
      "cell_type": "code",
      "metadata": {
        "id": "BVsELhrCHYS_",
        "colab": {
          "base_uri": "https://localhost:8080/"
        },
        "outputId": "c5986c20-0cbd-45eb-a883-1cc8d49f8fa4"
      },
      "source": [
        "l = 5\n",
        "w = 10\n",
        "print ('Area: ', calculate_area(l, w))\n",
        "print ('Length: ', l)\n",
        "print ('Width: ', w)"
      ],
      "execution_count": 136,
      "outputs": [
        {
          "output_type": "stream",
          "text": [
            "Area:  50\n",
            "Length:  5\n",
            "Width:  10\n"
          ],
          "name": "stdout"
        }
      ]
    },
    {
      "cell_type": "code",
      "metadata": {
        "id": "8iW5ldmHHYTA"
      },
      "source": [
        "def calculate_volume(length, width, depth):\n",
        "    \"\"\" Calculates the volume of a rectangular prism \"\"\"\n",
        "    return length * width * depth"
      ],
      "execution_count": 137,
      "outputs": []
    },
    {
      "cell_type": "code",
      "metadata": {
        "colab": {
          "base_uri": "https://localhost:8080/"
        },
        "id": "9_MCDl6Rz83G",
        "outputId": "8b307fcc-db12-4500-bc76-9fd56ec5e063"
      },
      "source": [
        "def area_del_triangulo(base, altura):\r\n",
        "  return base*altura/2\r\n",
        "\r\n",
        "b=7\r\n",
        "h=3\r\n",
        "print('Area: ', area_del_triangulo(b,h))\r\n",
        "print('Base: ', b)\r\n",
        "print('Altura: ', h)\r\n",
        "\r\n",
        "def volumen(base,altura,profundidad):\r\n",
        "  return base*altura/2*profundidad\r\n",
        "\r\n",
        "p=5\r\n",
        "print('Volumen: ', volumen(b,h,p))"
      ],
      "execution_count": 138,
      "outputs": [
        {
          "output_type": "stream",
          "text": [
            "Area:  10.5\n",
            "Base:  7\n",
            "Altura:  3\n",
            "Volumen:  52.5\n"
          ],
          "name": "stdout"
        }
      ]
    },
    {
      "cell_type": "markdown",
      "metadata": {
        "id": "-2xqEdBgHYTA"
      },
      "source": [
        "If we want to, we can define a function so that it takes an arbitrary number of parameters. We tell Python that we want this by using an asterisk (`*`)."
      ]
    },
    {
      "cell_type": "code",
      "metadata": {
        "id": "C0i-19mKHYTA"
      },
      "source": [
        "def sum_values(*args):\n",
        "    sum_val = 0\n",
        "    for i in args:\n",
        "        sum_val += i\n",
        "    return sum_val"
      ],
      "execution_count": 139,
      "outputs": []
    },
    {
      "cell_type": "code",
      "metadata": {
        "id": "xaQ5M_PxHYTA",
        "colab": {
          "base_uri": "https://localhost:8080/"
        },
        "outputId": "b73ee557-b6eb-4dac-f20a-5581589bdb97"
      },
      "source": [
        "print (sum_values(1, 2, 3))\n",
        "print (sum_values(10, 20, 30, 40, 50))\n",
        "print (sum_values(4, 2, 5, 1, 10, 249, 25, 24, 13, 6, 4))"
      ],
      "execution_count": 140,
      "outputs": [
        {
          "output_type": "stream",
          "text": [
            "6\n",
            "150\n",
            "343\n"
          ],
          "name": "stdout"
        }
      ]
    },
    {
      "cell_type": "code",
      "metadata": {
        "colab": {
          "base_uri": "https://localhost:8080/"
        },
        "id": "XDOcJjgT1uoq",
        "outputId": "b3286985-2a5e-4106-bc4b-c7e181bbcbc1"
      },
      "source": [
        "def multiplicacion(*args):\r\n",
        "  res=0\r\n",
        "  for a in args:\r\n",
        "    res+=a\r\n",
        "  return res*2\r\n",
        "  \r\n",
        "print(multiplicacion(2,15))\r\n",
        "print(multiplicacion(2,3,4,5))"
      ],
      "execution_count": 141,
      "outputs": [
        {
          "output_type": "stream",
          "text": [
            "34\n",
            "28\n"
          ],
          "name": "stdout"
        }
      ]
    },
    {
      "cell_type": "markdown",
      "metadata": {
        "id": "4xHEyvdLHYTB"
      },
      "source": [
        "The time to use `*args` as a parameter for your function is when you do not know how many values may be passed to it, as in the case of our sum function. The asterisk in this case is the syntax that tells Python that you are going to pass an arbitrary number of parameters into your function. These parameters are stored in the form of a tuple."
      ]
    },
    {
      "cell_type": "code",
      "metadata": {
        "id": "jqb8ZAI_HYTB",
        "colab": {
          "base_uri": "https://localhost:8080/"
        },
        "outputId": "1a8b2435-998c-4de2-ff0a-86c27356014c"
      },
      "source": [
        "def test_args(*args):\n",
        "    print (type(args))\n",
        "\n",
        "test_args(1, 2, 3, 4, 5, 6)"
      ],
      "execution_count": 142,
      "outputs": [
        {
          "output_type": "stream",
          "text": [
            "<class 'tuple'>\n"
          ],
          "name": "stdout"
        }
      ]
    },
    {
      "cell_type": "code",
      "metadata": {
        "colab": {
          "base_uri": "https://localhost:8080/"
        },
        "id": "Zwve7aRn5JIB",
        "outputId": "00cea9d1-8594-4d5f-e7ac-7c4d127c7752"
      },
      "source": [
        "def tipo(*ent):\r\n",
        "  print(type(ent))\r\n",
        "\r\n",
        "tipo(3,6,4,5,2)"
      ],
      "execution_count": 143,
      "outputs": [
        {
          "output_type": "stream",
          "text": [
            "<class 'tuple'>\n"
          ],
          "name": "stdout"
        }
      ]
    },
    {
      "cell_type": "markdown",
      "metadata": {
        "id": "6z9S-rfgHYTC"
      },
      "source": [
        "We can put as many elements into the `args` tuple as we want to when we call the function. However, because `args` is a tuple, we cannot modify it after it has been created.\n",
        "\n",
        "The `args` name of the variable is purely by convention. You could just as easily name your parameter `*vars` or `*things`. You can treat the `args` tuple like you would any other tuple, easily accessing `arg`'s values and iterating over it, as in the above `sum_values(*args)` function."
      ]
    },
    {
      "cell_type": "markdown",
      "metadata": {
        "id": "Z6epuN9iHYTC"
      },
      "source": [
        "Our functions can return any data type. This makes it easy for us to create functions that check for conditions that we might want to monitor.\n",
        "\n",
        "Here we define a function that returns a boolean value. We can easily use this in conjunction with if-statements and  other situations that require a boolean."
      ]
    },
    {
      "cell_type": "code",
      "metadata": {
        "id": "NaHD-w0iHYTC"
      },
      "source": [
        "def has_a_vowel(word):\n",
        "    \"\"\" \n",
        "    Checks to see whether a word contains a vowel \n",
        "    If it doesn't contain a conventional vowel, it\n",
        "    will check for the presence of 'y' or 'w'. Does\n",
        "    not check to see whether those are in the word\n",
        "    in a vowel context.\n",
        "    \"\"\"\n",
        "    vowel_list = ['a', 'e', 'i', 'o', 'u']\n",
        "    \n",
        "    for vowel in vowel_list:\n",
        "        if vowel in word:\n",
        "            return True\n",
        "    # If there is a vowel in the word, the function returns, preventing anything after this loop from running\n",
        "    return False"
      ],
      "execution_count": 144,
      "outputs": []
    },
    {
      "cell_type": "code",
      "metadata": {
        "id": "-WABAe9oHYTC",
        "colab": {
          "base_uri": "https://localhost:8080/"
        },
        "outputId": "87a983af-1c26-4b4e-878e-429d1d40b64f"
      },
      "source": [
        "my_word = 'catnapping'\n",
        "if has_a_vowel(my_word):\n",
        "    print ('How surprising, an english word contains a vowel.')\n",
        "else:\n",
        "    print ('This is actually surprising.')"
      ],
      "execution_count": 145,
      "outputs": [
        {
          "output_type": "stream",
          "text": [
            "How surprising, an english word contains a vowel.\n"
          ],
          "name": "stdout"
        }
      ]
    },
    {
      "cell_type": "code",
      "metadata": {
        "id": "VgD7gHtg8f3R"
      },
      "source": [
        "def cincoPrimeras(pal):\r\n",
        "  letras=['a', 'b', 'c', 'd', 'e']\r\n",
        "\r\n",
        "  for letra in letras:\r\n",
        "    if letra in pal:\r\n",
        "      return True\r\n",
        "  return False"
      ],
      "execution_count": 146,
      "outputs": []
    },
    {
      "cell_type": "code",
      "metadata": {
        "colab": {
          "base_uri": "https://localhost:8080/"
        },
        "id": "VqKIDsS_9klA",
        "outputId": "5196f66e-93ef-4292-ca41-424b7a64cbb3"
      },
      "source": [
        "palabra='prueba'\r\n",
        "if cincoPrimeras(palabra):\r\n",
        "  print('Pasa la prueba')\r\n",
        "else:\r\n",
        "  print('No pasa')"
      ],
      "execution_count": 147,
      "outputs": [
        {
          "output_type": "stream",
          "text": [
            "Pasa la prueba\n"
          ],
          "name": "stdout"
        }
      ]
    },
    {
      "cell_type": "code",
      "metadata": {
        "id": "G7dRPvqEHYTC"
      },
      "source": [
        "def point_maker(x, y):\n",
        "    \"\"\" Groups x and y values into a point, technically a tuple \"\"\"\n",
        "    return x, y"
      ],
      "execution_count": 148,
      "outputs": []
    },
    {
      "cell_type": "markdown",
      "metadata": {
        "id": "FwElGCFNHYTD"
      },
      "source": [
        "This above function returns an ordered pair of the input parameters, stored as a tuple."
      ]
    },
    {
      "cell_type": "code",
      "metadata": {
        "scrolled": true,
        "id": "xBP1yzhdHYTD",
        "colab": {
          "base_uri": "https://localhost:8080/"
        },
        "outputId": "308ac21f-f7eb-45e6-bb37-00bb603bb7a3"
      },
      "source": [
        "a = point_maker(0, 10)\n",
        "b = point_maker(5, 3)\n",
        "def calculate_slope(point_a, point_b):\n",
        "    \"\"\" Calculates the linear slope between two points \"\"\"\n",
        "    return (point_b[1] - point_a[1])/(point_b[0] - point_a[0])\n",
        "print (\"The slope between a and b is {0}\".format(calculate_slope(a, b)))"
      ],
      "execution_count": 149,
      "outputs": [
        {
          "output_type": "stream",
          "text": [
            "The slope between a and b is -1.4\n"
          ],
          "name": "stdout"
        }
      ]
    },
    {
      "cell_type": "markdown",
      "metadata": {
        "id": "T3Q530RXHYTD"
      },
      "source": [
        "And that one calculates the slope between two points!"
      ]
    },
    {
      "cell_type": "code",
      "metadata": {
        "id": "qHvwkv2kHYTD",
        "colab": {
          "base_uri": "https://localhost:8080/"
        },
        "outputId": "f851d5e1-03f5-45a5-fd5e-5b8e593de089"
      },
      "source": [
        "print (\"The slope-intercept form of the line between a and b, using point a, is: y - {0} = {2}(x - {1})\".format(a[1], a[0], calculate_slope(a, b)))"
      ],
      "execution_count": 150,
      "outputs": [
        {
          "output_type": "stream",
          "text": [
            "The slope-intercept form of the line between a and b, using point a, is: y - 10 = -1.4(x - 0)\n"
          ],
          "name": "stdout"
        }
      ]
    },
    {
      "cell_type": "markdown",
      "metadata": {
        "id": "yNE7q-L7HYTD"
      },
      "source": [
        "With the proper syntax, you can define functions to do whatever calculations you want. This makes them an indispensible part of programming in any language."
      ]
    },
    {
      "cell_type": "markdown",
      "metadata": {
        "id": "wNmS5RQnHYTE"
      },
      "source": [
        "## Next Steps\n",
        "\n",
        "This was a lot of material and there is still even more to cover! Make sure you play around with the cells in each notebook to accustom yourself to the syntax featured here and to figure out any limitations. If you want to delve even deeper into the material, the [documentation for Python](https://docs.python.org/2/) is all available online. We are in the process of developing a second part to this Python tutorial, designed to provide you with even more programming knowledge, so keep an eye on the [Quantopian Lectures Page](quantopian.com/lectures) and the [forums](quantopian.com/posts) for any new lectures."
      ]
    },
    {
      "cell_type": "markdown",
      "metadata": {
        "id": "eu7jkDuUHYTE"
      },
      "source": [
        "*This presentation is for informational purposes only and does not constitute an offer to sell, a solicitation to buy, or a recommendation for any security; nor does it constitute an offer to provide investment advisory or other services by Quantopian, Inc. (\"Quantopian\"). Nothing contained herein constitutes investment advice or offers any opinion with respect to the suitability of any security, and any views expressed herein should not be taken as advice to buy, sell, or hold any security or as an endorsement of any security or company.  In preparing the information contained herein, Quantopian, Inc. has not taken into account the investment needs, objectives, and financial circumstances of any particular investor. Any views expressed and data illustrated herein were prepared based upon information, believed to be reliable, available to Quantopian, Inc. at the time of publication. Quantopian makes no guarantees as to their accuracy or completeness. All information is subject to change and may quickly become unreliable for various reasons, including changes in market conditions or economic circumstances.*"
      ]
    }
  ]
}